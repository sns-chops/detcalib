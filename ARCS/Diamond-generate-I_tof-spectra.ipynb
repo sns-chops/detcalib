{
 "cells": [
  {
   "cell_type": "code",
   "execution_count": 1,
   "metadata": {},
   "outputs": [
    {
     "name": "stdout",
     "output_type": "stream",
     "text": [
      "/SNS/users/lj7/dv/sns-chops/detcalib/ARCS/out\n"
     ]
    }
   ],
   "source": [
    "workdir = \"/SNS/users/lj7/dv/sns-chops/detcalib/ARCS/out/\"\n",
    "%cd {workdir}"
   ]
  },
  {
   "cell_type": "code",
   "execution_count": 2,
   "metadata": {},
   "outputs": [],
   "source": [
    "import sys, os, numpy as np\n",
    "from matplotlib import pyplot as plt\n",
    "%matplotlib notebook"
   ]
  },
  {
   "cell_type": "code",
   "execution_count": 3,
   "metadata": {},
   "outputs": [],
   "source": [
    "sys.path.insert(0, \"/SNS/users/lj7/dv/sns-chops/detcalib/ARCS/lib/\")"
   ]
  },
  {
   "cell_type": "code",
   "execution_count": 4,
   "metadata": {},
   "outputs": [],
   "source": [
    "#sys.path"
   ]
  },
  {
   "cell_type": "code",
   "execution_count": 5,
   "metadata": {},
   "outputs": [
    {
     "data": {
      "text/plain": [
       "<module 'get_I_tof' from '/SNS/users/lj7/dv/sns-chops/detcalib/ARCS/lib/get_I_tof.pyc'>"
      ]
     },
     "execution_count": 5,
     "metadata": {},
     "output_type": "execute_result"
    }
   ],
   "source": [
    "import get_I_tof\n",
    "reload(get_I_tof)"
   ]
  },
  {
   "cell_type": "code",
   "execution_count": 12,
   "metadata": {},
   "outputs": [],
   "source": [
    "# bottom\n",
    "packtype = 'eightpack'\n",
    "packnames = ['B%s' % i for i in range(1,38+1)] \n",
    "packs = ['%s/%s' % (n, packtype) for n in packnames]"
   ]
  },
  {
   "cell_type": "code",
   "execution_count": 9,
   "metadata": {},
   "outputs": [],
   "source": [
    "# middle\n",
    "packtype = 'eightpack'\n",
    "packnames = ['M%s' % i for i in range(1,31+1)] \n",
    "packnames += ['M%s' % i for i in range(33,38+1)] \n",
    "packs = ['%s/%s' % (n, packtype) for n in packnames]\n",
    "packs += ['M32A/eightpack-top', 'M32B/eightpack-bottom']"
   ]
  },
  {
   "cell_type": "code",
   "execution_count": null,
   "metadata": {},
   "outputs": [],
   "source": [
    "# top\n",
    "packtype = 'eightpack'\n",
    "packnames = ['%s' % i for i in range(1,38+1)] \n",
    "packs = ['%s/%s' % (n, packtype) for n in packnames]"
   ]
  },
  {
   "cell_type": "code",
   "execution_count": 8,
   "metadata": {},
   "outputs": [],
   "source": [
    "# packs"
   ]
  },
  {
   "cell_type": "markdown",
   "metadata": {},
   "source": [
    "# Diamond"
   ]
  },
  {
   "cell_type": "markdown",
   "metadata": {},
   "source": [
    "## Obtain I(tof) curves for all pixels and save them"
   ]
  },
  {
   "cell_type": "markdown",
   "metadata": {},
   "source": [
    "~.5hour"
   ]
  },
  {
   "cell_type": "code",
   "execution_count": 10,
   "metadata": {
    "scrolled": true
   },
   "outputs": [
    {
     "name": "stdout",
     "output_type": "stream",
     "text": [
      "500.0 8750.0 2865\n",
      "* run times: {'ARCS_95892_event.nxs': 3723}\n",
      "* Number of TOF bins: 2864\n",
      "* Working on ARCS_95892_event.nxs\n",
      "* tstart 0.0\n",
      "array indexes of first and last pixel 38912 39935\n",
      "array indexes of first and last pixel 39936 40959\n",
      "array indexes of first and last pixel 40960 41983\n",
      "array indexes of first and last pixel 41984 43007\n",
      "array indexes of first and last pixel 43008 44031\n",
      "array indexes of first and last pixel 44032 45055\n",
      "array indexes of first and last pixel 45056 46079\n",
      "array indexes of first and last pixel 46080 47103\n",
      "array indexes of first and last pixel 47104 48127\n",
      "array indexes of first and last pixel 48128 49151\n",
      "array indexes of first and last pixel 49152 50175\n",
      "array indexes of first and last pixel 50176 51199\n",
      "array indexes of first and last pixel 51200 52223\n",
      "array indexes of first and last pixel 52224 53247\n",
      "array indexes of first and last pixel 53248 54271\n",
      "array indexes of first and last pixel 54272 55295\n",
      "array indexes of first and last pixel 55296 56319\n",
      "array indexes of first and last pixel 56320 57343\n",
      "array indexes of first and last pixel 57344 58367\n",
      "array indexes of first and last pixel 58368 59391\n",
      "array indexes of first and last pixel 59392 60415\n",
      "array indexes of first and last pixel 60416 61439\n",
      "array indexes of first and last pixel 61440 62463\n",
      "array indexes of first and last pixel 62464 63487\n",
      "array indexes of first and last pixel 63488 64511\n",
      "array indexes of first and last pixel 64512 65535\n",
      "array indexes of first and last pixel 65536 66559\n",
      "array indexes of first and last pixel 66560 67583\n",
      "array indexes of first and last pixel 67584 68607\n",
      "array indexes of first and last pixel 68608 69631\n",
      "array indexes of first and last pixel 69632 70655\n",
      "array indexes of first and last pixel 72704 73727\n",
      "array indexes of first and last pixel 73728 74751\n",
      "array indexes of first and last pixel 74752 75775\n",
      "array indexes of first and last pixel 75776 76799\n",
      "array indexes of first and last pixel 76800 77823\n",
      "array indexes of first and last pixel 77824 78847\n",
      "array indexes of first and last pixel 71680 72703\n",
      "array indexes of first and last pixel 70656 71679\n",
      "* tstart 1000.0\n",
      "array indexes of first and last pixel 38912 39935\n",
      "array indexes of first and last pixel 39936 40959\n",
      "array indexes of first and last pixel 40960 41983\n",
      "array indexes of first and last pixel 41984 43007\n",
      "array indexes of first and last pixel 43008 44031\n",
      "array indexes of first and last pixel 44032 45055\n",
      "array indexes of first and last pixel 45056 46079\n",
      "array indexes of first and last pixel 46080 47103\n",
      "array indexes of first and last pixel 47104 48127\n",
      "array indexes of first and last pixel 48128 49151\n",
      "array indexes of first and last pixel 49152 50175\n",
      "array indexes of first and last pixel 50176 51199\n",
      "array indexes of first and last pixel 51200 52223\n",
      "array indexes of first and last pixel 52224 53247\n",
      "array indexes of first and last pixel 53248 54271\n",
      "array indexes of first and last pixel 54272 55295\n",
      "array indexes of first and last pixel 55296 56319\n",
      "array indexes of first and last pixel 56320 57343\n",
      "array indexes of first and last pixel 57344 58367\n",
      "array indexes of first and last pixel 58368 59391\n",
      "array indexes of first and last pixel 59392 60415\n",
      "array indexes of first and last pixel 60416 61439\n",
      "array indexes of first and last pixel 61440 62463\n",
      "array indexes of first and last pixel 62464 63487\n",
      "array indexes of first and last pixel 63488 64511\n",
      "array indexes of first and last pixel 64512 65535\n",
      "array indexes of first and last pixel 65536 66559\n",
      "array indexes of first and last pixel 66560 67583\n",
      "array indexes of first and last pixel 67584 68607\n",
      "array indexes of first and last pixel 68608 69631\n",
      "array indexes of first and last pixel 69632 70655\n",
      "array indexes of first and last pixel 72704 73727\n",
      "array indexes of first and last pixel 73728 74751\n",
      "array indexes of first and last pixel 74752 75775\n",
      "array indexes of first and last pixel 75776 76799\n",
      "array indexes of first and last pixel 76800 77823\n",
      "array indexes of first and last pixel 77824 78847\n",
      "array indexes of first and last pixel 71680 72703\n",
      "array indexes of first and last pixel 70656 71679\n",
      "* tstart 2000.0\n",
      "array indexes of first and last pixel 38912 39935\n",
      "array indexes of first and last pixel 39936 40959\n",
      "array indexes of first and last pixel 40960 41983\n",
      "array indexes of first and last pixel 41984 43007\n",
      "array indexes of first and last pixel 43008 44031\n",
      "array indexes of first and last pixel 44032 45055\n",
      "array indexes of first and last pixel 45056 46079\n",
      "array indexes of first and last pixel 46080 47103\n",
      "array indexes of first and last pixel 47104 48127\n",
      "array indexes of first and last pixel 48128 49151\n",
      "array indexes of first and last pixel 49152 50175\n",
      "array indexes of first and last pixel 50176 51199\n",
      "array indexes of first and last pixel 51200 52223\n",
      "array indexes of first and last pixel 52224 53247\n",
      "array indexes of first and last pixel 53248 54271\n",
      "array indexes of first and last pixel 54272 55295\n",
      "array indexes of first and last pixel 55296 56319\n",
      "array indexes of first and last pixel 56320 57343\n",
      "array indexes of first and last pixel 57344 58367\n",
      "array indexes of first and last pixel 58368 59391\n",
      "array indexes of first and last pixel 59392 60415\n",
      "array indexes of first and last pixel 60416 61439\n",
      "array indexes of first and last pixel 61440 62463\n",
      "array indexes of first and last pixel 62464 63487\n",
      "array indexes of first and last pixel 63488 64511\n",
      "array indexes of first and last pixel 64512 65535\n",
      "array indexes of first and last pixel 65536 66559\n",
      "array indexes of first and last pixel 66560 67583\n",
      "array indexes of first and last pixel 67584 68607\n",
      "array indexes of first and last pixel 68608 69631\n",
      "array indexes of first and last pixel 69632 70655\n",
      "array indexes of first and last pixel 72704 73727\n",
      "array indexes of first and last pixel 73728 74751\n",
      "array indexes of first and last pixel 74752 75775\n",
      "array indexes of first and last pixel 75776 76799\n",
      "array indexes of first and last pixel 76800 77823\n",
      "array indexes of first and last pixel 77824 78847\n",
      "array indexes of first and last pixel 71680 72703\n",
      "array indexes of first and last pixel 70656 71679\n",
      "CPU times: user 29min 37s, sys: 17min 45s, total: 47min 22s\n",
      "Wall time: 16min 59s\n"
     ]
    }
   ],
   "source": [
    "%%time\n",
    "nxs_files = ['ARCS_95892_event.nxs']\n",
    "init_IDF = '../ARCS_Definition_20121011-.xml'\n",
    "outdir = 'diamond-I_tof'\n",
    "get_I_tof.get_I_tof(nxs_files, outdir, packs, dt = 1000., tofaxis=(500,1.e6/60/2.*1.05, -0.001))"
   ]
  },
  {
   "cell_type": "code",
   "execution_count": 13,
   "metadata": {
    "collapsed": true
   },
   "outputs": [],
   "source": [
    "# ls Si-I_tof/*-B*"
   ]
  },
  {
   "cell_type": "code",
   "execution_count": 23,
   "metadata": {
    "scrolled": false
   },
   "outputs": [
    {
     "name": "stdout",
     "output_type": "stream",
     "text": [
      "-rw-r--r-- 1 lj7 users 23461968 May 13 07:42 diamond-I_tof/I_tof-y-M1.npy\r\n"
     ]
    }
   ],
   "source": [
    "ls -lt diamond-I_tof/I_tof-y-M*"
   ]
  },
  {
   "cell_type": "code",
   "execution_count": null,
   "metadata": {
    "collapsed": true
   },
   "outputs": [],
   "source": []
  }
 ],
 "metadata": {
  "kernelspec": {
   "display_name": "python2-default at jnrk-sns-analysis",
   "language": "python",
   "name": "jnrk-sns-analysis-python2-default"
  },
  "language_info": {
   "codemirror_mode": {
    "name": "ipython",
    "version": 2
   },
   "file_extension": ".py",
   "mimetype": "text/x-python",
   "name": "python",
   "nbconvert_exporter": "python",
   "pygments_lexer": "ipython2",
   "version": "2.7.12"
  },
  "toc": {
   "base_numbering": 1,
   "nav_menu": {},
   "number_sections": true,
   "sideBar": true,
   "skip_h1_title": false,
   "title_cell": "Table of Contents",
   "title_sidebar": "Contents",
   "toc_cell": false,
   "toc_position": {},
   "toc_section_display": true,
   "toc_window_display": false
  }
 },
 "nbformat": 4,
 "nbformat_minor": 2
}
