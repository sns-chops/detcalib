{
 "cells": [
  {
   "cell_type": "code",
   "execution_count": 2,
   "metadata": {},
   "outputs": [
    {
     "name": "stdout",
     "output_type": "stream",
     "text": [
      "/SNS/users/lj7/dv/sns-chops/detcalib/ARCS/out\n"
     ]
    }
   ],
   "source": [
    "workdir = \"/SNS/users/lj7/dv/sns-chops/detcalib/ARCS/out/\"\n",
    "%cd {workdir}"
   ]
  },
  {
   "cell_type": "code",
   "execution_count": 3,
   "metadata": {},
   "outputs": [],
   "source": [
    "import sys, os, numpy as np\n",
    "from matplotlib import pyplot as plt\n",
    "%matplotlib notebook"
   ]
  },
  {
   "cell_type": "code",
   "execution_count": 4,
   "metadata": {},
   "outputs": [],
   "source": [
    "sys.path.insert(0, \"/SNS/users/lj7/dv/sns-chops/detcalib/ARCS/lib/\")"
   ]
  },
  {
   "cell_type": "code",
   "execution_count": 5,
   "metadata": {},
   "outputs": [],
   "source": [
    "#sys.path"
   ]
  },
  {
   "cell_type": "code",
   "execution_count": 6,
   "metadata": {},
   "outputs": [
    {
     "data": {
      "text/plain": [
       "<module 'get_I_tof' from '/SNS/users/lj7/dv/sns-chops/detcalib/ARCS/lib/get_I_tof.pyc'>"
      ]
     },
     "execution_count": 6,
     "metadata": {},
     "output_type": "execute_result"
    }
   ],
   "source": [
    "import get_I_tof\n",
    "reload(get_I_tof)"
   ]
  },
  {
   "cell_type": "code",
   "execution_count": 13,
   "metadata": {},
   "outputs": [],
   "source": [
    "packtype = 'eightpack'\n",
    "packnames = ['B%s' % i for i in range(1,38+1)] \n",
    "packs = ['%s/%s' % (n, packtype) for n in packnames]"
   ]
  },
  {
   "cell_type": "code",
   "execution_count": 8,
   "metadata": {},
   "outputs": [],
   "source": [
    "# packs"
   ]
  },
  {
   "cell_type": "markdown",
   "metadata": {},
   "source": [
    "# Diamond"
   ]
  },
  {
   "cell_type": "markdown",
   "metadata": {},
   "source": [
    "## Obtain I(tof) curves for all pixels and save them"
   ]
  },
  {
   "cell_type": "markdown",
   "metadata": {},
   "source": [
    "~.5hour"
   ]
  },
  {
   "cell_type": "code",
   "execution_count": 14,
   "metadata": {
    "scrolled": true
   },
   "outputs": [
    {
     "name": "stdout",
     "output_type": "stream",
     "text": [
      "500.0 8750.0 575\n",
      "* run times: {'ARCS_95892_event.nxs': 3723}\n",
      "* Number of TOF bins: 574\n",
      "* Working on ARCS_95892_event.nxs\n",
      "* tstart 0.0\n",
      "array indexes of first and last pixel 0 1023\n",
      "array indexes of first and last pixel 1024 2047\n",
      "array indexes of first and last pixel 2048 3071\n",
      "array indexes of first and last pixel 3072 4095\n",
      "array indexes of first and last pixel 4096 5119\n",
      "array indexes of first and last pixel 5120 6143\n",
      "array indexes of first and last pixel 6144 7167\n",
      "array indexes of first and last pixel 7168 8191\n",
      "array indexes of first and last pixel 8192 9215\n",
      "array indexes of first and last pixel 9216 10239\n",
      "array indexes of first and last pixel 10240 11263\n",
      "array indexes of first and last pixel 11264 12287\n",
      "array indexes of first and last pixel 12288 13311\n",
      "array indexes of first and last pixel 13312 14335\n",
      "array indexes of first and last pixel 14336 15359\n",
      "array indexes of first and last pixel 15360 16383\n",
      "array indexes of first and last pixel 16384 17407\n",
      "array indexes of first and last pixel 17408 18431\n",
      "array indexes of first and last pixel 18432 19455\n",
      "array indexes of first and last pixel 19456 20479\n",
      "array indexes of first and last pixel 20480 21503\n",
      "array indexes of first and last pixel 21504 22527\n",
      "array indexes of first and last pixel 22528 23551\n",
      "array indexes of first and last pixel 23552 24575\n",
      "array indexes of first and last pixel 24576 25599\n",
      "array indexes of first and last pixel 25600 26623\n",
      "array indexes of first and last pixel 26624 27647\n",
      "array indexes of first and last pixel 27648 28671\n",
      "array indexes of first and last pixel 28672 29695\n",
      "array indexes of first and last pixel 29696 30719\n",
      "array indexes of first and last pixel 30720 31743\n",
      "array indexes of first and last pixel 31744 32767\n",
      "array indexes of first and last pixel 32768 33791\n",
      "array indexes of first and last pixel 33792 34815\n",
      "array indexes of first and last pixel 34816 35839\n",
      "array indexes of first and last pixel 35840 36863\n",
      "array indexes of first and last pixel 36864 37887\n",
      "array indexes of first and last pixel 37888 38911\n",
      "* tstart 1000.0\n",
      "array indexes of first and last pixel 0 1023\n",
      "array indexes of first and last pixel 1024 2047\n",
      "array indexes of first and last pixel 2048 3071\n",
      "array indexes of first and last pixel 3072 4095\n",
      "array indexes of first and last pixel 4096 5119\n",
      "array indexes of first and last pixel 5120 6143\n",
      "array indexes of first and last pixel 6144 7167\n",
      "array indexes of first and last pixel 7168 8191\n",
      "array indexes of first and last pixel 8192 9215\n",
      "array indexes of first and last pixel 9216 10239\n",
      "array indexes of first and last pixel 10240 11263\n",
      "array indexes of first and last pixel 11264 12287\n",
      "array indexes of first and last pixel 12288 13311\n",
      "array indexes of first and last pixel 13312 14335\n",
      "array indexes of first and last pixel 14336 15359\n",
      "array indexes of first and last pixel 15360 16383\n",
      "array indexes of first and last pixel 16384 17407\n",
      "array indexes of first and last pixel 17408 18431\n",
      "array indexes of first and last pixel 18432 19455\n",
      "array indexes of first and last pixel 19456 20479\n",
      "array indexes of first and last pixel 20480 21503\n",
      "array indexes of first and last pixel 21504 22527\n",
      "array indexes of first and last pixel 22528 23551\n",
      "array indexes of first and last pixel 23552 24575\n",
      "array indexes of first and last pixel 24576 25599\n",
      "array indexes of first and last pixel 25600 26623\n",
      "array indexes of first and last pixel 26624 27647\n",
      "array indexes of first and last pixel 27648 28671\n",
      "array indexes of first and last pixel 28672 29695\n",
      "array indexes of first and last pixel 29696 30719\n",
      "array indexes of first and last pixel 30720 31743\n",
      "array indexes of first and last pixel 31744 32767\n",
      "array indexes of first and last pixel 32768 33791\n",
      "array indexes of first and last pixel 33792 34815\n",
      "array indexes of first and last pixel 34816 35839\n",
      "array indexes of first and last pixel 35840 36863\n",
      "array indexes of first and last pixel 36864 37887\n",
      "array indexes of first and last pixel 37888 38911\n",
      "* tstart 2000.0\n",
      "array indexes of first and last pixel 0 1023\n",
      "array indexes of first and last pixel 1024 2047\n",
      "array indexes of first and last pixel 2048 3071\n",
      "array indexes of first and last pixel 3072 4095\n",
      "array indexes of first and last pixel 4096 5119\n",
      "array indexes of first and last pixel 5120 6143\n",
      "array indexes of first and last pixel 6144 7167\n",
      "array indexes of first and last pixel 7168 8191\n",
      "array indexes of first and last pixel 8192 9215\n",
      "array indexes of first and last pixel 9216 10239\n",
      "array indexes of first and last pixel 10240 11263\n",
      "array indexes of first and last pixel 11264 12287\n",
      "array indexes of first and last pixel 12288 13311\n",
      "array indexes of first and last pixel 13312 14335\n",
      "array indexes of first and last pixel 14336 15359\n",
      "array indexes of first and last pixel 15360 16383\n",
      "array indexes of first and last pixel 16384 17407\n",
      "array indexes of first and last pixel 17408 18431\n",
      "array indexes of first and last pixel 18432 19455\n",
      "array indexes of first and last pixel 19456 20479\n",
      "array indexes of first and last pixel 20480 21503\n",
      "array indexes of first and last pixel 21504 22527\n",
      "array indexes of first and last pixel 22528 23551\n",
      "array indexes of first and last pixel 23552 24575\n",
      "array indexes of first and last pixel 24576 25599\n",
      "array indexes of first and last pixel 25600 26623\n",
      "array indexes of first and last pixel 26624 27647\n",
      "array indexes of first and last pixel 27648 28671\n",
      "array indexes of first and last pixel 28672 29695\n",
      "array indexes of first and last pixel 29696 30719\n",
      "array indexes of first and last pixel 30720 31743\n",
      "array indexes of first and last pixel 31744 32767\n",
      "array indexes of first and last pixel 32768 33791\n",
      "array indexes of first and last pixel 33792 34815\n",
      "array indexes of first and last pixel 34816 35839\n",
      "array indexes of first and last pixel 35840 36863\n",
      "array indexes of first and last pixel 36864 37887\n",
      "array indexes of first and last pixel 37888 38911\n",
      "CPU times: user 27min 6s, sys: 7min 50s, total: 34min 56s\n",
      "Wall time: 15min 35s\n"
     ]
    }
   ],
   "source": [
    "%%time\n",
    "nxs_files = ['ARCS_95892_event.nxs']\n",
    "init_IDF = '../ARCS_Definition_20121011-.xml'\n",
    "outdir = 'diamond-I_tof'\n",
    "get_I_tof.get_I_tof(nxs_files, outdir, packs, dt = 1000., tofaxis=(500,1.e6/60/2.*1.05, -0.005))"
   ]
  },
  {
   "cell_type": "code",
   "execution_count": 13,
   "metadata": {
    "collapsed": true
   },
   "outputs": [],
   "source": [
    "# ls Si-I_tof/*-B*"
   ]
  },
  {
   "cell_type": "code",
   "execution_count": 15,
   "metadata": {
    "scrolled": false
   },
   "outputs": [
    {
     "name": "stdout",
     "output_type": "stream",
     "text": [
      "detIDs.npy       I_tof-y-B27.npy  I_tof-y_matrix.npy  pack-B28.yaml\r\n",
      "I_tof-xbb.npy    I_tof-y-B28.npy  pack-B10.yaml       pack-B29.yaml\r\n",
      "I_tof-y-B10.npy  I_tof-y-B29.npy  pack-B11.yaml       pack-B2.yaml\r\n",
      "I_tof-y-B11.npy  I_tof-y-B2.npy   pack-B12.yaml       pack-B30.yaml\r\n",
      "I_tof-y-B12.npy  I_tof-y-B30.npy  pack-B13.yaml       pack-B31.yaml\r\n",
      "I_tof-y-B13.npy  I_tof-y-B31.npy  pack-B14.yaml       pack-B32.yaml\r\n",
      "I_tof-y-B14.npy  I_tof-y-B32.npy  pack-B15.yaml       pack-B33.yaml\r\n",
      "I_tof-y-B15.npy  I_tof-y-B33.npy  pack-B16.yaml       pack-B34.yaml\r\n",
      "I_tof-y-B16.npy  I_tof-y-B34.npy  pack-B17.yaml       pack-B35.yaml\r\n",
      "I_tof-y-B17.npy  I_tof-y-B35.npy  pack-B18.yaml       pack-B36.yaml\r\n",
      "I_tof-y-B18.npy  I_tof-y-B36.npy  pack-B19.yaml       pack-B37.yaml\r\n",
      "I_tof-y-B19.npy  I_tof-y-B37.npy  pack-B1.yaml        pack-B38.yaml\r\n",
      "I_tof-y-B1.npy   I_tof-y-B38.npy  pack-B20.yaml       pack-B3.yaml\r\n",
      "I_tof-y-B20.npy  I_tof-y-B3.npy   pack-B21.yaml       pack-B4.yaml\r\n",
      "I_tof-y-B21.npy  I_tof-y-B4.npy   pack-B22.yaml       pack-B5.yaml\r\n",
      "I_tof-y-B22.npy  I_tof-y-B5.npy   pack-B23.yaml       pack-B6.yaml\r\n",
      "I_tof-y-B23.npy  I_tof-y-B6.npy   pack-B24.yaml       pack-B7.yaml\r\n",
      "I_tof-y-B24.npy  I_tof-y-B7.npy   pack-B25.yaml       pack-B8.yaml\r\n",
      "I_tof-y-B25.npy  I_tof-y-B8.npy   pack-B26.yaml       pack-B9.yaml\r\n",
      "I_tof-y-B26.npy  I_tof-y-B9.npy   pack-B27.yaml\r\n"
     ]
    }
   ],
   "source": [
    "ls diamond-I_tof/"
   ]
  },
  {
   "cell_type": "code",
   "execution_count": null,
   "metadata": {
    "collapsed": true
   },
   "outputs": [],
   "source": []
  }
 ],
 "metadata": {
  "kernelspec": {
   "display_name": "python2-default at jnrk-sns-analysis",
   "language": "python",
   "name": "jnrk-sns-analysis-python2-default"
  },
  "language_info": {
   "codemirror_mode": {
    "name": "ipython",
    "version": 2
   },
   "file_extension": ".py",
   "mimetype": "text/x-python",
   "name": "python",
   "nbconvert_exporter": "python",
   "pygments_lexer": "ipython2",
   "version": "2.7.12"
  },
  "toc": {
   "base_numbering": 1,
   "nav_menu": {},
   "number_sections": true,
   "sideBar": true,
   "skip_h1_title": false,
   "title_cell": "Table of Contents",
   "title_sidebar": "Contents",
   "toc_cell": false,
   "toc_position": {},
   "toc_section_display": true,
   "toc_window_display": false
  }
 },
 "nbformat": 4,
 "nbformat_minor": 2
}
