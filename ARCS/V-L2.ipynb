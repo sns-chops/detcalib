{
 "cells": [
  {
   "cell_type": "code",
   "execution_count": 82,
   "metadata": {},
   "outputs": [
    {
     "name": "stdout",
     "output_type": "stream",
     "text": [
      "/SNS/users/lj7/dv/sns-chops/detcalib/ARCS/out\n"
     ]
    }
   ],
   "source": [
    "workdir = '/SNS/users/lj7/dv/sns-chops/detcalib/ARCS/out'\n",
    "!mkdir -p {workdir}\n",
    "%cd {workdir}"
   ]
  },
  {
   "cell_type": "markdown",
   "metadata": {},
   "source": [
    "# Explore"
   ]
  },
  {
   "cell_type": "code",
   "execution_count": 1,
   "metadata": {},
   "outputs": [],
   "source": [
    "%matplotlib inline"
   ]
  },
  {
   "cell_type": "code",
   "execution_count": 2,
   "metadata": {},
   "outputs": [],
   "source": [
    "from matplotlib import pyplot as plt\n",
    "import numpy as np, os\n",
    "from mantid import simpleapi as msa, mtd"
   ]
  },
  {
   "cell_type": "markdown",
   "metadata": {},
   "source": [
    "IPTS-19579. run 95840. Vanadium 3x3cm2. Ei 60meV. FC 420HZ. T0 60Hz."
   ]
  },
  {
   "cell_type": "markdown",
   "metadata": {},
   "source": [
    "Read data"
   ]
  },
  {
   "cell_type": "code",
   "execution_count": 52,
   "metadata": {},
   "outputs": [],
   "source": [
    "runs= [95861, 95863, 95865, 95867, 95869, 95871, 95873, 95875]\n",
    "filelist = ['ARCS_%s_event.nxs' % r for r in runs]"
   ]
  },
  {
   "cell_type": "markdown",
   "metadata": {},
   "source": [
    "Calculate Ei and T0"
   ]
  },
  {
   "cell_type": "code",
   "execution_count": 53,
   "metadata": {},
   "outputs": [
    {
     "name": "stdout",
     "output_type": "stream",
     "text": [
      "ARCS_95861_event.nxs\n",
      "ARCS_95863_event.nxs\n",
      "ARCS_95865_event.nxs\n",
      "ARCS_95867_event.nxs\n",
      "ARCS_95869_event.nxs\n",
      "ARCS_95871_event.nxs\n",
      "ARCS_95873_event.nxs\n",
      "ARCS_95875_event.nxs\n"
     ]
    },
    {
     "data": {
      "text/plain": [
       "(59.320433429204641, 29.972871089709656)"
      ]
     },
     "execution_count": 53,
     "metadata": {},
     "output_type": "execute_result"
    }
   ],
   "source": [
    "Eis = []; T0s = []\n",
    "for f in filelist:\n",
    "    print f\n",
    "    mons = msa.LoadNexusMonitors(f)\n",
    "    Ei, T0 = msa.GetEiT0atSNS(mons)\n",
    "    Eis.append(Ei)\n",
    "    T0s.append(T0)\n",
    "    continue\n",
    "Ei = np.mean(Eis)\n",
    "T0 = np.mean(T0s)\n",
    "Ei, T0"
   ]
  },
  {
   "cell_type": "code",
   "execution_count": 55,
   "metadata": {},
   "outputs": [],
   "source": [
    "# Eis, T0s"
   ]
  },
  {
   "cell_type": "code",
   "execution_count": 56,
   "metadata": {},
   "outputs": [],
   "source": [
    "files = '+'.join(filelist)\n",
    "w = msa.Load(files)"
   ]
  },
  {
   "cell_type": "markdown",
   "metadata": {},
   "source": [
    "Get vi"
   ]
  },
  {
   "cell_type": "code",
   "execution_count": 57,
   "metadata": {},
   "outputs": [
    {
     "data": {
      "text/plain": [
       "(59.320433429204641, 29.972871089709656)"
      ]
     },
     "execution_count": 57,
     "metadata": {},
     "output_type": "execute_result"
    }
   ],
   "source": [
    "Ei, T0"
   ]
  },
  {
   "cell_type": "code",
   "execution_count": 58,
   "metadata": {},
   "outputs": [
    {
     "data": {
      "text/plain": [
       "3368.8442775435583"
      ]
     },
     "execution_count": 58,
     "metadata": {},
     "output_type": "execute_result"
    }
   ],
   "source": [
    "vi = 437.4*np.sqrt(Ei)\n",
    "vi"
   ]
  },
  {
   "cell_type": "markdown",
   "metadata": {},
   "source": [
    "Get L1, t1"
   ]
  },
  {
   "cell_type": "code",
   "execution_count": 59,
   "metadata": {},
   "outputs": [],
   "source": [
    "instr = w.getInstrument()"
   ]
  },
  {
   "cell_type": "code",
   "execution_count": 60,
   "metadata": {},
   "outputs": [
    {
     "name": "stdout",
     "output_type": "stream",
     "text": [
      "[0,0,-13.6]\n",
      "[0,0,0]\n"
     ]
    }
   ],
   "source": [
    "print instr.getSource().getPos()\n",
    "print instr.getSample().getPos()"
   ]
  },
  {
   "cell_type": "code",
   "execution_count": 61,
   "metadata": {},
   "outputs": [],
   "source": [
    "L1 = (instr.getSample().getPos() - instr.getSource().getPos())[-1]"
   ]
  },
  {
   "cell_type": "code",
   "execution_count": 62,
   "metadata": {},
   "outputs": [
    {
     "data": {
      "text/plain": [
       "13.6"
      ]
     },
     "execution_count": 62,
     "metadata": {},
     "output_type": "execute_result"
    }
   ],
   "source": [
    "L1"
   ]
  },
  {
   "cell_type": "code",
   "execution_count": 63,
   "metadata": {},
   "outputs": [
    {
     "data": {
      "text/plain": [
       "4036.9927724639847"
      ]
     },
     "execution_count": 63,
     "metadata": {},
     "output_type": "execute_result"
    }
   ],
   "source": [
    "t1 = L1/vi*1e6\n",
    "t1"
   ]
  },
  {
   "cell_type": "markdown",
   "metadata": {},
   "source": [
    "To histogram"
   ]
  },
  {
   "cell_type": "code",
   "execution_count": 64,
   "metadata": {},
   "outputs": [
    {
     "data": {
      "text/plain": [
       "EventWorkspace\n",
       "Title: 95861 Vanadium on rotator 0deg Ch2 60meV 420Hz T0 30Hz coll DOWN\n",
       "Histograms: 117760\n",
       "Bins: 16667\n",
       "Histogram\n",
       "X axis: Time-of-flight / microsecond\n",
       "Y axis: Counts\n",
       "Distribution: False\n",
       "Instrument: ARCS (2012-Oct-11 to 2100-Jan-31)Instrument from: /SNS/software/miniconda2/envs/py2/instrument/ARCS_Definition_20121011-.xml\n",
       "\n",
       "Parameters from: /SNS/software/miniconda2/envs/py2/instrument/ARCS_Parameters.xml\n",
       "Run start: 2017-Jul-15 13:58:50\n",
       "Run end:  2017-Jul-15 15:06:53\n",
       "\n",
       "Events: 116156960"
      ]
     },
     "execution_count": 64,
     "metadata": {},
     "output_type": "execute_result"
    }
   ],
   "source": [
    "msa.Rebin(InputWorkspace=w, OutputWorkspace=w, Params=\"0,1.,16667\")"
   ]
  },
  {
   "cell_type": "markdown",
   "metadata": {},
   "source": [
    "Nominal L2"
   ]
  },
  {
   "cell_type": "code",
   "execution_count": 65,
   "metadata": {},
   "outputs": [
    {
     "data": {
      "text/plain": [
       "2.9927453074556238"
      ]
     },
     "execution_count": 65,
     "metadata": {},
     "output_type": "execute_result"
    }
   ],
   "source": [
    "L2 = np.linalg.norm(instr.getDetector(40000).getPos())\n",
    "L2"
   ]
  },
  {
   "cell_type": "code",
   "execution_count": 66,
   "metadata": {},
   "outputs": [
    {
     "data": {
      "text/plain": [
       "4955.3252888495672"
      ]
     },
     "execution_count": 66,
     "metadata": {},
     "output_type": "execute_result"
    }
   ],
   "source": [
    "(L1+L2)/vi * 1e6 + T0"
   ]
  },
  {
   "cell_type": "code",
   "execution_count": 67,
   "metadata": {},
   "outputs": [
    {
     "data": {
      "text/plain": [
       "[<matplotlib.lines.Line2D at 0x7ff17e0c1150>]"
      ]
     },
     "execution_count": 67,
     "metadata": {},
     "output_type": "execute_result"
    },
    {
     "data": {
      "image/png": "[encoded data removed]",
      "text/plain": [
       "<matplotlib.figure.Figure at 0x7ff0c85be390>"
      ]
     },
     "metadata": {},
     "output_type": "display_data"
    }
   ],
   "source": [
    "plt.plot(w.readY(40000)[4000:6000])"
   ]
  },
  {
   "cell_type": "markdown",
   "metadata": {},
   "source": [
    "Simple estimate of peak position"
   ]
  },
  {
   "cell_type": "code",
   "execution_count": 68,
   "metadata": {},
   "outputs": [
    {
     "data": {
      "text/plain": [
       "4963"
      ]
     },
     "execution_count": 68,
     "metadata": {},
     "output_type": "execute_result"
    }
   ],
   "source": [
    "t = np.argmax(w.readY(40000))\n",
    "t"
   ]
  },
  {
   "cell_type": "code",
   "execution_count": 69,
   "metadata": {},
   "outputs": [
    {
     "data": {
      "text/plain": [
       "896.03435644630565"
      ]
     },
     "execution_count": 69,
     "metadata": {},
     "output_type": "execute_result"
    }
   ],
   "source": [
    "t2 = t - t1 - T0\n",
    "t2"
   ]
  },
  {
   "cell_type": "code",
   "execution_count": 70,
   "metadata": {},
   "outputs": [
    {
     "data": {
      "text/plain": [
       "3.018600214196562"
      ]
     },
     "execution_count": 70,
     "metadata": {},
     "output_type": "execute_result"
    }
   ],
   "source": [
    "d = t2*vi/1e6\n",
    "d"
   ]
  },
  {
   "cell_type": "markdown",
   "metadata": {},
   "source": [
    "Pretty close"
   ]
  },
  {
   "cell_type": "code",
   "execution_count": 71,
   "metadata": {},
   "outputs": [
    {
     "name": "stdout",
     "output_type": "stream",
     "text": [
      "3.0186002142 2.99274530746\n"
     ]
    }
   ],
   "source": [
    "print d, L2"
   ]
  },
  {
   "cell_type": "markdown",
   "metadata": {},
   "source": [
    "Better estimate of peak position"
   ]
  },
  {
   "cell_type": "code",
   "execution_count": 72,
   "metadata": {},
   "outputs": [
    {
     "name": "stdout",
     "output_type": "stream",
     "text": [
      "4955.32528885\n"
     ]
    }
   ],
   "source": [
    "tof_0 = (L1+L2)/vi * 1e6 + T0\n",
    "print tof_0"
   ]
  },
  {
   "cell_type": "code",
   "execution_count": 73,
   "metadata": {},
   "outputs": [
    {
     "name": "stdout",
     "output_type": "stream",
     "text": [
      "4949.6584507\n"
     ]
    }
   ],
   "source": [
    "spectrum_number = 40000\n",
    "spectrum = w.readY(spectrum_number)\n",
    "center_bin = int(tof_0)\n",
    "subset = spectrum[center_bin-100: center_bin+100]\n",
    "center = np.dot(subset, np.arange(center_bin-100+.5, center_bin+100+.5))/np.sum(subset)\n",
    "print center"
   ]
  },
  {
   "cell_type": "code",
   "execution_count": 74,
   "metadata": {},
   "outputs": [
    {
     "name": "stdout",
     "output_type": "stream",
     "text": [
      "2.9736546122 2.99274530746\n"
     ]
    }
   ],
   "source": [
    "t = center\n",
    "print (t - t1 - T0)*vi/1e6, L2"
   ]
  },
  {
   "cell_type": "markdown",
   "metadata": {},
   "source": [
    "# Now go through all pixels"
   ]
  },
  {
   "cell_type": "code",
   "execution_count": 75,
   "metadata": {},
   "outputs": [],
   "source": [
    "N = w.getNumberHistograms()"
   ]
  },
  {
   "cell_type": "code",
   "execution_count": 76,
   "metadata": {},
   "outputs": [],
   "source": [
    "def iterL2(min_counts=20):\n",
    "    for i in range(N):\n",
    "        if i%10000==0: print i\n",
    "        sp = w.getSpectrum(i)\n",
    "        pixelID = sp.getDetectorIDs()[0]\n",
    "        spectrum = w.readY(i)\n",
    "        nominal_L2 = np.linalg.norm(instr.getDetector(pixelID).getPos())\n",
    "        tot_counts = np.sum(spectrum)\n",
    "        if tot_counts == 0:\n",
    "            yield i, pixelID, nominal_L2, -1, tot_counts # dets not installed\n",
    "            continue\n",
    "        nominal_TOF = (L1+nominal_L2)/vi * 1e6 + T0\n",
    "        center_bin = int(nominal_TOF)\n",
    "        subset = spectrum[center_bin-100: center_bin+100]\n",
    "        center = np.dot(subset, np.arange(center_bin-100+.5, center_bin+100+.5))/np.sum(subset)\n",
    "        t = center\n",
    "        L2 = (t - t1 - T0)*vi/1e6\n",
    "        # assert abs(nominal_L2-L2)/nominal_L2<0.1\n",
    "        yield i, pixelID, nominal_L2, L2, tot_counts\n",
    "        continue"
   ]
  },
  {
   "cell_type": "code",
   "execution_count": 77,
   "metadata": {
    "scrolled": true
   },
   "outputs": [
    {
     "name": "stdout",
     "output_type": "stream",
     "text": [
      "0\n"
     ]
    },
    {
     "name": "stderr",
     "output_type": "stream",
     "text": [
      "/SNS/software/miniconda2/envs/py2/lib/python2.7/site-packages/ipykernel/__main__.py:15: RuntimeWarning:\n",
      "\n",
      "invalid value encountered in double_scalars\n",
      "\n"
     ]
    },
    {
     "name": "stdout",
     "output_type": "stream",
     "text": [
      "10000\n",
      "20000\n",
      "30000\n",
      "40000\n",
      "50000\n",
      "60000\n",
      "70000\n",
      "80000\n",
      "90000\n",
      "100000\n",
      "110000\n",
      "CPU times: user 13min 31s, sys: 5min 10s, total: 18min 41s\n",
      "Wall time: 41.8 s\n"
     ]
    }
   ],
   "source": [
    "%%time\n",
    "L2s = list(iterL2(min_counts=1))"
   ]
  },
  {
   "cell_type": "code",
   "execution_count": 31,
   "metadata": {},
   "outputs": [],
   "source": [
    "#Debug code:\n",
    "#for spectrumNo, pixelID, L2_0, L2, tot_counts in L2s:\n",
    "#    if L2 < 0: continue\n",
    "#    if L2 == 0 or abs(L2_0-L2)/L2_0 > 0.01:\n",
    "#        print spectrumNo, pixelID, L2_0, L2, tot_counts"
   ]
  },
  {
   "cell_type": "code",
   "execution_count": 32,
   "metadata": {},
   "outputs": [],
   "source": [
    "#Debug code:\n",
    "#L2s[:10]"
   ]
  },
  {
   "cell_type": "code",
   "execution_count": 89,
   "metadata": {},
   "outputs": [],
   "source": [
    "L2table = msa.CreateEmptyTableWorkspace()"
   ]
  },
  {
   "cell_type": "code",
   "execution_count": 79,
   "metadata": {},
   "outputs": [
    {
     "name": "stdout",
     "output_type": "stream",
     "text": [
      "CPU times: user 471 ms, sys: 131 ms, total: 603 ms\n",
      "Wall time: 496 ms\n"
     ]
    }
   ],
   "source": [
    "%%time\n",
    "L2table.addColumn(type='int', name='detid')\n",
    "L2table.addColumn(type='float', name=\"L2\")\n",
    "L2table.addColumn(type='int', name=\"nodata\")\n",
    "\n",
    "for spectrumNo, pixelID, L2_0, L2, tot_counts in L2s:\n",
    "    row = dict(detid=pixelID, L2=L2, nodata=int(L2<0 or tot_counts<100))\n",
    "    L2table.addRow(row)"
   ]
  },
  {
   "cell_type": "code",
   "execution_count": 83,
   "metadata": {},
   "outputs": [],
   "source": [
    "msa.SaveNexus(L2table, 'L2table.nxs')"
   ]
  },
  {
   "cell_type": "code",
   "execution_count": 85,
   "metadata": {},
   "outputs": [
    {
     "name": "stdout",
     "output_type": "stream",
     "text": [
      "L2table.nxs\r\n"
     ]
    }
   ],
   "source": [
    "ls"
   ]
  },
  {
   "cell_type": "code",
   "execution_count": 88,
   "metadata": {},
   "outputs": [
    {
     "data": {
      "text/plain": [
       "[(0, 0, 3.517328557280551, 3.5155047451342365, 2.0),\n",
       " (1, 1, 3.5137600325776206, 3.5009064199315487, 5.0),\n",
       " (2, 2, 3.5102054800849598, 3.5153363029203581, 27.0),\n",
       " (3, 3, 3.5066649422916187, 3.4900315541935121, 80.0),\n",
       " (4, 4, 3.5031384616905568, 3.470341176538418, 268.0),\n",
       " (5, 5, 3.4996260807769568, 3.4866573581119638, 719.0),\n",
       " (6, 6, 3.4961278420465236, 3.4815718751714715, 958.0),\n",
       " (7, 7, 3.4926437879937717, 3.4858525088149395, 908.0),\n",
       " (8, 8, 3.4891739611102914, 3.4785547461155732, 909.0),\n",
       " (9, 9, 3.4857184038830047, 3.4727111790294041, 944.0),\n",
       " (10, 10, 3.4822771587924017, 3.4707988340335207, 920.0),\n",
       " (11, 11, 3.4788502683107652, 3.4722824214630892, 947.0),\n",
       " (12, 12, 3.4754377749003766, 3.4589830244776731, 904.0),\n",
       " (13, 13, 3.4720397210117113, 3.4623551666938126, 988.0),\n",
       " (14, 14, 3.4686561490816126, 3.4444447207959645, 1001.0),\n",
       " (15, 15, 3.4652871015314566, 3.4500658236536053, 965.0),\n",
       " (16, 16, 3.4619326207652974, 3.4543692451868493, 979.0),\n",
       " (17, 17, 3.4585927491680026, 3.4486866726151861, 915.0),\n",
       " (18, 18, 3.4552675291033661, 3.4378938304607556, 984.0),\n",
       " (19, 19, 3.4519570029122151, 3.4329280740521932, 939.0),\n",
       " (20, 20, 3.4486612129104941, 3.430049092777169, 931.0),\n",
       " (21, 21, 3.445380201387342, 3.4368862292970954, 939.0),\n",
       " (22, 22, 3.4421140106031469, 3.4229541979754425, 909.0),\n",
       " (23, 23, 3.438862682787593, 3.4241357402916965, 929.0),\n",
       " (24, 24, 3.4356262601376883, 3.4234685501446225, 898.0),\n",
       " (25, 25, 3.432404784815783, 3.4227002249107925, 917.0),\n",
       " (26, 26, 3.4291982989475662, 3.4169071720385933, 957.0),\n",
       " (27, 27, 3.4260068446200576, 3.4114806927033032, 965.0),\n",
       " (28, 28, 3.4228304638795772, 3.4068670146113744, 956.0),\n",
       " (29, 29, 3.4196691987297076, 3.4059276031599359, 930.0),\n",
       " (30, 30, 3.4165230911292377, 3.4033754229701012, 948.0),\n",
       " (31, 31, 3.4133921829900942, 3.3949098847641999, 900.0),\n",
       " (32, 32, 3.4102765161752622, 3.3893823297125363, 917.0),\n",
       " (33, 33, 3.4071761324966867, 3.3959943611469718, 955.0),\n",
       " (34, 34, 3.4040910737131695, 3.3893367143055482, 997.0),\n",
       " (35, 35, 3.4010213815282433, 3.3894629852724929, 973.0),\n",
       " (36, 36, 3.3979670975880389, 3.3747376614192648, 979.0),\n",
       " (37, 37, 3.3949282634791387, 3.3828648595257311, 952.0),\n",
       " (38, 38, 3.3919049207264171, 3.3751690203755422, 1006.0),\n",
       " (39, 39, 3.3888971107908663, 3.3691364363008782, 984.0),\n",
       " (40, 40, 3.3859048750674141, 3.366226361902918, 1004.0),\n",
       " (41, 41, 3.3829282548827253, 3.3660969925103505, 1011.0),\n",
       " (42, 42, 3.379967291492993, 3.3657481085231855, 910.0),\n",
       " (43, 43, 3.3770220260817196, 3.3631977599482958, 1005.0),\n",
       " (44, 44, 3.3740924997574804, 3.3527678320496719, 992.0),\n",
       " (45, 45, 3.3711787535516833, 3.3482903329365246, 946.0),\n",
       " (46, 46, 3.3682808284163124, 3.3517156856697352, 969.0),\n",
       " (47, 47, 3.365398765221661, 3.3519349839974608, 1007.0),\n",
       " (48, 48, 3.3625326047540538, 3.3442909997946826, 972.0),\n",
       " (49, 49, 3.3596823877135589, 3.3418796939069901, 1035.0),\n",
       " (50, 50, 3.3568481547116904, 3.3451440972393103, 1033.0),\n",
       " (51, 51, 3.354029946269097, 3.3322229922405922, 974.0),\n",
       " (52, 52, 3.3512278028132436, 3.3368964606757823, 962.0),\n",
       " (53, 53, 3.3484417646760831, 3.3346787349742462, 1033.0),\n",
       " (54, 54, 3.3456718720917151, 3.3278107210263417, 1081.0),\n",
       " (55, 55, 3.3429181651940389, 3.3263956316476713, 1066.0),\n",
       " (56, 56, 3.3401806840143964, 3.3250554875415612, 1058.0),\n",
       " (57, 57, 3.3374594684792025, 3.3200449727592534, 992.0),\n",
       " (58, 58, 3.3347545584075724, 3.3160644522333382, 1047.0),\n",
       " (59, 59, 3.3320659935089343, 3.3166578156830044, 1037.0),\n",
       " (60, 60, 3.3293938133806402, 3.3144326051262079, 1031.0),\n",
       " (61, 61, 3.3267380575055623, 3.3090163559259791, 1029.0),\n",
       " (62, 62, 3.3240987652496852, 3.3006723311521386, 1084.0),\n",
       " (63, 63, 3.3214759758596899, 3.3044366918378576, 1084.0),\n",
       " (64, 64, 3.3188697284605313, 3.3070252807834781, 1059.0),\n",
       " (65, 65, 3.3162800620530049, 3.2985795055965372, 1068.0),\n",
       " (66, 66, 3.3137070155113113, 3.2980745336840451, 1032.0),\n",
       " (67, 67, 3.3111506275806124, 3.2992681554399179, 1105.0),\n",
       " (68, 68, 3.3086109368745795, 3.2886501974277857, 1083.0),\n",
       " (69, 69, 3.3060879818729387, 3.2909195827745559, 1083.0),\n",
       " (70, 70, 3.3035818009190088, 3.2908494477842658, 1041.0),\n",
       " (71, 71, 3.3010924322172319, 3.2812332380353668, 1014.0),\n",
       " (72, 72, 3.298619913830704, 3.286796674239882, 1098.0),\n",
       " (73, 73, 3.2961642836786944, 3.2828163779536426, 1078.0),\n",
       " (74, 74, 3.2937255795341667, 3.2743286310353388, 1046.0),\n",
       " (75, 75, 3.2913038390212899, 3.270448203019626, 1080.0),\n",
       " (76, 76, 3.2888990996129515, 3.2652534109936209, 1060.0),\n",
       " (77, 77, 3.2865113986282597, 3.2716732593163544, 1041.0),\n",
       " (78, 78, 3.2841407732300518, 3.2648420961530706, 1068.0),\n",
       " (79, 79, 3.2817872604223877, 3.2651733587985663, 1077.0),\n",
       " (80, 80, 3.2794508970480534, 3.263216733230025, 1072.0),\n",
       " (81, 81, 3.277131719786051, 3.2621764628989802, 1081.0),\n",
       " (82, 82, 3.2748297651490956, 3.2650289855376542, 1121.0),\n",
       " (83, 83, 3.2725450694811036, 3.2435548975736483, 1115.0),\n",
       " (84, 84, 3.2702776689546837, 3.2592058260879151, 1139.0),\n",
       " (85, 85, 3.2680275995686268, 3.2529897851260077, 1112.0),\n",
       " (86, 86, 3.2657948971453918, 3.2435555635002378, 1129.0),\n",
       " (87, 87, 3.2635795973285959, 3.2442342326093421, 1107.0),\n",
       " (88, 88, 3.261381735580501, 3.2375599172626703, 1119.0),\n",
       " (89, 89, 3.2592013471795021, 3.2403945806130623, 1158.0),\n",
       " (90, 90, 3.2570384672176167, 3.2303006098134048, 1130.0),\n",
       " (91, 91, 3.2548931305979742, 3.2404565656417974, 1124.0),\n",
       " (92, 92, 3.2527653720323082, 3.2373903214410573, 1156.0),\n",
       " (93, 93, 3.2506552260384494, 3.2284611653074684, 1144.0),\n",
       " (94, 94, 3.2485627269378194, 3.2402112128840717, 1141.0),\n",
       " (95, 95, 3.2464879088529317, 3.2285769615370303, 1082.0),\n",
       " (96, 96, 3.2444308057048898, 3.2225222404253309, 1100.0),\n",
       " (97, 97, 3.2423914512108931, 3.2213847742838833, 1147.0),\n",
       " (98, 98, 3.2403698788817432, 3.2237378443859099, 1149.0),\n",
       " (99, 99, 3.2383661220193556, 3.2221504740434503, 1100.0),\n",
       " (100, 100, 3.2363802137142792, 3.2145786766204001, 1050.0),\n",
       " (101, 101, 3.234412186843211, 3.2156493287614669, 1182.0),\n",
       " (102, 102, 3.2324620740665284, 3.2231444624264958, 1172.0),\n",
       " (103, 103, 3.2305299078258169, 3.2101109903171108, 1173.0),\n",
       " (104, 104, 3.2286157203414101, 3.2137834083902463, 1120.0),\n",
       " (105, 105, 3.2267195436099314, 3.2083028980507469, 1182.0),\n",
       " (106, 106, 3.2248414094018454, 3.208565121181933, 1111.0),\n",
       " (107, 107, 3.222981349259018, 3.1997023782121414, 1192.0),\n",
       " (108, 108, 3.2211393944922784, 3.203274739173263, 1090.0),\n",
       " (109, 109, 3.2193155761789929, 3.2070916721344838, 1171.0),\n",
       " (110, 110, 3.2175099251606483, 3.2056755642887391, 1144.0),\n",
       " (111, 111, 3.2157224720404405, 3.1932272147054124, 1163.0),\n",
       " (112, 112, 3.2139532471808736, 3.1937905529493902, 1166.0),\n",
       " (113, 113, 3.2122022807013701, 3.1991587098114618, 1139.0),\n",
       " (114, 114, 3.2104696024758872, 3.1948200977660539, 1269.0),\n",
       " (115, 115, 3.2087552421305494, 3.1959177285335061, 1172.0),\n",
       " (116, 116, 3.2070592290412852, 3.1917558733362803, 1168.0),\n",
       " (117, 117, 3.2053815923314781, 3.1884263628460481, 1151.0),\n",
       " (118, 118, 3.203722360869631, 3.1832034174225092, 1195.0),\n",
       " (119, 119, 3.2020815632670385, 3.1795968557843839, 1155.0),\n",
       " (120, 120, 3.2004592278754749, 3.1811271892109918, 1269.0),\n",
       " (121, 121, 3.1988553827848927, 3.1891777978717095, 1100.0),\n",
       " (122, 122, 3.1972700558211344, 3.1709579748292298, 771.0),\n",
       " (123, 123, 3.1957032745436615, 3.1753017543602104, 268.0),\n",
       " (124, 124, 3.1941550662432907, 3.186506475575039, 58.0),\n",
       " (125, 125, 3.1926254579399509, 3.2365644389536294, 10.0),\n",
       " (126, 126, 3.1911144763804513, 3.2123087601553166, 1.0),\n",
       " (127, 127, 3.1896221480362659, 2.9529077507844623, 1.0),\n",
       " (128, 128, 3.5166866639085743, -1, 0.0),\n",
       " (129, 129, 3.5131174871886963, 3.5155047451342365, 2.0),\n",
       " (130, 130, 3.5095622839137102, 3.3942263511426685, 7.0),\n",
       " (131, 131, 3.5060210965920069, 3.4986605237465183, 59.0),\n",
       " (132, 132, 3.5024939677359646, 3.4829713346825284, 373.0),\n",
       " (133, 133, 3.4989809398602643, 3.4857287250954703, 728.0),\n",
       " (134, 134, 3.4954820554801906, 3.4778719031811747, 904.0),\n",
       " (135, 135, 3.4919973571099132, 3.4707325100345789, 985.0),\n",
       " (136, 136, 3.4885268872607562, 3.4692837605537989, 897.0),\n",
       " (137, 137, 3.4850706884394493, 3.4740602540139323, 859.0),\n",
       " (138, 138, 3.4816288031463691, 3.4675245841438276, 898.0),\n",
       " (139, 139, 3.478201273873756, 3.4665438669789941, 914.0),\n",
       " (140, 140, 3.4747881431039245, 3.4605637387015986, 897.0),\n",
       " (141, 141, 3.4713894533074532, 3.4521028812547985, 907.0),\n",
       " (142, 142, 3.4680052469413623, 3.4575059936532848, 909.0),\n",
       " (143, 143, 3.4646355664472734, 3.4450688506189384, 951.0),\n",
       " (144, 144, 3.4612804542495565, 3.4478939120640919, 947.0),\n",
       " (145, 145, 3.4579399527534624, 3.4454072477324038, 983.0),\n",
       " (146, 146, 3.4546141043432361, 3.4360172702904497, 952.0),\n",
       " (147, 147, 3.45130295138022, 3.4335261672199797, 931.0),\n",
       " (148, 148, 3.4480065362009422, 3.4283261365733217, 900.0),\n",
       " (149, 149, 3.4447249011151846, 3.4285697014370671, 951.0),\n",
       " (150, 150, 3.4414580884040444, 3.4310194151150561, 946.0),\n",
       " (151, 151, 3.4382061403179738, 3.4234608924346044, 939.0),\n",
       " (152, 152, 3.4349690990748107, 3.4155350151618018, 992.0),\n",
       " (153, 153, 3.4317470068577927, 3.4195713945391395, 937.0),\n",
       " (154, 154, 3.4285399058135546, 3.412379092553445, 1006.0),\n",
       " (155, 155, 3.4253478380501181, 3.414171798337283, 899.0),\n",
       " (156, 156, 3.4221708456348607, 3.4043226287415775, 964.0),\n",
       " (157, 157, 3.4190089705924755, 3.4064560627789597, 935.0),\n",
       " (158, 158, 3.4158622549029136, 3.3960361828129413, 984.0),\n",
       " (159, 159, 3.4127307404993172, 3.391713818880878, 963.0),\n",
       " (160, 160, 3.409614469265934, 3.3918503119667855, 888.0),\n",
       " (161, 161, 3.4065134830360231, 3.3853423075077069, 1041.0),\n",
       " (162, 162, 3.4034278235897437, 3.3818245617692937, 943.0),\n",
       " (163, 163, 3.4003575326520323, 3.3835068328833895, 934.0),\n",
       " (164, 164, 3.3973026518904699, 3.3731342499465944, 1000.0),\n",
       " (165, 165, 3.3942632229131289, 3.3806276079040192, 1057.0),\n",
       " (166, 166, 3.3912392872664143, 3.3783122970590513, 996.0),\n",
       " (167, 167, 3.3882308864328916, 3.372754375059789, 996.0),\n",
       " (168, 168, 3.3852380618290967, 3.3650672411531746, 989.0),\n",
       " (169, 169, 3.3822608548033397, 3.3621606752300601, 982.0),\n",
       " (170, 170, 3.3792993066334946, 3.3547907748767072, 1020.0),\n",
       " (171, 171, 3.3763534585247763, 3.3540620214935397, 986.0),\n",
       " (172, 172, 3.3734233516075056, 3.3501229262731389, 1017.0),\n",
       " (173, 173, 3.3705090269348661, 3.3560923278528354, 1043.0),\n",
       " (174, 174, 3.3676105254806439, 3.3497253870713743, 1021.0),\n",
       " (175, 175, 3.3647278881369616, 3.3459879470124041, 1072.0),\n",
       " (176, 176, 3.3618611557119991, 3.3524109599190335, 1077.0),\n",
       " (177, 177, 3.3590103689277022, 3.3446916895262708, 1050.0),\n",
       " (178, 178, 3.3561755684174837, 3.3407802175146601, 1044.0),\n",
       " (179, 179, 3.3533567947239105, 3.332487600806298, 1018.0),\n",
       " (180, 180, 3.3505540882963847, 3.3349759813142272, 1019.0),\n",
       " (181, 181, 3.347767489488811, 3.3344824979951455, 1028.0),\n",
       " (182, 182, 3.3449970385572572, 3.3293487704171736, 963.0),\n",
       " (183, 183, 3.3422427756576001, 3.3260953207756176, 1008.0),\n",
       " (184, 184, 3.3395047408431715, 3.3188011822655508, 1100.0),\n",
       " (185, 185, 3.3367829740623853, 3.3260548370687046, 1034.0),\n",
       " (186, 186, 3.3340775151563617, 3.3171187766105392, 1082.0),\n",
       " (187, 187, 3.3313884038565389, 3.3152595689658728, 1072.0),\n",
       " (188, 188, 3.3287156797822819, 3.3133865656826509, 1117.0),\n",
       " (189, 189, 3.3260593824384763, 3.3030417370859291, 1087.0),\n",
       " (190, 190, 3.3234195512131204, 3.3023479397213777, 1056.0),\n",
       " (191, 191, 3.320796225374905, 3.3047657820243526, 1109.0),\n",
       " (192, 192, 3.3181894440707902, 3.2996293748365693, 1103.0),\n",
       " (193, 193, 3.3155992463235688, 3.2972300047710186, 1074.0),\n",
       " (194, 194, 3.3130256710294321, 3.2923763286004966, 1149.0),\n",
       " (195, 195, 3.3104687569555189, 3.2947806594882585, 1037.0),\n",
       " (196, 196, 3.3079285427374665, 3.2901258632501609, 1062.0),\n",
       " (197, 197, 3.3054050668769506, 3.2875158088641681, 1061.0),\n",
       " (198, 198, 3.3028983677392221, 3.2835959113854805, 1146.0),\n",
       " (199, 199, 3.3004084835506373, 3.2793007584909084, 1066.0),\n",
       " (200, 200, 3.2979354523961835, 3.2774549244953803, 1033.0),\n",
       " (201, 201, 3.2954793122169979, 3.2795881265297337, 1072.0),\n",
       " (202, 202, 3.2930401008078873, 3.2741305864009798, 1041.0),\n",
       " (203, 203, 3.2906178558148342, 3.2750258532277994, 1083.0),\n",
       " (204, 204, 3.2882126147325113, 3.2727973007610496, 1121.0),\n",
       " (205, 205, 3.285824414901779, 3.2658796393167857, 1092.0),\n",
       " (206, 206, 3.2834532935071907, 3.2671127158277091, 1099.0),\n",
       " (207, 207, 3.2810992875744889, 3.2654022758007435, 1103.0),\n",
       " (208, 208, 3.2787624339681001, 3.2712979988924071, 1107.0),\n",
       " (209, 209, 3.2764427693886273, 3.2536115253509768, 1050.0),\n",
       " (210, 210, 3.2741403303703431, 3.2614700754044428, 1072.0),\n",
       " (211, 211, 3.2718551532786742, 3.2550138155559414, 1101.0),\n",
       " (212, 212, 3.2695872743076944, 3.2624164452768882, 1062.0),\n",
       " (213, 213, 3.2673367294776061, 3.2480096441176016, 1082.0),\n",
       " (214, 214, 3.2651035546322293, 3.2470408840990883, 1088.0),\n",
       " (215, 215, 3.2628877854364866, 3.2430974947926536, 1099.0),\n",
       " (216, 216, 3.2606894573738878, 3.2507018906668126, 1064.0),\n",
       " (217, 217, 3.2585086057440171, 3.2427541288395711, 1081.0),\n",
       " (218, 218, 3.2563452656600189, 3.2373064375666587, 1139.0),\n",
       " (219, 219, 3.2541994720460847, 3.2362339108358342, 1134.0),\n",
       " (220, 220, 3.252071259634945, 3.2415287748903157, 1110.0),\n",
       " (221, 221, 3.2499606629653566, 3.2361930022768739, 1122.0),\n",
       " (222, 222, 3.2478677163795973, 3.2332288672121621, 1143.0),\n",
       " (223, 223, 3.2457924540209619, 3.2203447269883676, 1147.0),\n",
       " (224, 224, 3.2437349098312609, 3.2268292166946551, 1154.0),\n",
       " (225, 225, 3.2416951175483204, 3.2246384898655172, 1197.0),\n",
       " (226, 226, 3.2396731107034884, 3.2227688136837376, 1139.0),\n",
       " (227, 227, 3.2376689226191457, 3.2209690932542827, 1150.0),\n",
       " (228, 228, 3.2356825864062158, 3.2208610777138902, 1137.0),\n",
       " (229, 229, 3.2337141349616885, 3.2210389480574535, 1171.0),\n",
       " (230, 230, 3.2317636009661377, 3.2143108846903692, 1157.0),\n",
       " (231, 231, 3.2298310168812576, 3.2069334078520013, 1130.0),\n",
       " (232, 232, 3.2279164149473911, 3.2057099088189402, 1154.0),\n",
       " (233, 233, 3.226019827181076, 3.2028303169337526, 1108.0),\n",
       " (234, 234, 3.2241412853725904, 3.2079522795429902, 1141.0),\n",
       " (235, 235, 3.2222808210835101, 3.2003422090536167, 1135.0),\n",
       " (236, 236, 3.2204384656442695, 3.2025107914785957, 1154.0),\n",
       " (237, 237, 3.2186142501517354, 3.2017609130917739, 1081.0),\n",
       " (238, 238, 3.2168082054667821, 3.1986675695813025, 1210.0),\n",
       " (239, 239, 3.2150203622118818, 3.1965358882778698, 1169.0),\n",
       " (240, 240, 3.2132507507687009, 3.1918754552757842, 1165.0),\n",
       " (241, 241, 3.2114994012757063, 3.1874840618097284, 1125.0),\n",
       " (242, 242, 3.2097663436257813, 3.1932490672845839, 1139.0),\n",
       " (243, 243, 3.2080516074638541, 3.1954381509534131, 1085.0),\n",
       " (244, 244, 3.206355222184532, 3.1919370170422012, 1153.0),\n",
       " (245, 245, 3.2046772169297517, 3.1890358020118339, 1153.0),\n",
       " (246, 246, 3.20301762058644, 3.1832414104063971, 1111.0),\n",
       " (247, 247, 3.2013764617841836, 3.1837611896757547, 1199.0),\n",
       " (248, 248, 3.1997537688929159, 3.182680863524296, 1110.0),\n",
       " (249, 249, 3.1981495700206111, 3.1809717254662186, 1055.0),\n",
       " (250, 250, 3.1965638930109965, 3.1694808261503722, 764.0),\n",
       " (251, 251, 3.1949967654412763, 3.1785874506064413, 287.0),\n",
       " (252, 252, 3.1934482146198673, 3.1850772689118405, 56.0),\n",
       " (253, 253, 3.1919182675841529, 3.1685137845472502, 7.0),\n",
       " (254, 254, 3.190406951098248, 3.1516695631595324, 1.0),\n",
       " (255, 255, 3.1889142916507836, -1, 0.0),\n",
       " (256, 256, 3.516258669894972, nan, 1.0),\n",
       " (257, 257, 3.512689058298522, 3.3335871541468847, 4.0),\n",
       " (258, 258, 3.5091334209700205, 3.5278571741518969, 14.0),\n",
       " (259, 259, 3.5055918004307571, 3.4783292530188858, 83.0),\n",
       " (260, 260, 3.5020642392060655, 3.4813330082430345, 332.0),\n",
       " (261, 261, 3.4985507798236344, 3.4886004119964511, 744.0),\n",
       " (262, 262, 3.495051464811807, 3.4748778217606811, 860.0),\n",
       " (263, 263, 3.4915663366978662, 3.47297896202143, 941.0),\n",
       " (264, 264, 3.4880954380062996, 3.4760897910129929, 883.0),\n",
       " (265, 265, 3.4846388112570517, 3.4729338190546661, 901.0),\n",
       " (266, 266, 3.4811964989637625, 3.4662798621347264, 927.0),\n",
       " (267, 267, 3.4777685436319876, 3.4683682254453658, 904.0),\n",
       " (268, 268, 3.4743549877574051, 3.4670460600214281, 877.0),\n",
       " (269, 269, 3.4709558738240043, 3.4545181360723314, 902.0),\n",
       " (270, 270, 3.467571244302265, 3.4571348016438055, 898.0),\n",
       " (271, 271, 3.4642011416473144, 3.4493559666945757, 889.0),\n",
       " (272, 272, 3.4608456082970762, 3.4503937759126693, 904.0),\n",
       " (273, 273, 3.4575046866703967, 3.4358950037422251, 923.0),\n",
       " (274, 274, 3.454178419165165, 3.4334115991928784, 939.0),\n",
       " (275, 275, 3.4508668481564104, 3.437480269942522, 928.0),\n",
       " (276, 276, 3.4475700159943896, 3.4311642910553815, 898.0),\n",
       " (277, 277, 3.4442879650026592, 3.4281987791381958, 888.0),\n",
       " (278, 278, 3.4410207374761281, 3.4274533763660981, 983.0),\n",
       " (279, 279, 3.4377683756791058, 3.4215803830721527, 986.0),\n",
       " (280, 280, 3.4345309218433249, 3.4239030784692548, 979.0),\n",
       " (281, 281, 3.4313084181659561, 3.4074961886466246, 948.0),\n",
       " (282, 282, 3.42810090680761, 3.4097427069027404, 1000.0),\n",
       " (283, 283, 3.424908429890317, 3.4062132923377639, 899.0),\n",
       " (284, 284, 3.4217310294955032, 3.4121777044525841, 952.0),\n",
       " (285, 285, 3.4185687476619449, 3.3988682149167957, 956.0),\n",
       " (286, 286, 3.4154216263837118, 3.4041471996450401, 915.0),\n",
       " (287, 287, 3.4122897076080978, 3.3901856853184471, 954.0),\n",
       " (288, 288, 3.4091730332335373, 3.3885486868645676, 968.0),\n",
       " (289, 289, 3.4060716451075068, 3.3853282617185267, 958.0),\n",
       " (290, 290, 3.4029855850244148, 3.3867138774407821, 956.0),\n",
       " (291, 291, 3.3999148947234779, 3.3900566722508123, 910.0),\n",
       " (292, 292, 3.3968596158865849, 3.3722950186897873, 964.0),\n",
       " (293, 293, 3.3938197901361464, 3.3783152838036612, 912.0),\n",
       " (294, 294, 3.3907954590329328, 3.3787508805783615, 934.0),\n",
       " (295, 295, 3.3877866640738992, 3.3724307341571551, 1011.0),\n",
       " (296, 296, 3.384793446689998, 3.3641207952369965, 996.0),\n",
       " (297, 297, 3.3818158482439808, 3.3607904454195232, 980.0),\n",
       " (298, 298, 3.3788539100281856, 3.3576104988570927, 1035.0),\n",
       " (299, 299, 3.3759076732623119, 3.3517616862010176, 1012.0),\n",
       " (300, 300, 3.3729771790911895, 3.351670544828302, 1034.0),\n",
       " (301, 301, 3.3700624685825273, 3.3525072169171097, 1042.0),\n",
       " (302, 302, 3.3671635827246584, 3.3537589476004759, 934.0),\n",
       " (303, 303, 3.3642805624242693, 3.3551459014106135, 1043.0),\n",
       " (304, 304, 3.3614134485041198, 3.3461752636284054, 1020.0),\n",
       " (305, 305, 3.3585622817007512, 3.3412838567663821, 976.0),\n",
       " (306, 306, 3.3557271026621871, 3.3355746313148069, 1016.0),\n",
       " (307, 307, 3.352907951945618, 3.3386281968902054, 983.0),\n",
       " (308, 308, 3.3501048700150804, 3.3407090502551817, 1025.0),\n",
       " (309, 309, 3.3473178972391251, 3.3299439896924548, 995.0),\n",
       " (310, 310, 3.3445470738884744, 3.323101990401216, 981.0),\n",
       " (311, 311, 3.3417924401336716, 3.3279989400172072, 1114.0),\n",
       " (312, 312, 3.3390540360427168, 3.3266769371786635, 1049.0),\n",
       " (313, 313, 3.3363319015787023, 3.3171136887190591, 1028.0),\n",
       " (314, 314, 3.3336260765974273, 3.3176188322713287, 1054.0),\n",
       " (315, 315, 3.3309366008450172, 3.3087249899293956, 1031.0),\n",
       " (316, 316, 3.3282635139555219, 3.309365645680646, 1087.0),\n",
       " (317, 317, 3.3256068554485148, 3.3101231310832397, 1038.0),\n",
       " (318, 318, 3.32296666472668, 3.3067913941152174, 1051.0),\n",
       " (319, 319, 3.3203429810733947, 3.3079905897983255, 1000.0),\n",
       " (320, 320, 3.3177358436502984, 3.3034310036193317, 1043.0),\n",
       " (321, 321, 3.3151452914948627, 3.2951357049437684, 1066.0),\n",
       " (322, 322, 3.3125713635179479, 3.3007941147189004, 1062.0),\n",
       " (323, 323, 3.310014098501358, 3.2899680248060528, 1018.0),\n",
       " (324, 324, 3.3074735350953839, 3.2851886792904463, 1071.0),\n",
       " (325, 325, 3.3049497118163473, 3.2837925566735682, 1039.0),\n",
       " (326, 326, 3.3024426670441316, 3.2945954135439099, 1090.0),\n",
       " (327, 327, 3.2999524390197137, 3.2826930643062737, 1086.0),\n",
       " (328, 328, 3.2974790658426865, 3.2866895372150866, 1044.0),\n",
       " (329, 329, 3.2950225854687791, 3.2766277002807032, 1092.0),\n",
       " (330, 330, 3.2925830357073695, 3.2705498782716522, 1030.0),\n",
       " (331, 331, 3.2901604542189973, 3.2736016135034589, 1083.0),\n",
       " (332, 332, 3.2877548785128674, 3.2606303590296095, 1129.0),\n",
       " (333, 333, 3.2853663459443543, 3.2673661603187942, 1131.0),\n",
       " (334, 334, 3.2829948937125013, 3.2659283762764937, 1051.0),\n",
       " (335, 335, 3.2806405588575167, 3.2653657995881047, 1053.0),\n",
       " (336, 336, 3.2783033782582658, 3.2713441722423751, 1079.0),\n",
       " (337, 337, 3.2759833886297649, 3.2602746858212943, 1119.0),\n",
       " (338, 338, 3.2736806265206684, 3.2570849964455655, 1045.0),\n",
       " (339, 339, 3.2713951283107576, 3.2500634713868175, 1143.0),\n",
       " (340, 340, 3.2691269302084245, 3.2506249311225353, 1091.0),\n",
       " (341, 341, 3.2668760682481599, 3.2620472798857989, 1134.0),\n",
       " (342, 342, 3.2646425782880364, 3.2443240252655365, 1059.0),\n",
       " (343, 343, 3.2624264960071909, 3.2497300066691115, 1089.0),\n",
       " (344, 344, 3.2602278569033114, 3.2411440019791948, 1131.0),\n",
       " (345, 345, 3.2580466962901191, 3.2377144361607813, 1150.0),\n",
       " (346, 346, 3.2558830492948543, 3.2375897030856811, 1144.0),\n",
       " (347, 347, 3.253736950855763, 3.2377085747460037, 1135.0),\n",
       " (348, 348, 3.2516084357195836, 3.2305030116172646, 1136.0),\n",
       " (349, 349, 3.2494975384390363, 3.231590671991583, 1113.0),\n",
       " (350, 350, 3.2474042933703156, 3.2281396963501789, 1102.0),\n",
       " (351, 351, 3.2453287346705815, 3.2247397955394508, 1157.0),\n",
       " (352, 352, 3.2432708962954599, 3.2256718424562378, 1140.0),\n",
       " (353, 353, 3.241230811996541, 3.2224565273120307, 1157.0),\n",
       " (354, 354, 3.2392085153188823, 3.2209750499798573, 1157.0),\n",
       " (355, 355, 3.2372040395985171, 3.2186721326795644, 1162.0),\n",
       " (356, 356, 3.2352174179599671, 3.2252630570355123, 1176.0),\n",
       " (357, 357, 3.233248683313759, 3.2100687898177411, 1105.0),\n",
       " (358, 358, 3.2312978683539462, 3.2127865529735264, 1169.0),\n",
       " (359, 359, 3.2293650055556369, 3.2112749560464477, 1189.0),\n",
       " (360, 360, 3.2274501271725264, 3.2164946748733092, 1139.0),\n",
       " (361, 361, 3.2255532652344399, 3.2106054590635571, 1146.0),\n",
       " (362, 362, 3.2236744515448761, 3.2070692453615659, 1152.0),\n",
       " (363, 363, 3.2218137176785624, 3.2059854435900861, 1181.0),\n",
       " (364, 364, 3.219971094979015, 3.2082734617625546, 1185.0),\n",
       " (365, 365, 3.2181466145561108, 3.1974672157805171, 1271.0),\n",
       " (366, 366, 3.2163403072836614, 3.2014301158477361, 1134.0),\n",
       " (367, 367, 3.2145522037970009, 3.1970447698462405, 1129.0),\n",
       " (368, 368, 3.2127823344905826, 3.1981555058429536, 1144.0),\n",
       " (369, 369, 3.21103072951558, 3.1900760134213706, 1201.0),\n",
       " (370, 370, 3.2092974187775054, 3.1892262227964121, 1218.0),\n",
       " (371, 371, 3.2075824319338322, 3.1897929401737604, 1208.0),\n",
       " (372, 372, 3.2058857983916331, 3.1903780817672671, 1181.0),\n",
       " (373, 373, 3.2042075473052236, 3.1916439188412742, 1197.0),\n",
       " (374, 374, 3.2025477075738245, 3.1859760724955142, 1258.0),\n",
       " (375, 375, 3.2009063078392277, 3.1868685909135119, 1180.0),\n",
       " (376, 376, 3.1992833764834834, 3.1805067177389121, 1230.0),\n",
       " (377, 377, 3.1976789416265912, 3.1836959884437497, 1184.0),\n",
       " (378, 378, 3.1960930311242128, 3.167954529765999, 747.0),\n",
       " (379, 379, 3.1945256725653901, 3.1831955721081671, 208.0),\n",
       " (380, 380, 3.1929768932702847, 3.1590088310498952, 45.0),\n",
       " (381, 381, 3.1914467202879258, 3.156385945148092, 6.0),\n",
       " (382, 382, 3.1899351803939777, 3.1112434318290099, 1.0),\n",
       " (383, 383, 3.1884423000885178, 3.1146122761065533, 1.0),\n",
       " (384, 384, 3.5160446533510776, -1, 0.0),\n",
       " (385, 385, 3.5124748242567234, -1, 0.0),\n",
       " (386, 386, 3.508918969841837, 3.5003449458852902, 2.0),\n",
       " (387, 387, 3.5053771326341621, 3.5116964863857079, 33.0),\n",
       " (388, 388, 3.5018493551655103, 3.4872108569208793, 223.0),\n",
       " (389, 389, 3.4983356799700767, 3.4810581335829642, 686.0),\n",
       " (390, 390, 3.494836149582738, 3.4862861543576011, 834.0),\n",
       " (391, 391, 3.4913508065373349, 3.4745161929209538, 863.0),\n",
       " (392, 392, 3.4878796933649387, 3.4753794034713503, 855.0),\n",
       " (393, 393, 3.4844228525921044, 3.4726134753720501, 875.0),\n",
       " (394, 394, 3.4809803267391066, 3.4682184218203522, 860.0),\n",
       " (395, 395, 3.477552158318161, 3.4619556696333444, 939.0),\n",
       " (396, 396, 3.4741383898316283, 3.4666401494968575, 896.0),\n",
       " (397, 397, 3.4707390637702074, 3.4515976629165452, 901.0),\n",
       " (398, 398, 3.4673542226111103, 3.4520388167331566, 890.0),\n",
       " (399, 399, 3.4639839088162203, 3.444422130878066, 857.0),\n",
       " (400, 400, 3.4606281648302373, 3.4430470699294897, 911.0),\n",
       " (401, 401, 3.4572870330788126, 3.4422605051386443, 829.0),\n",
       " (402, 402, 3.4539605559666571, 3.4345134017461358, 946.0),\n",
       " (403, 403, 3.450648775875647, 3.4292979585981525, 899.0),\n",
       " (404, 404, 3.4473517351629059, 3.4307562963102578, 950.0),\n",
       " (405, 405, 3.4440694761588793, 3.4355289297649092, 852.0),\n",
       " (406, 406, 3.4408020411653877, 3.4233749016297517, 863.0),\n",
       " (407, 407, 3.4375494724536693, 3.4265934643959546, 903.0),\n",
       " (408, 408, 3.4343118122624068, 3.4181293540556759, 922.0),\n",
       " (409, 409, 3.4310891027957435, 3.4165031128057617, 883.0),\n",
       " (410, 410, 3.427881386221276, 3.4153752068850238, 900.0),\n",
       " (411, 411, 3.4246887046680459, 3.4054814701521163, 942.0),\n",
       " (412, 412, 3.421511100224504, 3.4052283995427488, 940.0),\n",
       " (413, 413, 3.4183486149364724, 3.4001786346535767, 954.0),\n",
       " (414, 414, 3.4152012908050819, 3.3938300165217812, 850.0),\n",
       " (415, 415, 3.412069169784707, 3.395361281912999, 920.0),\n",
       " (416, 416, 3.4089522937808767, 3.3959584692883507, 925.0),\n",
       " (417, 417, 3.405850704648179, 3.390346763245712, 949.0),\n",
       " (418, 418, 3.4027644441881515, 3.386214645244952, 949.0),\n",
       " (419, 419, 3.3996935541471527, 3.3854602207986826, 949.0),\n",
       " (420, 420, 3.396638076214229, 3.3849532953387027, 966.0),\n",
       " (421, 421, 3.3935980520189628, 3.3699539327454611, 928.0),\n",
       " (422, 422, 3.3905735231293095, 3.3863080404238497, 948.0),\n",
       " (423, 423, 3.3875645310494233, 3.365242437859012, 1023.0),\n",
       " (424, 424, 3.384571117217468, 3.3633705539575138, 920.0),\n",
       " (425, 425, 3.3815933230034179, 3.3605569683065681, 1022.0),\n",
       " (426, 426, 3.3786311897068462, 3.3560225458722952, 976.0),\n",
       " (427, 427, 3.3756847585546996, 3.3585491358108652, 941.0),\n",
       " (428, 428, 3.3727540706990626, 3.3508238127651166, 932.0),\n",
       " (429, 429, 3.3698391672149128, 3.362483441536634, 988.0),\n",
       " (430, 430, 3.3669400890978589, 3.3567010261824279, 944.0),\n",
       " (431, 431, 3.3640568772618722, 3.3354656341357449, 921.0),\n",
       " (432, 432, 3.3611895725370053, 3.3458306404391518, 986.0),\n",
       " (433, 433, 3.3583382156671027, 3.3394197800602425, 952.0),\n",
       " (434, 434, 3.3555028473074935, 3.3393513945067959, 981.0),\n",
       " (435, 435, 3.3526835080226851, 3.3322495248013877, 1001.0),\n",
       " (436, 436, 3.349880238284034, 3.3304147439380007, 993.0),\n",
       " (437, 437, 3.347093078467418, 3.3340585959116704, 968.0),\n",
       " (438, 438, 3.3443220688508903, 3.3249619570958679, 1045.0),\n",
       " (439, 439, 3.3415672496123281, 3.3197148994916841, 1025.0),\n",
       " (440, 440, 3.3388286608270721, 3.3161902692899559, 996.0),\n",
       " (441, 441, 3.3361063424655542, 3.3136614570879739, 1043.0),\n",
       " (442, 442, 3.33340033439092, 3.3193144174443918, 958.0),\n",
       " (443, 443, 3.3307106763566385, 3.3156278264829404, 1014.0),\n",
       " (444, 444, 3.3280374080041075, 3.3087013251379771, 1033.0),\n",
       " (445, 445, 3.3253805688602465, 3.3080676985198632, 1004.0),\n",
       " (446, 446, 3.3227401983350879, 3.3125075360518488, 967.0),\n",
       " (447, 447, 3.3201163357193524, 3.2986104875624309, 1037.0),\n",
       " (448, 448, 3.3175090201820248, 3.301394916609282, 1008.0),\n",
       " (449, 449, 3.3149182907679187, 3.301358070073956, 1004.0),\n",
       " (450, 450, 3.312344186395233, 3.2920770555655108, 1048.0),\n",
       " (451, 451, 3.3097867458531067, 3.2955884366382646, 1035.0),\n",
       " (452, 452, 3.3072460077991628, 3.2912654340537779, 1024.0),\n",
       " (453, 453, 3.3047220107570467, 3.2842065062148817, 1045.0),\n",
       " (454, 454, 3.3022147931139636, 3.2825046647766079, 998.0),\n",
       " (455, 455, 3.2997243931182036, 3.2876003445040474, 1066.0),\n",
       " (456, 456, 3.2972508488766668, 3.2786450576994439, 1017.0),\n",
       " (457, 457, 3.2947941983523794, 3.2751088659494743, 1123.0),\n",
       " (458, 458, 3.292354479362011, 3.2735696751937371, 1017.0),\n",
       " (459, 459, 3.289931729573381, 3.2657465056175452, 1097.0),\n",
       " (460, 460, 3.2875259865029656, 3.2722506426097806, 1059.0),\n",
       " (461, 461, 3.2851372875134, 3.2632820748357858, 1031.0),\n",
       " (462, 462, 3.2827656698109746, 3.2707195573244521, 1019.0),\n",
       " (463, 463, 3.2804111704431347, 3.2681746628068984, 1056.0),\n",
       " (464, 464, 3.2780738262959699, 3.2602404077964926, 1020.0),\n",
       " (465, 465, 3.2757536740917041, 3.2554073824769647, 1017.0),\n",
       " (466, 466, 3.2734507503861883, 3.2630645834298493, 1088.0),\n",
       " (467, 467, 3.2711650915663819, 3.2558627853117432, 1058.0),\n",
       " (468, 468, 3.2688967338478432, 3.2497753460457539, 1052.0),\n",
       " (469, 469, 3.2666457132722089, 3.253157108116929, 1051.0),\n",
       " (470, 470, 3.2644120657046805, 3.2488275661546857, 1076.0),\n",
       " (471, 471, 3.262195826831507, 3.2468105254937987, 1067.0),\n",
       " (472, 472, 3.2599970321574676, 3.2363144784924724, 1076.0),\n",
       " (473, 473, 3.257815717003357, 3.2338393003543158, 1064.0),\n",
       " (474, 474, 3.2556519165034672, 3.2399505593556728, 1028.0),\n",
       " (475, 475, 3.2535056656030732, 3.2396441462026293, 1077.0),\n",
       " (476, 476, 3.2513769990559225, 3.2314749339733733, 1101.0),\n",
       " (477, 477, 3.2492659514217204, 3.2329719143272935, 1041.0),\n",
       " (478, 478, 3.2471725570636218, 3.2270670792939566, 1071.0),\n",
       " (479, 479, 3.2450968501457238, 3.2257587439669155, 1128.0),\n",
       " (480, 480, 3.2430388646305643, 3.2166522981423742, 1004.0),\n",
       " (481, 481, 3.2409986342766173, 3.2191068555733113, 1082.0),\n",
       " (482, 482, 3.2389761926357994, 3.2220173623887192, 1076.0),\n",
       " (483, 483, 3.2369715730509743, 3.210083549856201, 1103.0),\n",
       " (484, 484, 3.2349848086534654, 3.2191481496697247, 1111.0),\n",
       " (485, 485, 3.2330159323605723, 3.2141793998169677, 1131.0),\n",
       " (486, 486, 3.2310649768730895, 3.2152805322165241, 1119.0),\n",
       " (487, 487, 3.2291319746728373, 3.2122546421749543, 1109.0),\n",
       " (488, 488, 3.2272169580201915, 3.2093208153563881, 1146.0),\n",
       " (489, 489, 3.2253199589516228, 3.2078668449213463, 1088.0),\n",
       " (490, 490, 3.2234410092772441, 3.2010413417946117, 1019.0),\n",
       " (491, 491, 3.2215801405783617, 3.2026933376137845, 1104.0),\n",
       " (492, 492, 3.2197373842050379, 3.197913867578082, 1181.0),\n",
       " (493, 493, 3.2179127712736553, 3.201369721630539, 1136.0),\n",
       " (494, 494, 3.2161063326644999, 3.195074373739192, 1118.0),\n",
       " (495, 495, 3.2143180990193394, 3.1993774470434531, 1099.0),\n",
       " (496, 496, 3.2125481007390224, 3.1935128153826242, 1155.0),\n",
       " (497, 497, 3.2107963679810805, 3.1933199164158466, 1093.0),\n",
       " (498, 498, 3.2090629306573435, 3.183987411495055, 1140.0),\n",
       " (499, 499, 3.2073478184315616, 3.192147992201996, 1118.0),\n",
       " (500, 500, 3.2056510607170421, 3.1824460264707279, 1136.0),\n",
       " (501, 501, 3.203972686674295, 3.1858429153385526, 1104.0),\n",
       " (502, 502, 3.2023127252086887, 3.1856780861513627, 1200.0),\n",
       " (503, 503, 3.2006712049681232, 3.1806102474555864, 1134.0),\n",
       " (504, 504, 3.1990481543407094, 3.1777583263224614, 1141.0),\n",
       " (505, 505, 3.1974436014524632, 3.1810458852597132, 1084.0),\n",
       " (506, 506, 3.1958575741650157, 3.1751148180434599, 812.0),\n",
       " (507, 507, 3.1942901000733319, 3.176662507354711, 277.0),\n",
       " (508, 508, 3.1927412065034488, 3.1882085664775062, 59.0),\n",
       " (509, 509, 3.1912109205102221, 3.2864233342612743, 8.0),\n",
       " (510, 510, 3.189699268875092, -1, 0.0),\n",
       " (511, 511, 3.1882062781038649, -1, 0.0),\n",
       " (512, 512, 3.5160446533503862, 3.3824353961712661, 4.0),\n",
       " (513, 513, 3.5124748242560315, 3.4191557987964898, 6.0),\n",
       " (514, 514, 3.5089189698411443, 3.4652127127051928, 40.0),\n",
       " (515, 515, 3.5053771326334684, 3.4762150913913188, 124.0),\n",
       " (516, 516, 3.5018493551648158, 3.4907663662603343, 382.0),\n",
       " (517, 517, 3.4983356799693817, 3.4909603082549889, 711.0),\n",
       " (518, 518, 3.4948361495820426, 3.4834144152640159, 897.0),\n",
       " (519, 519, 3.4913508065366385, 3.4779972894626723, 969.0),\n",
       " (520, 520, 3.487879693364242, 3.4773164544070183, 978.0),\n",
       " (521, 521, 3.4844228525914067, 3.4780754384677861, 905.0),\n",
       " (522, 522, 3.4809803267384085, 3.4726441934863637, 993.0),\n",
       " (523, 523, 3.477552158317462, 3.4637141249749424, 1004.0),\n",
       " (524, 524, 3.4741383898309284, 3.4529081758428863, 978.0),\n",
       " (525, 525, 3.4707390637695075, 3.4522435949177899, 921.0),\n",
       " (526, 526, 3.4673542226104095, 3.4479479934386759, 972.0),\n",
       " (527, 527, 3.4639839088155182, 3.4432422845241049, 993.0),\n",
       " (528, 528, 3.4606281648295352, 3.4503211459223797, 900.0),\n",
       " (529, 529, 3.4572870330781096, 3.4408446479492438, 973.0),\n",
       " (530, 530, 3.4539605559659532, 3.4355244746977887, 1013.0),\n",
       " (531, 531, 3.4506487758749422, 3.4396184084823123, 988.0),\n",
       " (532, 532, 3.4473517351622007, 3.4321107197248653, 966.0),\n",
       " (533, 533, 3.4440694761581736, 3.4257679813882973, 1003.0),\n",
       " (534, 534, 3.4408020411646811, 3.4243384841571931, 1001.0),\n",
       " (535, 535, 3.4375494724529618, 3.422966950306022, 1026.0),\n",
       " (536, 536, 3.4343118122616993, 3.4190089891324482, 1000.0),\n",
       " (537, 537, 3.4310891027950348, 3.4205811179196144, 973.0),\n",
       " (538, 538, 3.4278813862205673, 3.4110074673782136, 995.0),\n",
       " (539, 539, 3.4246887046673362, 3.4044905521942166, 931.0),\n",
       " (540, 540, 3.4215111002237939, 3.4033811265710141, 995.0),\n",
       " (541, 541, 3.4183486149357614, 3.4060379738703745, 969.0),\n",
       " (542, 542, 3.4152012908043705, 3.4030935427228322, 982.0),\n",
       " (543, 543, 3.4120691697839947, 3.3997555962892667, 962.0),\n",
       " (544, 544, 3.4089522937801635, 3.3965632971730364, 954.0),\n",
       " (545, 545, 3.4058507046474653, 3.382327684823617, 1031.0),\n",
       " (546, 546, 3.402764444187437, 3.3865465281709808, 1010.0),\n",
       " (547, 547, 3.3996935541464377, 3.3879886158992276, 1060.0),\n",
       " (548, 548, 3.3966380762135135, 3.3781591974267053, 1035.0),\n",
       " (549, 549, 3.3935980520182465, 3.3821466380903349, 1088.0),\n",
       " (550, 550, 3.3905735231285927, 3.3728012389042266, 1059.0),\n",
       " (551, 551, 3.3875645310487057, 3.3729482959961201, 1080.0),\n",
       " (552, 552, 3.3845711172167499, 3.3781339748297667, 1020.0),\n",
       " (553, 553, 3.3815933230026989, 3.3590872329344146, 980.0),\n",
       " (554, 554, 3.3786311897061267, 3.3637472807263142, 981.0),\n",
       " (555, 555, 3.3756847585539793, 3.3592616259970254, 1052.0),\n",
       " (556, 556, 3.3727540706983423, 3.3586276419193535, 1044.0),\n",
       " (557, 557, 3.3698391672141916, 3.3488433372239332, 1076.0),\n",
       " (558, 558, 3.3669400890971368, 3.3499992341307236, 1074.0),\n",
       " (559, 559, 3.3640568772611497, 3.3422931562124472, 1116.0),\n",
       " (560, 560, 3.3611895725362824, 3.3528364060749869, 1059.0),\n",
       " (561, 561, 3.3583382156663788, 3.3407402421996082, 1060.0),\n",
       " (562, 562, 3.3555028473067692, 3.3449843213232997, 1131.0),\n",
       " (563, 563, 3.3526835080219604, 3.3387612070268671, 1093.0),\n",
       " (564, 564, 3.3498802382833088, 3.3349532785849498, 1061.0),\n",
       " (565, 565, 3.3470930784666919, 3.3251811733503858, 1047.0),\n",
       " (566, 566, 3.3443220688501634, 3.3255252207861559, 1120.0),\n",
       " (567, 567, 3.3415672496116007, 3.3138822381771171, 1054.0),\n",
       " (568, 568, 3.3388286608263442, 3.3220401823265004, 1028.0),\n",
       " (569, 569, 3.3361063424648258, 3.3147958025804036, 1097.0),\n",
       " (570, 570, 3.3334003343901912, 3.3212407951189129, 1036.0),\n",
       " (571, 571, 3.3307106763559089, 3.3147716628041879, 1133.0),\n",
       " (572, 572, 3.3280374080033774, 3.3168147057397794, 1077.0),\n",
       " (573, 573, 3.3253805688595159, 3.304392052635428, 1061.0),\n",
       " (574, 574, 3.3227401983343561, 3.3033868490015972, 1029.0),\n",
       " (575, 575, 3.3201163357186201, 3.3011319490087643, 1118.0),\n",
       " (576, 576, 3.317509020181292, 3.3004753603919301, 1100.0),\n",
       " (577, 577, 3.314918290767185, 3.2974482633033952, 1152.0),\n",
       " (578, 578, 3.3123441863944989, 3.2997837192153243, 1110.0),\n",
       " (579, 579, 3.3097867458523726, 3.2952660057219947, 1085.0),\n",
       " (580, 580, 3.3072460077984278, 3.2898780089662729, 1136.0),\n",
       " (581, 581, 3.3047220107563113, 3.2846718704453388, 1155.0),\n",
       " (582, 582, 3.3022147931132277, 3.2784254178957615, 1159.0),\n",
       " (583, 583, 3.2997243931174669, 3.2818753944865899, 1123.0),\n",
       " (584, 584, 3.2972508488759296, 3.2768328621329235, 1152.0),\n",
       " (585, 585, 3.2947941983516413, 3.2713854053479516, 1088.0),\n",
       " (586, 586, 3.2923544793612729, 3.2804730151245427, 1222.0),\n",
       " (587, 587, 3.2899317295726425, 3.2725026984311256, 1122.0),\n",
       " (588, 588, 3.2875259865022266, 3.2689906312149484, 1128.0),\n",
       " (589, 589, 3.2851372875126601, 3.2647152193604168, 1201.0),\n",
       " (590, 590, 3.2827656698102343, 3.2662357579600294, 1134.0),\n",
       " (591, 591, 3.2804111704423939, 3.2610455812600136, 1090.0),\n",
       " (592, 592, 3.2780738262952283, 3.2606806613823314, 1173.0),\n",
       " (593, 593, 3.2757536740909621, 3.2591266140047219, 1116.0),\n",
       " (594, 594, 3.2734507503854458, 3.2612115899341942, 1203.0),\n",
       " (595, 595, 3.2711650915656394, 3.2506084302424405, 1228.0),\n",
       " (596, 596, 3.2688967338470998, 3.2518036003994988, 1171.0),\n",
       " (597, 597, 3.266645713271465, 3.245799283329446, 1143.0),\n",
       " (598, 598, 3.2644120657039357, 3.2383639458348035, 1149.0),\n",
       " (599, 599, 3.2621958268307618, 3.2450221163308455, 1185.0),\n",
       " (600, 600, 3.2599970321567224, 3.2380968159081931, 1124.0),\n",
       " (601, 601, 3.257815717002611, 3.2423865755710883, 1192.0),\n",
       " (602, 602, 3.2556519165027202, 3.239497552474317, 1206.0),\n",
       " (603, 603, 3.2535056656023267, 3.2299500007989415, 1193.0),\n",
       " (604, 604, 3.2513769990551751, 3.2326776798263022, 1206.0),\n",
       " (605, 605, 3.2492659514209725, 3.2302161983540318, 1193.0),\n",
       " (606, 606, 3.2471725570628731, 3.2284458899817636, 1205.0),\n",
       " (607, 607, 3.2450968501449751, 3.2355878526349695, 1145.0),\n",
       " (608, 608, 3.2430388646298147, 3.2215956124057663, 1143.0),\n",
       " (609, 609, 3.2409986342758672, 3.2244189092763049, 1223.0),\n",
       " (610, 610, 3.2389761926350489, 3.2265967228198718, 1154.0),\n",
       " (611, 611, 3.2369715730502233, 3.2202002175739546, 1181.0),\n",
       " (612, 612, 3.234984808652714, 3.2267029129775469, 1214.0),\n",
       " (613, 613, 3.23301593235982, 3.2159128255125924, 1202.0),\n",
       " (614, 614, 3.2310649768723372, 3.2166518695026709, 1226.0),\n",
       " (615, 615, 3.229131974672085, 3.2101430745483248, 1189.0),\n",
       " (616, 616, 3.2272169580194383, 3.2132318823318053, 1286.0),\n",
       " (617, 617, 3.2253199589508696, 3.2119058281023927, 1199.0),\n",
       " (618, 618, 3.22344100927649, 3.1993302875760796, 1133.0),\n",
       " (619, 619, 3.2215801405776077, 3.2089909589728887, 1204.0),\n",
       " (620, 620, 3.2197373842042829, 3.1998198617514131, 1224.0),\n",
       " (621, 621, 3.2179127712729003, 3.1998448234415542, 1237.0),\n",
       " (622, 622, 3.216106332663744, 3.1896829290391477, 1193.0),\n",
       " (623, 623, 3.2143180990185831, 3.1957335644727189, 1242.0),\n",
       " (624, 624, 3.2125481007382657, 3.1983636699001585, 1219.0),\n",
       " (625, 625, 3.2107963679803238, 3.1909939591123924, 1182.0),\n",
       " (626, 626, 3.2090629306565859, 3.1937543851507972, 1205.0),\n",
       " (627, 627, 3.207347818430804, 3.1890484047162517, 1281.0),\n",
       " (628, 628, 3.205651060716284, 3.1876956504681759, 1225.0),\n",
       " (629, 629, 3.2039726866735361, 3.1867150539555649, 1299.0),\n",
       " (630, 630, 3.2023127252079298, 3.1856893676671842, 1325.0),\n",
       " (631, 631, 3.2006712049673638, 3.1810585416912516, 1279.0),\n",
       " (632, 632, 3.1990481543399492, 3.185291334977205, 1244.0),\n",
       " (633, 633, 3.1974436014517029, 3.1783208645552117, 1080.0),\n",
       " (634, 634, 3.195857574164255, 3.1791153574740991, 763.0),\n",
       " (635, 635, 3.1942901000725712, 3.1866363620224298, 299.0),\n",
       " (636, 636, 3.1927412065026877, 3.1639251863071478, 85.0),\n",
       " (637, 637, 3.1912109205094605, 3.1741285250098237, 20.0),\n",
       " (638, 638, 3.1896992688743304, 3.2078169677852593, 5.0),\n",
       " (639, 639, 3.1882062781031029, 3.2083784418315147, 6.0),\n",
       " (640, 640, 3.5162586698928986, -1, 0.0),\n",
       " (641, 641, 3.5126890582964463, 3.4043328839752989, 4.0),\n",
       " (642, 642, 3.5091334209679426, 3.5299907755276743, 14.0),\n",
       " (643, 643, 3.5055918004286775, 3.478053697061803, 105.0),\n",
       " (644, 644, 3.5020642392039836, 3.4905284051424839, 389.0),\n",
       " (645, 645, 3.4985507798215503, 3.4894285354978196, 772.0),\n",
       " (646, 646, 3.4950514648097211, 3.4861577957489809, 778.0),\n",
       " (647, 647, 3.4915663366957781, 3.4837298975776787, 887.0),\n",
       " (648, 648, 3.4880954380042093, 3.4739210854619955, 891.0),\n",
       " (649, 649, 3.4846388112549596, 3.4676978857159195, 851.0),\n",
       " (650, 650, 3.4811964989616682, 3.4599432264698238, 864.0),\n",
       " (651, 651, 3.4777685436298915, 3.4617132161458994, 830.0),\n",
       " (652, 652, 3.4743549877553064, 3.4557944985538533, 863.0),\n",
       " (653, 653, 3.4709558738219042, 3.458805287167726, 872.0),\n",
       " (654, 654, 3.4675712443001623, 3.4546226026376683, 898.0),\n",
       " (655, 655, 3.4642011416452103, 3.4575145538951544, 857.0),\n",
       " (656, 656, 3.4608456082949695, 3.4502575887243392, 835.0),\n",
       " (657, 657, 3.4575046866682881, 3.4429140424300746, 875.0),\n",
       " (658, 658, 3.4541784191630542, 3.4394118228787152, 853.0),\n",
       " (659, 659, 3.4508668481542979, 3.4336435108093681, 885.0),\n",
       " (660, 660, 3.4475700159922753, 3.4357905290274537, 894.0),\n",
       " (661, 661, 3.4442879650005422, 3.4278871350980924, 842.0),\n",
       " (662, 662, 3.4410207374740098, 3.4301446479875271, 880.0),\n",
       " (663, 663, 3.4377683756769852, 3.42340113884182, 829.0),\n",
       " (664, 664, 3.4345309218412021, 3.4183427411872005, 873.0),\n",
       " (665, 665, 3.4313084181638316, 3.4151280170533389, 907.0),\n",
       " (666, 666, 3.4281009068054833, 3.41391675433169, 906.0),\n",
       " (667, 667, 3.4249084298881884, 3.420209170971876, 851.0),\n",
       " (668, 668, 3.4217310294933729, 3.4063191389828686, 968.0),\n",
       " (669, 669, 3.4185687476598119, 3.4026456117144654, 890.0),\n",
       " (670, 670, 3.4154216263815771, 3.3941512654604065, 966.0),\n",
       " (671, 671, 3.4122897076059613, 3.3988349301143495, 895.0),\n",
       " (672, 672, 3.409173033231399, 3.3899624033131208, 886.0),\n",
       " (673, 673, 3.4060716451053663, 3.4008617904305445, 895.0),\n",
       " (674, 674, 3.4029855850222726, 3.3882391205811149, 869.0),\n",
       " (675, 675, 3.3999148947213338, 3.3808863777413993, 855.0),\n",
       " (676, 676, 3.3968596158844386, 3.3791646993254294, 913.0),\n",
       " (677, 677, 3.3938197901339984, 3.3850204989809924, 919.0),\n",
       " (678, 678, 3.3907954590307825, 3.3660148958805682, 887.0),\n",
       " (679, 679, 3.3877866640717471, 3.3738663576896029, 917.0),\n",
       " (680, 680, 3.3847934466878442, 3.3676836246453781, 903.0),\n",
       " (681, 681, 3.3818158482418252, 3.3645642124205759, 932.0),\n",
       " (682, 682, 3.3788539100260278, 3.3644026219845662, 922.0),\n",
       " (683, 683, 3.3759076732601527, 3.3599657474064792, 953.0),\n",
       " (684, 684, 3.3729771790890282, 3.3544621334971758, 956.0),\n",
       " (685, 685, 3.3700624685803637, 3.3503155413474088, 1002.0),\n",
       " (686, 686, 3.3671635827224935, 3.3489132268258377, 984.0),\n",
       " (687, 687, 3.3642805624221022, 3.3420622976217258, 964.0),\n",
       " (688, 688, 3.3614134485019509, 3.3462365887521646, 976.0),\n",
       " (689, 689, 3.358562281698581, 3.3354100564315954, 965.0),\n",
       " (690, 690, 3.3557271026600146, 3.3366972468308216, 965.0),\n",
       " (691, 691, 3.3529079519434437, 3.3381124673555247, 972.0),\n",
       " (692, 692, 3.3501048700129039, 3.3288125328235685, 952.0),\n",
       " (693, 693, 3.3473178972369468, 3.3315376869625579, 975.0),\n",
       " (694, 694, 3.3445470738862948, 3.3290277769379246, 940.0),\n",
       " (695, 695, 3.3417924401314898, 3.3266132356577018, 964.0),\n",
       " (696, 696, 3.3390540360405336, 3.3217264302111542, 957.0),\n",
       " (697, 697, 3.3363319015765169, 3.3145879418959132, 936.0),\n",
       " (698, 698, 3.3336260765952406, 3.3157253639597921, 984.0),\n",
       " (699, 699, 3.3309366008428283, 3.3124058576818558, 958.0),\n",
       " (700, 700, 3.3282635139533312, 3.303857224231288, 1001.0),\n",
       " (701, 701, 3.3256068554463223, 3.3088712247923442, 978.0),\n",
       " (702, 702, 3.3229666647244862, 3.3054591656693275, 1009.0),\n",
       " (703, 703, 3.3203429810711991, 3.3031437660954857, 1052.0),\n",
       " (704, 704, 3.317735843648101, 3.3048011721638075, 981.0),\n",
       " (705, 705, 3.3151452914926636, 3.2917519627650784, 985.0),\n",
       " (706, 706, 3.3125713635157474, 3.2918448452918478, 1023.0),\n",
       " (707, 707, 3.3100140984991553, 3.289631757382744, 993.0),\n",
       " (708, 708, 3.3074735350931799, 3.2942716814632673, 1048.0),\n",
       " (709, 709, 3.3049497118141415, 3.2841883708114996, 1027.0),\n",
       " (710, 710, 3.302442667041924, 3.2967670414755128, 994.0),\n",
       " (711, 711, 3.2999524390175048, 3.2829481054275966, 1054.0),\n",
       " (712, 712, 3.2974790658404758, 3.2838047566132276, 1002.0),\n",
       " (713, 713, 3.2950225854665667, 3.2802105364576448, 999.0),\n",
       " (714, 714, 3.2925830357051553, 3.2759434970627535, 1046.0),\n",
       " (715, 715, 3.2901604542167813, 3.2756078087321638, 1046.0),\n",
       " (716, 716, 3.2877548785106496, 3.2801827674262256, 1038.0),\n",
       " (717, 717, 3.2853663459421352, 3.2770982589413964, 1009.0),\n",
       " (718, 718, 3.2829948937102804, 3.2617120409933329, 1017.0),\n",
       " (719, 719, 3.280640558855294, 3.2598150948490887, 1019.0),\n",
       " (720, 720, 3.2783033782560418, 3.2554613713884288, 1030.0),\n",
       " (721, 721, 3.2759833886275396, 3.26287076113366, 1018.0),\n",
       " (722, 722, 3.2736806265184417, 3.2550240820551584, 1145.0),\n",
       " (723, 723, 3.2713951283085287, 3.2538678915433747, 1077.0),\n",
       " (724, 724, 3.2691269302061943, 3.2493988454140577, 1012.0),\n",
       " (725, 725, 3.2668760682459284, 3.2528230811266123, 1066.0),\n",
       " (726, 726, 3.2646425782858035, 3.2526048029584778, 1057.0),\n",
       " (727, 727, 3.2624264960049563, 3.2408641727919889, 1031.0),\n",
       " (728, 728, 3.260227856901075, 3.2415929130094607, 1017.0),\n",
       " (729, 729, 3.2580466962878813, 3.2405068972568096, 1042.0),\n",
       " (730, 730, 3.2558830492926152, 3.2357663912578438, 1083.0),\n",
       " (731, 731, 3.2537369508535221, 3.2292499901478857, 1090.0),\n",
       " (732, 732, 3.2516084357173414, 3.2338630833957924, 1064.0),\n",
       " (733, 733, 3.2494975384367928, 3.2325402852412766, 1037.0),\n",
       " (734, 734, 3.2474042933680702, 3.2272631420702647, 1053.0),\n",
       " (735, 735, 3.2453287346683348, 3.2229067689435573, 1046.0),\n",
       " (736, 736, 3.2432708962932124, 3.2259743139585781, 1056.0),\n",
       " (737, 737, 3.2412308119942921, 3.222415292987947, 1017.0),\n",
       " (738, 738, 3.2392085153166312, 3.2213069476014478, 1110.0),\n",
       " (739, 739, 3.2372040395962651, 3.2182633967838221, 1092.0),\n",
       " (740, 740, 3.2352174179577138, 3.2170343833625936, 1127.0),\n",
       " (741, 741, 3.2332486833115044, 3.2153829405078014, 1107.0),\n",
       " (742, 742, 3.2312978683516902, 3.2182312604560797, 1075.0),\n",
       " (743, 743, 3.2293650055533791, 3.2114057709675201, 1082.0),\n",
       " (744, 744, 3.2274501271702678, 3.2167661905886376, 1134.0),\n",
       " (745, 745, 3.2255532652321799, 3.2096128329395333, 1124.0),\n",
       " (746, 746, 3.2236744515426148, 3.203542889841299, 1114.0),\n",
       " (747, 747, 3.2218137176762993, 3.1989613717015497, 1036.0),\n",
       " (748, 748, 3.219971094976751, 3.2017746432413055, 1098.0),\n",
       " (749, 749, 3.2181466145538455, 3.2138227990047636, 1081.0),\n",
       " (750, 750, 3.2163403072813948, 3.2000854506047411, 1221.0),\n",
       " (751, 751, 3.2145522037947334, 3.1977940157230176, 1164.0),\n",
       " (752, 752, 3.2127823344883133, 3.199108306999582, 1134.0),\n",
       " (753, 753, 3.2110307295133094, 3.1993056899972041, 1159.0),\n",
       " (754, 754, 3.2092974187752334, 3.1910126988074397, 1157.0),\n",
       " (755, 755, 3.2075824319315593, 3.1861725867505584, 1195.0),\n",
       " (756, 756, 3.2058857983893585, 3.1928626892249405, 1130.0),\n",
       " (757, 757, 3.2042075473029485, 3.1832682633540981, 1205.0),\n",
       " (758, 758, 3.2025477075715476, 3.1834606593456143, 1134.0),\n",
       " (759, 759, 3.2009063078369504, 3.1790729124285737, 1123.0),\n",
       " (760, 760, 3.1992833764812048, 3.182746378949167, 1209.0),\n",
       " (761, 761, 3.1976789416243112, 3.1828934303845533, 1085.0),\n",
       " (762, 762, 3.1960930311219315, 3.1739221805827644, 773.0),\n",
       " (763, 763, 3.1945256725631079, 3.1750643150869178, 293.0),\n",
       " (764, 764, 3.1929768932680012, 3.1870742096235265, 72.0),\n",
       " (765, 765, 3.1914467202856414, 3.1076499979329637, 22.0),\n",
       " (766, 766, 3.189935180391692, 3.1179811203840968, 5.0),\n",
       " (767, 767, 3.1884423000862312, nan, 1.0),\n",
       " (768, 768, 3.5166866639051193, 3.5660374092973894, 1.0),\n",
       " (769, 769, 3.5131174871852373, 3.2459972029307518, 2.0),\n",
       " (770, 770, 3.509562283910248, 3.4937944153456226, 23.0),\n",
       " (771, 771, 3.5060210965885408, 3.4966500844195973, 86.0),\n",
       " (772, 772, 3.5024939677324949, 3.4910481177298944, 387.0),\n",
       " (773, 773, 3.4989809398567915, 3.4780146301226873, 693.0),\n",
       " (774, 774, 3.4954820554767143, 3.4860156603297652, 822.0),\n",
       " (775, 775, 3.4919973571064333, 3.4800316915426293, 796.0),\n",
       " (776, 776, 3.4885268872572728, 3.470321085625502, 738.0),\n",
       " (777, 777, 3.4850706884359628, 3.4703188451843046, 744.0),\n",
       " (778, 778, 3.481628803142879, 3.4676361190562046, 778.0),\n",
       " (779, 779, 3.4782012738702623, 3.4622293050991, 765.0),\n",
       " (780, 780, 3.4747881431004273, 3.4592709598860094, 814.0),\n",
       " (781, 781, 3.4713894533039529, 3.4584362707247625, 766.0),\n",
       " (782, 782, 3.4680052469378584, 3.4499917435201004, 793.0),\n",
       " (783, 783, 3.464635566443766, 3.4494226467078315, 790.0),\n",
       " (784, 784, 3.4612804542460465, 3.4491277992275817, 821.0),\n",
       " (785, 785, 3.4579399527499488, 3.4309443301389169, 790.0),\n",
       " (786, 786, 3.4546141043397185, 3.4396001056891645, 794.0),\n",
       " (787, 787, 3.4513029513766993, 3.4411592660602204, 814.0),\n",
       " (788, 788, 3.4480065361974179, 3.4250399674409771, 810.0),\n",
       " (789, 789, 3.4447249011116572, 3.4268875516289294, 807.0),\n",
       " (790, 790, 3.4414580884005135, 3.4180760250483844, 791.0),\n",
       " (791, 791, 3.4382061403144393, 3.4201232617685036, 846.0),\n",
       " (792, 792, 3.4349690990712736, 3.4136688494022907, 787.0),\n",
       " (793, 793, 3.4317470068542515, 3.4211219687954619, 861.0),\n",
       " (794, 794, 3.4285399058100108, 3.4065313620067084, 758.0),\n",
       " (795, 795, 3.4253478380465707, 3.4033259798033164, 866.0),\n",
       " (796, 796, 3.4221708456313102, 3.4133838877378557, 764.0),\n",
       " (797, 797, 3.4190089705889215, 3.401555719626248, 879.0),\n",
       " (798, 798, 3.4158622548993565, 3.4032061228162553, 835.0),\n",
       " (799, 799, 3.4127307404957565, 3.3957344258373081, 813.0),\n",
       " (800, 800, 3.4096144692623702, 3.3914063307162312, 837.0),\n",
       " (801, 801, 3.4065134830324562, 3.3880299811552561, 847.0),\n",
       " (802, 802, 3.4034278235861732, 3.3825276090620737, 804.0),\n",
       " (803, 803, 3.4003575326484592, 3.389369356523392, 816.0),\n",
       " (804, 804, 3.3973026518868932, 3.374315910471831, 803.0),\n",
       " (805, 805, 3.3942632229095486, 3.3830222271099344, 882.0),\n",
       " (806, 806, 3.3912392872628314, 3.3734663573908974, 833.0),\n",
       " (807, 807, 3.3882308864293051, 3.374854076292038, 837.0),\n",
       " (808, 808, 3.3852380618255071, 3.3642181584183315, 844.0),\n",
       " (809, 809, 3.382260854799747, 3.3705310666328296, 901.0),\n",
       " (810, 810, 3.3792993066298989, 3.3583829616971359, 903.0),\n",
       " (811, 811, 3.3763534585211774, 3.3682430015290481, 870.0),\n",
       " (812, 812, 3.3734233516039041, 3.3527579836137811, 879.0),\n",
       " (813, 813, 3.3705090269312614, 3.3568030097029964, 823.0),\n",
       " (814, 814, 3.3676105254770357, 3.3546085254439548, 889.0),\n",
       " (815, 815, 3.3647278881333507, 3.3480176427317403, 917.0),\n",
       " (816, 816, 3.3618611557083851, 3.3499260488929719, 916.0),\n",
       " (817, 817, 3.3590103689240847, 3.3440044056264746, 874.0),\n",
       " (818, 818, 3.356175568413863, 3.3350932257062555, 847.0),\n",
       " (819, 819, 3.3533567947202867, 3.3405298546070181, 854.0),\n",
       " (820, 820, 3.3505540882927582, 3.3366218090720969, 869.0),\n",
       " (821, 821, 3.3477674894851819, 3.3353075243191053, 903.0),\n",
       " (822, 822, 3.3449970385536241, 3.3244949535226254, 891.0),\n",
       " (823, 823, 3.3422427756539643, 3.3290483546473739, 916.0),\n",
       " (824, 824, 3.3395047408395331, 3.3238917345142243, 855.0),\n",
       " (825, 825, 3.3367829740587442, 3.3180884318352204, 916.0),\n",
       " (826, 826, 3.3340775151527171, 3.3223526148969991, 913.0),\n",
       " (827, 827, 3.3313884038528916, 3.3156318767039394, 953.0),\n",
       " (828, 828, 3.3287156797786315, 3.307235665495138, 894.0),\n",
       " (829, 829, 3.3260593824348232, 3.3136672719737565, 873.0),\n",
       " (830, 830, 3.3234195512094642, 3.3073980033358161, 860.0),\n",
       " (831, 831, 3.3207962253712462, 3.3035195760605953, 930.0),\n",
       " (832, 832, 3.3181894440671278, 3.2973290824029928, 897.0),\n",
       " (833, 833, 3.3155992463199042, 3.2925841991199194, 962.0),\n",
       " (834, 834, 3.3130256710257644, 3.2899259593585026, 809.0),\n",
       " (835, 835, 3.3104687569518485, 3.2917620011064179, 863.0),\n",
       " (836, 836, 3.307928542733793, 3.2834958897610607, 941.0),\n",
       " (837, 837, 3.3054050668732744, 3.2873480170377523, 923.0),\n",
       " (838, 838, 3.3028983677355432, 3.2923594160131517, 900.0),\n",
       " (839, 839, 3.3004084835469558, 3.2798540879200657, 895.0),\n",
       " (840, 840, 3.2979354523924989, 3.2782145107862863, 881.0),\n",
       " (841, 841, 3.2954793122133106, 3.2704659354442112, 932.0),\n",
       " (842, 842, 3.293040100804197, 3.2845875870113606, 977.0),\n",
       " (843, 843, 3.2906178558111421, 3.2750871478612753, 934.0),\n",
       " (844, 844, 3.288212614728816, 3.2703911469990876, 882.0),\n",
       " (845, 845, 3.2858244148980811, 3.2693161544837053, 944.0),\n",
       " (846, 846, 3.2834532935034901, 3.2696207035436506, 912.0),\n",
       " (847, 847, 3.2810992875707856, 3.260513486263668, 945.0),\n",
       " (848, 848, 3.2787624339643937, 3.2647615673396357, 977.0),\n",
       " (849, 849, 3.2764427693849187, 3.2680254937217907, 933.0),\n",
       " (850, 850, 3.2741403303666314, 3.2499605491396264, 899.0),\n",
       " (851, 851, 3.2718551532749607, 3.2485353732768458, 1032.0),\n",
       " (852, 852, 3.2695872743039782, 3.2519080867165018, 952.0),\n",
       " (853, 853, 3.2673367294738869, 3.2505245218566943, 1013.0),\n",
       " (854, 854, 3.2651035546285079, 3.2477012684763906, 975.0),\n",
       " (855, 855, 3.2628877854327625, 3.2445320689388017, 989.0),\n",
       " (856, 856, 3.2606894573701615, 3.2430806571904705, 957.0),\n",
       " (857, 857, 3.2585086057402881, 3.2395410604392052, 960.0),\n",
       " (858, 858, 3.2563452656562872, 3.2335919857548969, 987.0),\n",
       " (859, 859, 3.2541994720423513, 3.2383641240463898, 968.0),\n",
       " (860, 860, 3.2520712596312089, 3.2355228077919533, 1001.0),\n",
       " (861, 861, 3.2499606629616173, 3.2355108735983094, 960.0),\n",
       " (862, 862, 3.2478677163758558, 3.2262254084173367, 991.0),\n",
       " (863, 863, 3.2457924540172183, 3.2274478775498974, 1020.0),\n",
       " (864, 864, 3.243734909827515, 3.2264996020839281, 1020.0),\n",
       " (865, 865, 3.2416951175445718, 3.2244387183244601, 959.0),\n",
       " (866, 866, 3.2396731106997381, 3.2169665982036881, 945.0),\n",
       " (867, 867, 3.2376689226153923, 3.2224294082572662, 1037.0),\n",
       " (868, 868, 3.2356825864024605, 3.2179569714999303, 952.0),\n",
       " (869, 869, 3.2337141349579301, 3.2168157274995961, 1053.0),\n",
       " (870, 870, 3.231763600962378, 3.2141122316783335, 967.0),\n",
       " (871, 871, 3.2298310168774953, 3.212676537914875, 1002.0),\n",
       " (872, 872, 3.2279164149436266, 3.2115356595909286, 1027.0),\n",
       " (873, 873, 3.2260198271773093, 3.2018583659984978, 993.0),\n",
       " (874, 874, 3.2241412853688214, 3.2033382901374474, 999.0),\n",
       " (875, 875, 3.2222808210797389, 3.2029244553489917, 1019.0),\n",
       " (876, 876, 3.2204384656404965, 3.2019506869499632, 1047.0),\n",
       " (877, 877, 3.2186142501479602, 3.1973553525518312, 1028.0),\n",
       " (878, 878, 3.2168082054630047, 3.2026713069056338, 1040.0),\n",
       " (879, 879, 3.2150203622081017, 3.1921092968222649, 1070.0),\n",
       " (880, 880, 3.2132507507649191, 3.2053844320280658, 1052.0),\n",
       " (881, 881, 3.2114994012719227, 3.2034410610468398, 980.0),\n",
       " (882, 882, 3.2097663436219959, 3.188087196235764, 997.0),\n",
       " (883, 883, 3.2080516074600665, 3.1963515733952992, 1021.0),\n",
       " (884, 884, 3.2063552221807421, 3.1923089738399986, 991.0),\n",
       " (885, 885, 3.2046772169259596, 3.1881019839352249, 1070.0),\n",
       " (886, 886, 3.2030176205826462, 3.1862082599477186, 1027.0),\n",
       " (887, 887, 3.2013764617803879, 3.1873672477699224, 1032.0),\n",
       " (888, 888, 3.199753768889118, 3.1826722238764571, 1017.0),\n",
       " (889, 889, 3.1981495700168114, 3.1856021906208567, 1017.0),\n",
       " (890, 890, 3.1965638930071956, 3.1861335225734457, 801.0),\n",
       " (891, 891, 3.1949967654374731, 3.1798773488267247, 383.0),\n",
       " (892, 892, 3.1934482146160623, 3.1746319155340545, 109.0),\n",
       " (893, 893, 3.1919182675803457, 3.1487049801952938, 30.0),\n",
       " (894, 894, 3.1904069510944395, 3.1701982066860217, 3.0),\n",
       " (895, 895, 3.1889142916469733, 3.2173620265716321, 3.0),\n",
       " (896, 896, 3.517328557275714, -1, 0.0),\n",
       " (897, 897, 3.5137600325727787, 3.5098900046716626, 3.0),\n",
       " (898, 898, 3.5102054800801126, 3.4787404010619127, 30.0),\n",
       " (899, 899, 3.5066649422867666, 3.4760261012567728, 153.0),\n",
       " (900, 900, 3.5031384616857002, 3.4910238713545656, 531.0),\n",
       " (901, 901, 3.4996260807720949, 3.4795397454749986, 797.0),\n",
       " (902, 902, 3.4961278420416573, 3.4901540558857729, 905.0),\n",
       " (903, 903, 3.4926437879889001, 3.4855564293119881, 873.0),\n",
       " (904, 904, 3.4891739611054153, 3.4763638703600206, 851.0),\n",
       " (905, 905, 3.4857184038781237, 3.4673139711059546, 895.0),\n",
       " (906, 906, 3.4822771587875159, 3.4649006372914606, 892.0),\n",
       " (907, 907, 3.4788502683058744, 3.4597745910113842, 876.0),\n",
       " (908, 908, 3.475437774895481, 3.4621189333217153, 841.0),\n",
       " (909, 909, 3.4720397210068108, 3.4566470386716612, 858.0),\n",
       " (910, 910, 3.4686561490767076, 3.4410010114307004, 810.0),\n",
       " (911, 911, 3.4652871015265467, 3.4504152765382003, 872.0),\n",
       " (912, 912, 3.4619326207603831, 3.4507755606327462, 926.0),\n",
       " (913, 913, 3.458592749163083, 3.4356195639534941, 923.0),\n",
       " (914, 914, 3.455267529098442, 3.4418790068237959, 804.0),\n",
       " (915, 915, 3.4519570029072861, 3.4315118502273538, 904.0),\n",
       " (916, 916, 3.4486612129055607, 3.4460538622743964, 867.0),\n",
       " (917, 917, 3.4453802013824038, 3.4265868488393965, 884.0),\n",
       " (918, 918, 3.4421140105982042, 3.4232865686022276, 907.0),\n",
       " (919, 919, 3.4388626827826454, 3.4248280696046884, 879.0),\n",
       " (920, 920, 3.4356262601327363, 3.4170502711230251, 868.0),\n",
       " (921, 921, 3.4324047848108261, 3.4108024058217259, 867.0),\n",
       " (922, 922, 3.4291982989426049, 3.4195638559906731, 907.0),\n",
       " (923, 923, 3.4260068446150913, 3.4018691822778919, 937.0),\n",
       " (924, 924, 3.4228304638746061, 3.4102809996528372, 912.0),\n",
       " (925, 925, 3.4196691987247325, 3.4061087088657871, 895.0),\n",
       " (926, 926, 3.4165230911242577, 3.3954209024572553, 943.0),\n",
       " (927, 927, 3.4133921829851097, 3.3909607456413733, 868.0),\n",
       " (928, 928, 3.4102765161702728, 3.394761938468192, 910.0),\n",
       " (929, 929, 3.4071761324916934, 3.3933338395653103, 927.0),\n",
       " (930, 930, 3.4040910737081718, 3.3880785984518509, 910.0),\n",
       " (931, 931, 3.4010213815232406, 3.3925245125268342, 948.0),\n",
       " (932, 932, 3.3979670975830318, 3.3738581084007304, 965.0),\n",
       " (933, 933, 3.3949282634741271, 3.3797658422967887, 932.0),\n",
       " (934, 934, 3.3919049207214012, 3.3783533281052347, 935.0),\n",
       " (935, 935, 3.3888971107858459, 3.372350597817845, 925.0),\n",
       " (936, 936, 3.3859048750623892, 3.3706233199191273, 908.0),\n",
       " (937, 937, 3.382928254877696, 3.3736494901634115, 973.0),\n",
       " (938, 938, 3.3799672914879593, 3.3543698786112648, 976.0),\n",
       " (939, 939, 3.3770220260766814, 3.3615605005439311, 941.0),\n",
       " (940, 940, 3.3740924997524377, 3.3638261823780486, 930.0),\n",
       " (941, 941, 3.3711787535466367, 3.3488201891409952, 893.0),\n",
       " (942, 942, 3.3682808284112613, 3.3572555833648741, 904.0),\n",
       " (943, 943, 3.3653987652166055, 3.3506166619698678, 884.0),\n",
       " (944, 944, 3.3625326047489938, 3.3416346404770962, 865.0),\n",
       " (945, 945, 3.3596823877084949, 3.3423574414839541, 1009.0),\n",
       " (946, 946, 3.356848154706622, 3.3379134594296258, 939.0),\n",
       " (947, 947, 3.3540299462640242, 3.3451111530149471, 1011.0),\n",
       " (948, 948, 3.3512278028081668, 3.330550917908027, 1026.0),\n",
       " (949, 949, 3.3484417646710019, 3.3351114011743013, 946.0),\n",
       " (950, 950, 3.3456718720866299, 3.3335485427511542, 1011.0),\n",
       " (951, 951, 3.3429181651889497, 3.332886511319932, 966.0),\n",
       " (952, 952, 3.3401806840093027, 3.3220853362040286, 956.0),\n",
       " (953, 953, 3.3374594684741048, 3.319788215721919, 991.0),\n",
       " (954, 954, 3.3347545584024703, 3.3153281171007549, 975.0),\n",
       " (955, 955, 3.3320659935038281, 3.3101677761648389, 982.0),\n",
       " (956, 956, 3.3293938133755301, 3.3170635401940727, 983.0),\n",
       " (957, 957, 3.3267380575004482, 3.3075042064119247, 1013.0),\n",
       " (958, 958, 3.3240987652445666, 3.3078555120822228, 1022.0),\n",
       " (959, 959, 3.3214759758545678, 3.3007682373944363, 1019.0),\n",
       " (960, 960, 3.3188697284554047, 3.3043809467364658, 1034.0),\n",
       " (961, 961, 3.3162800620478743, 3.3015923885769167, 1037.0),\n",
       " (962, 962, 3.3137070155061767, 3.304748099603819, 993.0),\n",
       " (963, 963, 3.3111506275754738, 3.2917357425450926, 1037.0),\n",
       " (964, 964, 3.308610936869437, 3.2953057090874727, 993.0),\n",
       " (965, 965, 3.3060879818677926, 3.2938553274425035, 990.0),\n",
       " (966, 966, 3.3035818009138587, 3.2843838177256797, 1068.0),\n",
       " (967, 967, 3.3010924322120778, 3.2895559341995804, 1026.0),\n",
       " (968, 968, 3.2986199138255463, 3.2836836904713662, 1086.0),\n",
       " (969, 969, 3.2961642836735328, 3.2836585586128062, 1062.0),\n",
       " (970, 970, 3.293725579529001, 3.2770306977921679, 1003.0),\n",
       " (971, 971, 3.2913038390161207, 3.2768418764677651, 1049.0),\n",
       " (972, 972, 3.2888990996077783, 3.2739137849343747, 1043.0),\n",
       " (973, 973, 3.2865113986230829, 3.2679105175199825, 1051.0),\n",
       " (974, 974, 3.2841407732248711, 3.272115209127437, 1006.0),\n",
       " (975, 975, 3.2817872604172034, 3.2607315996497519, 1071.0),\n",
       " (976, 976, 3.2794508970428655, 3.2613140985449709, 1109.0),\n",
       " (977, 977, 3.2771317197808592, 3.2598384677637853, 1057.0),\n",
       " (978, 978, 3.2748297651439002, 3.26731510462252, 1054.0),\n",
       " (979, 979, 3.2725450694759046, 3.2628461228460548, 1028.0),\n",
       " (980, 980, 3.2702776689494812, 3.2562791964028373, 1058.0),\n",
       " (981, 981, 3.2680275995634207, 3.249763398071801, 1121.0),\n",
       " (982, 982, 3.2657948971401822, 3.251341828852151, 1046.0),\n",
       " (983, 983, 3.2635795973233828, 3.2453940850294019, 1103.0),\n",
       " (984, 984, 3.2613817355752843, 3.2407113053239147, 1121.0),\n",
       " (985, 985, 3.2592013471742818, 3.2404654074977413, 1010.0),\n",
       " (986, 986, 3.2570384672123929, 3.2435430179866271, 1060.0),\n",
       " (987, 987, 3.2548931305927469, 3.2409202122589615, 1043.0),\n",
       " (988, 988, 3.2527653720270777, 3.2360877589470105, 1051.0),\n",
       " (989, 989, 3.2506552260332153, 3.2378457629922592, 1064.0),\n",
       " (990, 990, 3.2485627269325819, 3.2271476116905657, 1095.0),\n",
       " (991, 991, 3.246487908847691, 3.2298259039552559, 1126.0),\n",
       " (992, 992, 3.244430805699646, 3.2277079362140739, 1100.0),\n",
       " (993, 993, 3.2423914512056458, 3.2306603479456277, 1007.0),\n",
       " (994, 994, 3.2403698788764923, 3.2289059329626797, 1057.0),\n",
       " (995, 995, 3.238366122014102, 3.2204534627235537, 1089.0),\n",
       " (996, 996, 3.2363802137090221, 3.2171949764421668, 1044.0),\n",
       " (997, 997, 3.2344121868379507, 3.2153037888245226, 1041.0),\n",
       " (998, 998, 3.2324620740612646, 3.217392652428702, 1082.0),\n",
       " (999, 999, 3.2305299078205505, 3.2170930156649478, 1157.0),\n",
       " ...]"
      ]
     },
     "execution_count": 88,
     "metadata": {},
     "output_type": "execute_result"
    }
   ],
   "source": [
    "L2s[:1024]"
   ]
  },
  {
   "cell_type": "code",
   "execution_count": null,
   "metadata": {},
   "outputs": [],
   "source": []
  }
 ],
 "metadata": {
  "kernelspec": {
   "display_name": "python2-default at jnrk-sns-analysis",
   "language": "python",
   "name": "jnrk-sns-analysis-python2-default"
  },
  "language_info": {
   "codemirror_mode": {
    "name": "ipython",
    "version": 2
   },
   "file_extension": ".py",
   "mimetype": "text/x-python",
   "name": "python",
   "nbconvert_exporter": "python",
   "pygments_lexer": "ipython2",
   "version": "2.7.12"
  },
  "toc": {
   "base_numbering": 1,
   "nav_menu": {},
   "number_sections": true,
   "sideBar": true,
   "skip_h1_title": false,
   "title_cell": "Table of Contents",
   "title_sidebar": "Contents",
   "toc_cell": false,
   "toc_position": {},
   "toc_section_display": true,
   "toc_window_display": true
  }
 },
 "nbformat": 4,
 "nbformat_minor": 2
}
