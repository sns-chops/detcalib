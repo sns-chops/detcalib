{
 "cells": [
  {
   "cell_type": "code",
   "execution_count": 1,
   "metadata": {},
   "outputs": [
    {
     "name": "stdout",
     "output_type": "stream",
     "text": [
      "/SNS/users/lj7/dv/sns-chops/detcalib/ARCS\n"
     ]
    }
   ],
   "source": [
    "workdir = \"/SNS/users/lj7/dv/sns-chops/detcalib/ARCS\"\n",
    "%cd {workdir}"
   ]
  },
  {
   "cell_type": "code",
   "execution_count": 2,
   "metadata": {},
   "outputs": [],
   "source": [
    "from mantid import simpleapi as msa, mtd\n",
    "import numpy as np"
   ]
  },
  {
   "cell_type": "code",
   "execution_count": 3,
   "metadata": {},
   "outputs": [
    {
     "name": "stdout",
     "output_type": "stream",
     "text": [
      "--2018-05-10 22:57:21--  https://raw.githubusercontent.com/mantidproject/mantid/master/instrument/ARCS_Definition_20121011-.xml\n",
      "Resolving raw.githubusercontent.com (raw.githubusercontent.com)... 151.101.200.133\n",
      "Connecting to raw.githubusercontent.com (raw.githubusercontent.com)|151.101.200.133|:443... connected.\n",
      "HTTP request sent, awaiting response... 200 OK\n",
      "Length: 79699 (78K) [text/plain]\n",
      "Saving to: ‘ARCS_Definition_20121011-.xml’\n",
      "\n",
      "100%[======================================>] 79,699      --.-K/s   in 0.05s   \n",
      "\n",
      "2018-05-10 22:57:22 (1.49 MB/s) - ‘ARCS_Definition_20121011-.xml’ saved [79699/79699]\n",
      "\n"
     ]
    }
   ],
   "source": [
    "!wget https://raw.githubusercontent.com/mantidproject/mantid/master/instrument/ARCS_Definition_20121011-.xml"
   ]
  },
  {
   "cell_type": "code",
   "execution_count": 4,
   "metadata": {},
   "outputs": [],
   "source": [
    "nxspath = '/SNS/ARCS/IPTS-19579/data/ARCS_95861_event.nxs'\n",
    "idfpath = './ARCS_Definition_20121011-.xml'"
   ]
  },
  {
   "cell_type": "code",
   "execution_count": 5,
   "metadata": {},
   "outputs": [],
   "source": [
    "ws = msa.LoadEventNexus(nxspath, FilterByTimeStart=0, FilterByTimeStop=1)\n",
    "msa.LoadInstrument(ws, Filename=idfpath, RewriteSpectraMap=False)\n",
    "difcws = msa.CalculateDIFC(InputWorkspace=ws)\n",
    "difc = difcws.extractY().flatten().copy()\n",
    "Npixels = difcws.getNumberHistograms()\n",
    "detIDs = [difcws.getDetector(i).getID() for i in range(Npixels)]\n",
    "detIDs = np.array(detIDs)\n",
    "msa.DeleteWorkspace('difcws')"
   ]
  },
  {
   "cell_type": "code",
   "execution_count": 6,
   "metadata": {},
   "outputs": [],
   "source": [
    "np.save(\"./difc-detIDs.npy\", detIDs)\n",
    "np.save(\"./difc-nominal.npy\", difc)"
   ]
  },
  {
   "cell_type": "code",
   "execution_count": null,
   "metadata": {},
   "outputs": [],
   "source": []
  }
 ],
 "metadata": {
  "kernelspec": {
   "display_name": "python2-default at jnrk-sns-analysis",
   "language": "python",
   "name": "jnrk-sns-analysis-python2-default"
  },
  "language_info": {
   "codemirror_mode": {
    "name": "ipython",
    "version": 2
   },
   "file_extension": ".py",
   "mimetype": "text/x-python",
   "name": "python",
   "nbconvert_exporter": "python",
   "pygments_lexer": "ipython2",
   "version": "2.7.12"
  },
  "toc": {
   "base_numbering": 1,
   "nav_menu": {},
   "number_sections": true,
   "sideBar": true,
   "skip_h1_title": false,
   "title_cell": "Table of Contents",
   "title_sidebar": "Contents",
   "toc_cell": false,
   "toc_position": {},
   "toc_section_display": true,
   "toc_window_display": false
  }
 },
 "nbformat": 4,
 "nbformat_minor": 2
}
