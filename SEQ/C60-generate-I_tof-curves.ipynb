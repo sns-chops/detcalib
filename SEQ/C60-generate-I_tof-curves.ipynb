{
 "cells": [
  {
   "cell_type": "code",
   "execution_count": 1,
   "metadata": {},
   "outputs": [
    {
     "name": "stdout",
     "output_type": "stream",
     "text": [
      "/SNS/users/lj7/dv/sns-chops/detcalib/SEQ\n"
     ]
    }
   ],
   "source": [
    "workdir = \"/SNS/users/lj7/dv/sns-chops/detcalib/SEQ\"\n",
    "%cd {workdir}"
   ]
  },
  {
   "cell_type": "code",
   "execution_count": 2,
   "metadata": {
    "collapsed": true
   },
   "outputs": [],
   "source": [
    "import sys, os, numpy as np\n",
    "from matplotlib import pyplot as plt\n",
    "%matplotlib notebook"
   ]
  },
  {
   "cell_type": "code",
   "execution_count": 3,
   "metadata": {
    "collapsed": true
   },
   "outputs": [],
   "source": [
    "sys.path.insert(0, \"%s/lib\"%workdir)"
   ]
  },
  {
   "cell_type": "code",
   "execution_count": 4,
   "metadata": {
    "collapsed": true
   },
   "outputs": [],
   "source": [
    "#sys.path"
   ]
  },
  {
   "cell_type": "code",
   "execution_count": 5,
   "metadata": {},
   "outputs": [
    {
     "data": {
      "text/plain": [
       "<module 'get_I_tof' from '/SNS/users/lj7/dv/sns-chops/detcalib/SEQ/lib/get_I_tof.pyc'>"
      ]
     },
     "execution_count": 5,
     "metadata": {},
     "output_type": "execute_result"
    }
   ],
   "source": [
    "import get_I_tof\n",
    "reload(get_I_tof)"
   ]
  },
  {
   "cell_type": "code",
   "execution_count": 12,
   "metadata": {
    "collapsed": true
   },
   "outputs": [],
   "source": [
    "# packs = ['D%s/eightpack' % p for p in range(23, 29+1)]\n",
    "# packs = ['B%s/eightpack' % p for p in range(23, 29+1)]\n",
    "# packs = ['C%sT/eightpack-top' % p for p in range(25, 26+1)] \\\n",
    "#     + ['C%sB/eightpack-bottom' % p for p in range(25, 26+1)] \n",
    "names = ['B22', 'D22', 'C21', 'C22', 'C23', 'C24', 'C27', 'C28', 'C29']\n",
    "packs = ['%s/eightpack' % n for n in names]"
   ]
  },
  {
   "cell_type": "code",
   "execution_count": 13,
   "metadata": {},
   "outputs": [
    {
     "data": {
      "text/plain": [
       "['B22/eightpack',\n",
       " 'D22/eightpack',\n",
       " 'C21/eightpack',\n",
       " 'C22/eightpack',\n",
       " 'C23/eightpack',\n",
       " 'C24/eightpack',\n",
       " 'C27/eightpack',\n",
       " 'C28/eightpack',\n",
       " 'C29/eightpack']"
      ]
     },
     "execution_count": 13,
     "metadata": {},
     "output_type": "execute_result"
    }
   ],
   "source": [
    "packs"
   ]
  },
  {
   "cell_type": "code",
   "execution_count": 8,
   "metadata": {
    "collapsed": true
   },
   "outputs": [],
   "source": [
    "nxs_files = [\n",
    "    '/SNS/SEQ/IPTS-19573/nexus/SEQ_130249.nxs.h5',\n",
    "    '/SNS/SEQ/IPTS-19573/nexus/SEQ_130250.nxs.h5',\n",
    "    '/SNS/SEQ/IPTS-19573/nexus/SEQ_130251.nxs.h5',\n",
    "    '/SNS/SEQ/IPTS-19573/nexus/SEQ_130252.nxs.h5',\n",
    "]\n",
    "outdir = 'C60-I_tof'"
   ]
  },
  {
   "cell_type": "code",
   "execution_count": null,
   "metadata": {
    "scrolled": true
   },
   "outputs": [
    {
     "name": "stdout",
     "output_type": "stream",
     "text": [
      "500.0 8750.0 575\n",
      "* run times: {'/SNS/SEQ/IPTS-19573/nexus/SEQ_130252.nxs.h5': 9476, '/SNS/SEQ/IPTS-19573/nexus/SEQ_130250.nxs.h5': 8932, '/SNS/SEQ/IPTS-19573/nexus/SEQ_130251.nxs.h5': 10097, '/SNS/SEQ/IPTS-19573/nexus/SEQ_130249.nxs.h5': 10900}\n",
      "* Number of TOF bins: 574\n",
      "* Working on /SNS/SEQ/IPTS-19573/nexus/SEQ_130249.nxs.h5\n",
      "* tstart 0.0\n",
      "array indexes of first and last pixel 21504 22527\n",
      "array indexes of first and last pixel 99328 100351\n",
      "array indexes of first and last pixel 58368 59391\n",
      "array indexes of first and last pixel 59392 60415\n",
      "array indexes of first and last pixel 60416 61439\n",
      "array indexes of first and last pixel 61440 62463\n",
      "array indexes of first and last pixel 66560 67583\n",
      "array indexes of first and last pixel 67584 68607\n",
      "array indexes of first and last pixel 68608 69631\n",
      "* tstart 1000.0\n",
      "array indexes of first and last pixel 21504 22527\n",
      "array indexes of first and last pixel 99328 100351\n",
      "array indexes of first and last pixel 58368 59391\n",
      "array indexes of first and last pixel 59392 60415\n",
      "array indexes of first and last pixel 60416 61439\n",
      "array indexes of first and last pixel 61440 62463\n",
      "array indexes of first and last pixel 66560 67583\n",
      "array indexes of first and last pixel 67584 68607\n",
      "array indexes of first and last pixel 68608 69631\n",
      "* tstart 2000.0\n",
      "array indexes of first and last pixel 21504 22527\n",
      "array indexes of first and last pixel 99328 100351\n",
      "array indexes of first and last pixel 58368 59391\n",
      "array indexes of first and last pixel 59392 60415\n",
      "array indexes of first and last pixel 60416 61439\n",
      "array indexes of first and last pixel 61440 62463\n",
      "array indexes of first and last pixel 66560 67583\n",
      "array indexes of first and last pixel 67584 68607\n",
      "array indexes of first and last pixel 68608 69631\n",
      "* tstart 3000.0\n",
      "array indexes of first and last pixel 21504 22527\n",
      "array indexes of first and last pixel 99328 100351\n",
      "array indexes of first and last pixel 58368 59391\n",
      "array indexes of first and last pixel 59392 60415\n",
      "array indexes of first and last pixel 60416 61439\n",
      "array indexes of first and last pixel 61440 62463\n",
      "array indexes of first and last pixel 66560 67583\n",
      "array indexes of first and last pixel 67584 68607\n",
      "array indexes of first and last pixel 68608 69631\n",
      "* tstart 4000.0\n",
      "array indexes of first and last pixel 21504 22527\n",
      "array indexes of first and last pixel 99328 100351\n",
      "array indexes of first and last pixel 58368 59391\n",
      "array indexes of first and last pixel 59392 60415\n",
      "array indexes of first and last pixel 60416 61439\n",
      "array indexes of first and last pixel 61440 62463\n",
      "array indexes of first and last pixel 66560 67583\n",
      "array indexes of first and last pixel 67584 68607\n",
      "array indexes of first and last pixel 68608 69631\n",
      "* tstart 5000.0\n",
      "array indexes of first and last pixel 21504 22527\n",
      "array indexes of first and last pixel 99328 100351\n",
      "array indexes of first and last pixel 58368 59391\n",
      "array indexes of first and last pixel 59392 60415\n",
      "array indexes of first and last pixel 60416 61439\n",
      "array indexes of first and last pixel 61440 62463\n",
      "array indexes of first and last pixel 66560 67583\n",
      "array indexes of first and last pixel 67584 68607\n",
      "array indexes of first and last pixel 68608 69631\n",
      "* tstart 6000.0\n",
      "array indexes of first and last pixel 21504 22527\n",
      "array indexes of first and last pixel 99328 100351\n",
      "array indexes of first and last pixel 58368 59391\n",
      "array indexes of first and last pixel 59392 60415\n",
      "array indexes of first and last pixel 60416 61439\n",
      "array indexes of first and last pixel 61440 62463\n",
      "array indexes of first and last pixel 66560 67583\n",
      "array indexes of first and last pixel 67584 68607\n",
      "array indexes of first and last pixel 68608 69631\n",
      "* tstart 7000.0\n",
      "array indexes of first and last pixel 21504 22527\n",
      "array indexes of first and last pixel 99328 100351\n",
      "array indexes of first and last pixel 58368 59391\n",
      "array indexes of first and last pixel 59392 60415\n",
      "array indexes of first and last pixel 60416 61439\n",
      "array indexes of first and last pixel 61440 62463\n",
      "array indexes of first and last pixel 66560 67583\n",
      "array indexes of first and last pixel 67584 68607\n",
      "array indexes of first and last pixel 68608 69631\n",
      "* tstart 8000.0\n",
      "array indexes of first and last pixel 21504 22527\n",
      "array indexes of first and last pixel 99328 100351\n",
      "array indexes of first and last pixel 58368 59391\n",
      "array indexes of first and last pixel 59392 60415\n",
      "array indexes of first and last pixel 60416 61439\n",
      "array indexes of first and last pixel 61440 62463\n",
      "array indexes of first and last pixel 66560 67583\n",
      "array indexes of first and last pixel 67584 68607\n",
      "array indexes of first and last pixel 68608 69631\n",
      "* tstart 9000.0\n",
      "array indexes of first and last pixel 21504 22527\n",
      "array indexes of first and last pixel 99328 100351\n",
      "array indexes of first and last pixel 58368 59391\n",
      "array indexes of first and last pixel 59392 60415\n",
      "array indexes of first and last pixel 60416 61439\n",
      "array indexes of first and last pixel 61440 62463\n",
      "array indexes of first and last pixel 66560 67583\n",
      "array indexes of first and last pixel 67584 68607\n",
      "array indexes of first and last pixel 68608 69631\n",
      "* Working on /SNS/SEQ/IPTS-19573/nexus/SEQ_130250.nxs.h5\n",
      "* tstart 0.0\n",
      "array indexes of first and last pixel 21504 22527\n",
      "array indexes of first and last pixel 99328 100351\n",
      "array indexes of first and last pixel 58368 59391\n",
      "array indexes of first and last pixel 59392 60415\n",
      "array indexes of first and last pixel 60416 61439\n",
      "array indexes of first and last pixel 61440 62463\n",
      "array indexes of first and last pixel 66560 67583\n",
      "array indexes of first and last pixel 67584 68607\n",
      "array indexes of first and last pixel 68608 69631\n",
      "* tstart 1000.0\n",
      "array indexes of first and last pixel 21504 22527\n",
      "array indexes of first and last pixel 99328 100351\n",
      "array indexes of first and last pixel 58368 59391\n",
      "array indexes of first and last pixel 59392 60415\n",
      "array indexes of first and last pixel 60416 61439\n",
      "array indexes of first and last pixel 61440 62463\n",
      "array indexes of first and last pixel 66560 67583\n",
      "array indexes of first and last pixel 67584 68607\n",
      "array indexes of first and last pixel 68608 69631\n",
      "* tstart 2000.0\n",
      "array indexes of first and last pixel 21504 22527\n",
      "array indexes of first and last pixel 99328 100351\n",
      "array indexes of first and last pixel 58368 59391\n",
      "array indexes of first and last pixel 59392 60415\n",
      "array indexes of first and last pixel 60416 61439\n",
      "array indexes of first and last pixel 61440 62463\n",
      "array indexes of first and last pixel 66560 67583\n",
      "array indexes of first and last pixel 67584 68607\n",
      "array indexes of first and last pixel 68608 69631\n",
      "* tstart 3000.0\n",
      "array indexes of first and last pixel 21504 22527\n",
      "array indexes of first and last pixel 99328 100351\n",
      "array indexes of first and last pixel 58368 59391\n",
      "array indexes of first and last pixel 59392 60415\n",
      "array indexes of first and last pixel 60416 61439\n",
      "array indexes of first and last pixel 61440 62463\n",
      "array indexes of first and last pixel 66560 67583\n",
      "array indexes of first and last pixel 67584 68607\n",
      "array indexes of first and last pixel 68608 69631\n",
      "* tstart 4000.0\n",
      "array indexes of first and last pixel 21504 22527\n",
      "array indexes of first and last pixel 99328 100351\n",
      "array indexes of first and last pixel 58368 59391\n",
      "array indexes of first and last pixel 59392 60415\n",
      "array indexes of first and last pixel 60416 61439\n",
      "array indexes of first and last pixel 61440 62463\n",
      "array indexes of first and last pixel 66560 67583\n",
      "array indexes of first and last pixel 67584 68607\n",
      "array indexes of first and last pixel 68608 69631\n",
      "* tstart 5000.0\n"
     ]
    }
   ],
   "source": [
    "%%time\n",
    "get_I_tof.get_I_tof(nxs_files, outdir, packs, dt = 1000., tofaxis=(500., 1.e6/60/2.*1.05, -0.005))"
   ]
  },
  {
   "cell_type": "code",
   "execution_count": 11,
   "metadata": {},
   "outputs": [
    {
     "name": "stdout",
     "output_type": "stream",
     "text": [
      "\u001b[0m\u001b[00m./C60-I_tof/I_tof-y-B23.npy\u001b[0m   \u001b[00m./C60-I_tof/I_tof-y-C26T.npy\u001b[0m\r\n",
      "\u001b[00m./C60-I_tof/I_tof-y-B24.npy\u001b[0m   \u001b[00m./C60-I_tof/I_tof-y-D23.npy\u001b[0m\r\n",
      "\u001b[00m./C60-I_tof/I_tof-y-B25.npy\u001b[0m   \u001b[00m./C60-I_tof/I_tof-y-D24.npy\u001b[0m\r\n",
      "\u001b[00m./C60-I_tof/I_tof-y-B26.npy\u001b[0m   \u001b[00m./C60-I_tof/I_tof-y-D25.npy\u001b[0m\r\n",
      "\u001b[00m./C60-I_tof/I_tof-y-B27.npy\u001b[0m   \u001b[00m./C60-I_tof/I_tof-y-D26.npy\u001b[0m\r\n",
      "\u001b[00m./C60-I_tof/I_tof-y-B28.npy\u001b[0m   \u001b[00m./C60-I_tof/I_tof-y-D27.npy\u001b[0m\r\n",
      "\u001b[00m./C60-I_tof/I_tof-y-B29.npy\u001b[0m   \u001b[00m./C60-I_tof/I_tof-y-D28.npy\u001b[0m\r\n",
      "\u001b[00m./C60-I_tof/I_tof-y-C25B.npy\u001b[0m  \u001b[00m./C60-I_tof/I_tof-y-D29.npy\u001b[0m\r\n",
      "\u001b[00m./C60-I_tof/I_tof-y-C25T.npy\u001b[0m  \u001b[00m./C60-I_tof/I_tof-y_matrix.npy\u001b[0m\r\n",
      "\u001b[00m./C60-I_tof/I_tof-y-C26B.npy\u001b[0m\r\n"
     ]
    }
   ],
   "source": [
    "ls ./C60-I_tof/I_tof-y*"
   ]
  },
  {
   "cell_type": "code",
   "execution_count": null,
   "metadata": {
    "collapsed": true
   },
   "outputs": [],
   "source": []
  },
  {
   "cell_type": "code",
   "execution_count": 12,
   "metadata": {
    "collapsed": true
   },
   "outputs": [],
   "source": [
    "import get_difc_from_Itof"
   ]
  },
  {
   "cell_type": "code",
   "execution_count": 13,
   "metadata": {
    "collapsed": true
   },
   "outputs": [],
   "source": [
    "init_IDF = './SEQUOIA_Definition_guessshortpacks.xml'\n",
    "get_difc_from_Itof.get_nominal_difc(init_IDF=init_IDF, nxspath=nxs_files[0], outdir=outdir)"
   ]
  },
  {
   "cell_type": "code",
   "execution_count": null,
   "metadata": {
    "collapsed": true
   },
   "outputs": [],
   "source": []
  }
 ],
 "metadata": {
  "kernelspec": {
   "display_name": "SSH ndav2 default-py2",
   "language": "python",
   "name": "rik_ssh_jptr_ndav2_mcvine"
  },
  "language_info": {
   "codemirror_mode": {
    "name": "ipython",
    "version": 2
   },
   "file_extension": ".py",
   "mimetype": "text/x-python",
   "name": "python",
   "nbconvert_exporter": "python",
   "pygments_lexer": "ipython2",
   "version": "2.7.12"
  }
 },
 "nbformat": 4,
 "nbformat_minor": 2
}
