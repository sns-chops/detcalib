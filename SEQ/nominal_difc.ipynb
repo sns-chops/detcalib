{
 "cells": [
  {
   "cell_type": "code",
   "execution_count": 2,
   "metadata": {},
   "outputs": [
    {
     "name": "stdout",
     "output_type": "stream",
     "text": [
      "/SNS/users/lj7/dv/sns-chops/detcalib/SEQ\n"
     ]
    }
   ],
   "source": [
    "workdir = \"/SNS/users/lj7/dv/sns-chops/detcalib/SEQ\"\n",
    "%cd {workdir}"
   ]
  },
  {
   "cell_type": "code",
   "execution_count": 13,
   "metadata": {},
   "outputs": [],
   "source": [
    "from mantid import simpleapi as msa, mtd\n",
    "import numpy as np"
   ]
  },
  {
   "cell_type": "code",
   "execution_count": 3,
   "metadata": {
    "collapsed": true
   },
   "outputs": [],
   "source": [
    "nxspath = '/SNS/SEQ/IPTS-19573/nexus/SEQ_130249.nxs.h5'\n",
    "idfpath = './SEQUOIA_Definition.xml'"
   ]
  },
  {
   "cell_type": "code",
   "execution_count": 10,
   "metadata": {},
   "outputs": [],
   "source": [
    "ws = msa.LoadEventNexus(nxspath, FilterByTimeStart=0, FilterByTimeStop=1)\n",
    "msa.LoadInstrument(ws, Filename=idfpath, RewriteSpectraMap=False)\n",
    "difcws = msa.CalculateDIFC(InputWorkspace=ws)\n",
    "difc = difcws.extractY().flatten().copy()\n",
    "Npixels = difcws.getNumberHistograms()\n",
    "detIDs = [difcws.getDetector(i).getID() for i in range(Npixels)]\n",
    "detIDs = np.array(detIDs)\n",
    "msa.DeleteWorkspace('difcws')"
   ]
  },
  {
   "cell_type": "code",
   "execution_count": 17,
   "metadata": {
    "collapsed": true
   },
   "outputs": [],
   "source": [
    "np.save(\"./difc-detIDs.npy\", detIDs)\n",
    "np.save(\"./difc-nominal.npy\", difc)"
   ]
  }
 ],
 "metadata": {
  "kernelspec": {
   "display_name": "mcvine",
   "language": "python",
   "name": "mcvine"
  },
  "language_info": {
   "codemirror_mode": {
    "name": "ipython",
    "version": 2
   },
   "file_extension": ".py",
   "mimetype": "text/x-python",
   "name": "python",
   "nbconvert_exporter": "python",
   "pygments_lexer": "ipython2",
   "version": "2.7.12"
  }
 },
 "nbformat": 4,
 "nbformat_minor": 2
}
