{
 "cells": [
  {
   "cell_type": "code",
   "execution_count": 96,
   "metadata": {},
   "outputs": [],
   "source": [
    "%matplotlib inline"
   ]
  },
  {
   "cell_type": "code",
   "execution_count": 97,
   "metadata": {},
   "outputs": [],
   "source": [
    "from matplotlib import pyplot as plt\n",
    "import numpy as np, os\n",
    "from mantid import simpleapi as msa, mtd"
   ]
  },
  {
   "cell_type": "markdown",
   "metadata": {},
   "source": [
    "Run # 130260, Vanadium 5x5cm2, Ei=55 meV, F2=420 Hz, T0=90 Hz, PC=3 C"
   ]
  },
  {
   "cell_type": "markdown",
   "metadata": {},
   "source": [
    "Read data"
   ]
  },
  {
   "cell_type": "code",
   "execution_count": 98,
   "metadata": {},
   "outputs": [],
   "source": [
    "w = msa.Load('/SNS/SEQ/IPTS-19573/nexus/SEQ_130260.nxs.h5', LoadMonitors=True)"
   ]
  },
  {
   "cell_type": "code",
   "execution_count": 99,
   "metadata": {},
   "outputs": [],
   "source": [
    "mons = w[1]\n",
    "w = w[0]"
   ]
  },
  {
   "cell_type": "markdown",
   "metadata": {},
   "source": [
    "Get Ei, vi"
   ]
  },
  {
   "cell_type": "code",
   "execution_count": 100,
   "metadata": {},
   "outputs": [],
   "source": [
    "Ei, T0 = msa.GetEiT0atSNS(mons)"
   ]
  },
  {
   "cell_type": "code",
   "execution_count": 101,
   "metadata": {},
   "outputs": [
    {
     "data": {
      "text/plain": [
       "(55.46598187461831, 43.72705035409854)"
      ]
     },
     "execution_count": 101,
     "metadata": {},
     "output_type": "execute_result"
    }
   ],
   "source": [
    "Ei, T0"
   ]
  },
  {
   "cell_type": "code",
   "execution_count": 102,
   "metadata": {},
   "outputs": [
    {
     "data": {
      "text/plain": [
       "3257.5578083027858"
      ]
     },
     "execution_count": 102,
     "metadata": {},
     "output_type": "execute_result"
    }
   ],
   "source": [
    "vi = 437.4*np.sqrt(Ei)\n",
    "vi"
   ]
  },
  {
   "cell_type": "markdown",
   "metadata": {},
   "source": [
    "Get L1, t1"
   ]
  },
  {
   "cell_type": "code",
   "execution_count": 8,
   "metadata": {},
   "outputs": [],
   "source": [
    "instr = w.getInstrument()"
   ]
  },
  {
   "cell_type": "code",
   "execution_count": 9,
   "metadata": {},
   "outputs": [
    {
     "name": "stdout",
     "output_type": "stream",
     "text": [
      "[0,0,-20.0114]\n",
      "[0,0,0]\n"
     ]
    }
   ],
   "source": [
    "print instr.getSource().getPos()\n",
    "print instr.getSample().getPos()"
   ]
  },
  {
   "cell_type": "code",
   "execution_count": 10,
   "metadata": {},
   "outputs": [],
   "source": [
    "L1 = (instr.getSample().getPos() - instr.getSource().getPos())[-1]"
   ]
  },
  {
   "cell_type": "code",
   "execution_count": 11,
   "metadata": {},
   "outputs": [
    {
     "data": {
      "text/plain": [
       "20.0114"
      ]
     },
     "execution_count": 11,
     "metadata": {},
     "output_type": "execute_result"
    }
   ],
   "source": [
    "L1"
   ]
  },
  {
   "cell_type": "code",
   "execution_count": 12,
   "metadata": {},
   "outputs": [
    {
     "data": {
      "text/plain": [
       "6143.0682669684074"
      ]
     },
     "execution_count": 12,
     "metadata": {},
     "output_type": "execute_result"
    }
   ],
   "source": [
    "t1 = L1/vi*1e6\n",
    "t1"
   ]
  },
  {
   "cell_type": "markdown",
   "metadata": {},
   "source": [
    "To histogram"
   ]
  },
  {
   "cell_type": "code",
   "execution_count": 13,
   "metadata": {},
   "outputs": [
    {
     "data": {
      "text/plain": [
       "EventWorkspace\n",
       "Title: Vanadium 5x5cm2, Ei=55meV F2=420 T0=90\n",
       "Histograms: 115712\n",
       "Bins: 16667\n",
       "Histogram\n",
       "X axis: Time-of-flight / microsecond\n",
       "Y axis: Counts\n",
       "Distribution: False\n",
       "Instrument: SEQUOIA (2012-Apr-04 to 2100-Jan-31)Instrument from: /SNS/SEQ/IPTS-19573/nexus/SEQ_130260.nxs.h5\n",
       "\n",
       "Parameters from: /home/lj7/dv/mantid/mantid/instrument/SEQUOIA_Parameters.xml\n",
       "Run start: 2017-Jul-13 05:38:47\n",
       "Run end:  2017-Jul-13 06:39:48\n",
       "\n",
       "Events: 24081998"
      ]
     },
     "execution_count": 13,
     "metadata": {},
     "output_type": "execute_result"
    }
   ],
   "source": [
    "msa.Rebin(InputWorkspace=w, OutputWorkspace=w, Params=\"0,1.,16667\")"
   ]
  },
  {
   "cell_type": "markdown",
   "metadata": {},
   "source": [
    "Nominal L2"
   ]
  },
  {
   "cell_type": "code",
   "execution_count": 14,
   "metadata": {},
   "outputs": [
    {
     "data": {
      "text/plain": [
       "5.5248554772882894"
      ]
     },
     "execution_count": 14,
     "metadata": {},
     "output_type": "execute_result"
    }
   ],
   "source": [
    "L2 = np.linalg.norm(instr.getDetector(40000).getPos())\n",
    "L2"
   ]
  },
  {
   "cell_type": "code",
   "execution_count": 15,
   "metadata": {},
   "outputs": [
    {
     "data": {
      "text/plain": [
       "7882.8068088781329"
      ]
     },
     "execution_count": 15,
     "metadata": {},
     "output_type": "execute_result"
    }
   ],
   "source": [
    "(L1+L2)/vi * 1e6 + T0"
   ]
  },
  {
   "cell_type": "code",
   "execution_count": 16,
   "metadata": {},
   "outputs": [
    {
     "data": {
      "text/plain": [
       "[<matplotlib.lines.Line2D at 0x7fc6858dff50>]"
      ]
     },
     "execution_count": 16,
     "metadata": {},
     "output_type": "execute_result"
    },
    {
     "data": {
      "image/png": "[encoded data removed]",
      "text/plain": [
       "<matplotlib.figure.Figure at 0x7fc692609090>"
      ]
     },
     "metadata": {},
     "output_type": "display_data"
    }
   ],
   "source": [
    "plt.plot(w.readY(40000)[7800:8000])"
   ]
  },
  {
   "cell_type": "markdown",
   "metadata": {},
   "source": [
    "Simple estimate of peak position"
   ]
  },
  {
   "cell_type": "code",
   "execution_count": 17,
   "metadata": {},
   "outputs": [
    {
     "data": {
      "text/plain": [
       "7885"
      ]
     },
     "execution_count": 17,
     "metadata": {},
     "output_type": "execute_result"
    }
   ],
   "source": [
    "t = np.argmax(w.readY(40000))\n",
    "t"
   ]
  },
  {
   "cell_type": "code",
   "execution_count": 18,
   "metadata": {},
   "outputs": [
    {
     "data": {
      "text/plain": [
       "1698.204682677494"
      ]
     },
     "execution_count": 18,
     "metadata": {},
     "output_type": "execute_result"
    }
   ],
   "source": [
    "t2 = t - t1 - T0\n",
    "t2"
   ]
  },
  {
   "cell_type": "code",
   "execution_count": 19,
   "metadata": {},
   "outputs": [
    {
     "data": {
      "text/plain": [
       "5.5319999241524256"
      ]
     },
     "execution_count": 19,
     "metadata": {},
     "output_type": "execute_result"
    }
   ],
   "source": [
    "d = t2*vi/1e6\n",
    "d"
   ]
  },
  {
   "cell_type": "markdown",
   "metadata": {},
   "source": [
    "Pretty close"
   ]
  },
  {
   "cell_type": "code",
   "execution_count": 20,
   "metadata": {},
   "outputs": [
    {
     "name": "stdout",
     "output_type": "stream",
     "text": [
      "5.53199992415 5.52485547729\n"
     ]
    }
   ],
   "source": [
    "print d, L2"
   ]
  },
  {
   "cell_type": "markdown",
   "metadata": {},
   "source": [
    "better estimate of peak position"
   ]
  },
  {
   "cell_type": "code",
   "execution_count": 21,
   "metadata": {},
   "outputs": [],
   "source": [
    "tof_0 = (L1+L2)/vi * 1e6 + T0"
   ]
  },
  {
   "cell_type": "code",
   "execution_count": 22,
   "metadata": {},
   "outputs": [
    {
     "name": "stdout",
     "output_type": "stream",
     "text": [
      "7882.80680888\n"
     ]
    }
   ],
   "source": [
    "print tof_0"
   ]
  },
  {
   "cell_type": "code",
   "execution_count": 23,
   "metadata": {},
   "outputs": [],
   "source": [
    "spectrum_number = 40000"
   ]
  },
  {
   "cell_type": "code",
   "execution_count": 24,
   "metadata": {},
   "outputs": [],
   "source": [
    "spectrum = w.readY(spectrum_number)"
   ]
  },
  {
   "cell_type": "code",
   "execution_count": 25,
   "metadata": {},
   "outputs": [],
   "source": [
    "center_bin = int(tof_0)"
   ]
  },
  {
   "cell_type": "code",
   "execution_count": 26,
   "metadata": {},
   "outputs": [],
   "source": [
    "subset = spectrum[center_bin-100: center_bin+100]"
   ]
  },
  {
   "cell_type": "code",
   "execution_count": 27,
   "metadata": {},
   "outputs": [],
   "source": [
    "center = np.dot(subset, np.arange(center_bin-100+.5, center_bin+100+.5))/np.sum(subset)"
   ]
  },
  {
   "cell_type": "code",
   "execution_count": 28,
   "metadata": {},
   "outputs": [
    {
     "data": {
      "text/plain": [
       "7881.2619047619046"
      ]
     },
     "execution_count": 28,
     "metadata": {},
     "output_type": "execute_result"
    }
   ],
   "source": [
    "center"
   ]
  },
  {
   "cell_type": "code",
   "execution_count": 29,
   "metadata": {},
   "outputs": [
    {
     "name": "stdout",
     "output_type": "stream",
     "text": [
      "5.51982286282 5.52485547729\n"
     ]
    }
   ],
   "source": [
    "t = center\n",
    "print (t - t1 - T0)*vi/1e6, L2"
   ]
  },
  {
   "cell_type": "code",
   "execution_count": null,
   "metadata": {},
   "outputs": [],
   "source": []
  },
  {
   "cell_type": "code",
   "execution_count": 30,
   "metadata": {},
   "outputs": [
    {
     "data": {
      "text/plain": [
       "[<matplotlib.lines.Line2D at 0x7fc6840c2310>]"
      ]
     },
     "execution_count": 30,
     "metadata": {},
     "output_type": "execute_result"
    },
    {
     "data": {
      "image/png": "[encoded data removed]",
      "text/plain": [
       "<matplotlib.figure.Figure at 0x7fc692609a50>"
      ]
     },
     "metadata": {},
     "output_type": "display_data"
    }
   ],
   "source": [
    "plt.plot(w.readY(0)[7800:8000])"
   ]
  },
  {
   "cell_type": "code",
   "execution_count": 60,
   "metadata": {},
   "outputs": [],
   "source": [
    "N = w.getNumberHistograms()"
   ]
  },
  {
   "cell_type": "code",
   "execution_count": 88,
   "metadata": {},
   "outputs": [],
   "source": [
    "def iterL2(min_counts=20):\n",
    "    for i in range(N):\n",
    "        if i%10000==0: print i\n",
    "        sp = w.getSpectrum(i)\n",
    "        pixelID = sp.getDetectorIDs()[0]\n",
    "        spectrum = w.readY(i)\n",
    "        nominal_L2 = np.linalg.norm(instr.getDetector(pixelID).getPos())\n",
    "        tot_counts = np.sum(spectrum)\n",
    "        if tot_counts == 0:\n",
    "            yield i, pixelID, nominal_L2, -1, tot_counts # dets not installed\n",
    "            continue\n",
    "        nominal_TOF = (L1+nominal_L2)/vi * 1e6 + T0\n",
    "        center_bin = int(nominal_TOF)\n",
    "        subset = spectrum[center_bin-100: center_bin+100]\n",
    "        center = np.dot(subset, np.arange(center_bin-100+.5, center_bin+100+.5))/np.sum(subset)\n",
    "        t = center\n",
    "        L2 = (t - t1 - T0)*vi/1e6\n",
    "        # assert abs(nominal_L2-L2)/nominal_L2<0.1\n",
    "        yield i, pixelID, nominal_L2, L2, tot_counts\n",
    "        continue"
   ]
  },
  {
   "cell_type": "code",
   "execution_count": 89,
   "metadata": {
    "scrolled": true
   },
   "outputs": [
    {
     "name": "stdout",
     "output_type": "stream",
     "text": [
      "0\n",
      "10000\n",
      "20000\n",
      "30000\n",
      "40000\n",
      "50000\n",
      "60000\n"
     ]
    },
    {
     "name": "stderr",
     "output_type": "stream",
     "text": [
      "/usr/local/lib/python2.7/dist-packages/ipykernel_launcher.py:15: RuntimeWarning: invalid value encountered in double_scalars\n",
      "  from ipykernel import kernelapp as app\n"
     ]
    },
    {
     "name": "stdout",
     "output_type": "stream",
     "text": [
      "70000\n",
      "80000\n",
      "90000\n",
      "100000\n",
      "110000\n",
      "CPU times: user 19.4 s, sys: 6.75 s, total: 26.1 s\n",
      "Wall time: 26.1 s\n"
     ]
    }
   ],
   "source": [
    "%%time\n",
    "L2s = list(iterL2(min_counts=1))"
   ]
  },
  {
   "cell_type": "code",
   "execution_count": 91,
   "metadata": {},
   "outputs": [
    {
     "name": "stdout",
     "output_type": "stream",
     "text": [
      "24960 62848 5.69341562594 5.62806955291 246.0\n",
      "24961 62849 5.69031016474 5.62960703057 189.0\n",
      "24962 62850 5.6872184619 5.62538324799 144.0\n",
      "24963 62851 5.68414053989 5.61798821733 157.0\n",
      "24964 62852 5.68107642108 5.61851076316 168.0\n",
      "24966 62854 5.67498968245 5.6046237205 176.0\n",
      "24967 62855 5.67196710716 5.60686190138 169.0\n",
      "24969 62857 5.66596365554 5.60406074486 177.0\n",
      "24978 62866 5.63964051012 5.58259852632 164.0\n",
      "62587 100475 5.53887524868 5.59877985922 1.0\n",
      "62595 100483 5.51954885843 5.45490438936 7.0\n",
      "62718 100606 5.5390762561 5.59552230141 1.0\n",
      "62721 100609 5.5190508631 5.44078830552 2.0\n",
      "63357 101245 5.53887265586 5.4733638836 2.0\n",
      "63361 101249 5.51973256379 5.45870487347 1.0\n",
      "63483 101371 5.53887524868 5.46033365237 2.0\n",
      "63742 101630 5.53907625498 5.30885721428 1.0\n",
      "63743 101631 5.53928058734 5.46684876799 2.0\n",
      "64129 102017 5.51905086198 5.40006883292 1.0\n",
      "64130 102018 5.51916315003 5.58249207018 1.0\n",
      "64383 102271 5.53928058734 5.45870487347 2.0\n",
      "64766 102654 5.51937184329 5.38378104387 1.0\n",
      "65281 103169 5.54697061724 5.61134472505 7.0\n",
      "65536 103424 5.54767490043 5.45544731566 2.0\n",
      "65791 103679 5.51922798492 5.5890071858 1.0\n",
      "65793 103681 5.54669928495 5.4717351047 1.0\n",
      "66174 104062 5.51896280513 5.43590196881 2.0\n",
      "66303 104191 5.51895528982 5.57923451237 1.0\n",
      "66434 104322 5.54708148344 5.49062893999 6.0\n",
      "66558 104446 5.51978084891 5.58412084909 2.0\n",
      "96001 133889 5.40929070162 5.47108359314 5.0\n",
      "96255 134143 5.6727210359 5.73233972936 2.0\n"
     ]
    }
   ],
   "source": [
    "for spectrumNo, pixelID, L2_0, L2, tot_counts in L2s:\n",
    "    if L2 < 0: continue\n",
    "    if L2 == 0 or abs(L2_0-L2)/L2_0 > 0.01:\n",
    "        print spectrumNo, pixelID, L2_0, L2, tot_counts"
   ]
  },
  {
   "cell_type": "code",
   "execution_count": 95,
   "metadata": {},
   "outputs": [
    {
     "data": {
      "text/plain": [
       "[(0, 37888, 5.697820025621076, -1, 0.0),\n",
       " (1, 37889, 5.6947025850999067, -1, 0.0),\n",
       " (2, 37890, 5.6915988792577918, -1, 0.0),\n",
       " (3, 37891, 5.6885089305760568, -1, 0.0),\n",
       " (4, 37892, 5.6854327614851412, -1, 0.0),\n",
       " (5, 37893, 5.682370394363919, -1, 0.0),\n",
       " (6, 37894, 5.679321851539016, -1, 0.0),\n",
       " (7, 37895, 5.6762871552841263, -1, 0.0),\n",
       " (8, 37896, 5.6732663278193245, -1, 0.0),\n",
       " (9, 37897, 5.6702593913103794, -1, 0.0)]"
      ]
     },
     "execution_count": 95,
     "metadata": {},
     "output_type": "execute_result"
    }
   ],
   "source": [
    "L2s[:10]"
   ]
  },
  {
   "cell_type": "code",
   "execution_count": 114,
   "metadata": {},
   "outputs": [],
   "source": [
    "L2table = msa.CreateEmptyTableWorkspace()"
   ]
  },
  {
   "cell_type": "code",
   "execution_count": 115,
   "metadata": {},
   "outputs": [
    {
     "name": "stdout",
     "output_type": "stream",
     "text": [
      "CPU times: user 540 ms, sys: 88 ms, total: 628 ms\n",
      "Wall time: 565 ms\n"
     ]
    }
   ],
   "source": [
    "%%time\n",
    "L2table.addColumn(type='int', name='detid')\n",
    "L2table.addColumn(type='float', name=\"L2\")\n",
    "L2table.addColumn(type='int', name=\"nodata\")\n",
    "\n",
    "for spectrumNo, pixelID, L2_0, L2, tot_counts in L2s:\n",
    "    row = dict(detid=pixelID, L2=L2, nodata=int(L2<0))\n",
    "    L2table.addRow(row)"
   ]
  },
  {
   "cell_type": "code",
   "execution_count": 116,
   "metadata": {},
   "outputs": [],
   "source": [
    "msa.SaveNexus(L2table, 'L2table.nxs')"
   ]
  },
  {
   "cell_type": "code",
   "execution_count": null,
   "metadata": {},
   "outputs": [],
   "source": []
  }
 ],
 "metadata": {
  "kernelspec": {
   "display_name": "Python 2",
   "language": "python",
   "name": "python2"
  },
  "language_info": {
   "codemirror_mode": {
    "name": "ipython",
    "version": 2
   },
   "file_extension": ".py",
   "mimetype": "text/x-python",
   "name": "python",
   "nbconvert_exporter": "python",
   "pygments_lexer": "ipython2",
   "version": "2.7.12"
  }
 },
 "nbformat": 4,
 "nbformat_minor": 2
}
