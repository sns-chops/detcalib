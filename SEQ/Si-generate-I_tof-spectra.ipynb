{
 "cells": [
  {
   "cell_type": "code",
   "execution_count": 1,
   "metadata": {},
   "outputs": [
    {
     "name": "stdout",
     "output_type": "stream",
     "text": [
      "/SNS/users/lj7/dv/sns-chops/detcalib/SEQ\n"
     ]
    }
   ],
   "source": [
    "workdir = \"/SNS/users/lj7/dv/sns-chops/detcalib/SEQ\"\n",
    "%cd {workdir}"
   ]
  },
  {
   "cell_type": "code",
   "execution_count": 2,
   "metadata": {
    "collapsed": true
   },
   "outputs": [],
   "source": [
    "import sys, os, numpy as np\n",
    "from matplotlib import pyplot as plt\n",
    "%matplotlib notebook"
   ]
  },
  {
   "cell_type": "code",
   "execution_count": 3,
   "metadata": {
    "collapsed": true
   },
   "outputs": [],
   "source": [
    "sys.path.insert(0, \"%s/lib\"%workdir)"
   ]
  },
  {
   "cell_type": "code",
   "execution_count": 4,
   "metadata": {
    "collapsed": true
   },
   "outputs": [],
   "source": [
    "#sys.path"
   ]
  },
  {
   "cell_type": "code",
   "execution_count": 5,
   "metadata": {},
   "outputs": [
    {
     "data": {
      "text/plain": [
       "<module 'get_I_tof' from '/SNS/users/lj7/dv/sns-chops/detcalib/SEQ/lib/get_I_tof.pyc'>"
      ]
     },
     "execution_count": 5,
     "metadata": {},
     "output_type": "execute_result"
    }
   ],
   "source": [
    "import get_I_tof\n",
    "reload(get_I_tof)"
   ]
  },
  {
   "cell_type": "code",
   "execution_count": 8,
   "metadata": {
    "collapsed": true
   },
   "outputs": [],
   "source": [
    "packtype = 'eightpack'\n",
    "packnames = ['B%s' % i for i in range(1,20+1) + range(31, 37+1)]\n",
    "packs = ['%s/%s' % (n, packtype) for n in packnames]"
   ]
  },
  {
   "cell_type": "code",
   "execution_count": 10,
   "metadata": {
    "collapsed": true
   },
   "outputs": [],
   "source": [
    "# packs"
   ]
  },
  {
   "cell_type": "markdown",
   "metadata": {},
   "source": [
    "# Si"
   ]
  },
  {
   "cell_type": "markdown",
   "metadata": {},
   "source": [
    "## Obtain I(tof) curves for all pixels and save them"
   ]
  },
  {
   "cell_type": "markdown",
   "metadata": {},
   "source": [
    "~.5hour"
   ]
  },
  {
   "cell_type": "code",
   "execution_count": 11,
   "metadata": {
    "scrolled": true
   },
   "outputs": [
    {
     "name": "stdout",
     "output_type": "stream",
     "text": [
      "500.0 8750.0 575\n",
      "* run times: {'/SNS/SEQ/IPTS-19573/nexus/SEQ_130273.nxs.h5': 6956}\n",
      "* Number of TOF bins: 574\n",
      "* Working on /SNS/SEQ/IPTS-19573/nexus/SEQ_130273.nxs.h5\n",
      "* tstart 0.0\n",
      "array indexes of first and last pixel 0 1023\n",
      "array indexes of first and last pixel 1024 2047\n",
      "array indexes of first and last pixel 2048 3071\n",
      "array indexes of first and last pixel 3072 4095\n",
      "array indexes of first and last pixel 4096 5119\n",
      "array indexes of first and last pixel 5120 6143\n",
      "array indexes of first and last pixel 6144 7167\n",
      "array indexes of first and last pixel 7168 8191\n",
      "array indexes of first and last pixel 8192 9215\n",
      "array indexes of first and last pixel 9216 10239\n",
      "array indexes of first and last pixel 10240 11263\n",
      "array indexes of first and last pixel 11264 12287\n",
      "array indexes of first and last pixel 12288 13311\n",
      "array indexes of first and last pixel 13312 14335\n",
      "array indexes of first and last pixel 14336 15359\n",
      "array indexes of first and last pixel 15360 16383\n",
      "array indexes of first and last pixel 16384 17407\n",
      "array indexes of first and last pixel 17408 18431\n",
      "array indexes of first and last pixel 18432 19455\n",
      "array indexes of first and last pixel 19456 20479\n",
      "array indexes of first and last pixel 30720 31743\n",
      "array indexes of first and last pixel 31744 32767\n",
      "array indexes of first and last pixel 32768 33791\n",
      "array indexes of first and last pixel 33792 34815\n",
      "array indexes of first and last pixel 34816 35839\n",
      "array indexes of first and last pixel 35840 36863\n",
      "array indexes of first and last pixel 36864 37887\n",
      "* tstart 1000.0\n",
      "array indexes of first and last pixel 0 1023\n",
      "array indexes of first and last pixel 1024 2047\n",
      "array indexes of first and last pixel 2048 3071\n",
      "array indexes of first and last pixel 3072 4095\n",
      "array indexes of first and last pixel 4096 5119\n",
      "array indexes of first and last pixel 5120 6143\n",
      "array indexes of first and last pixel 6144 7167\n",
      "array indexes of first and last pixel 7168 8191\n",
      "array indexes of first and last pixel 8192 9215\n",
      "array indexes of first and last pixel 9216 10239\n",
      "array indexes of first and last pixel 10240 11263\n",
      "array indexes of first and last pixel 11264 12287\n",
      "array indexes of first and last pixel 12288 13311\n",
      "array indexes of first and last pixel 13312 14335\n",
      "array indexes of first and last pixel 14336 15359\n",
      "array indexes of first and last pixel 15360 16383\n",
      "array indexes of first and last pixel 16384 17407\n",
      "array indexes of first and last pixel 17408 18431\n",
      "array indexes of first and last pixel 18432 19455\n",
      "array indexes of first and last pixel 19456 20479\n",
      "array indexes of first and last pixel 30720 31743\n",
      "array indexes of first and last pixel 31744 32767\n",
      "array indexes of first and last pixel 32768 33791\n",
      "array indexes of first and last pixel 33792 34815\n",
      "array indexes of first and last pixel 34816 35839\n",
      "array indexes of first and last pixel 35840 36863\n",
      "array indexes of first and last pixel 36864 37887\n",
      "* tstart 2000.0\n",
      "array indexes of first and last pixel 0 1023\n",
      "array indexes of first and last pixel 1024 2047\n",
      "array indexes of first and last pixel 2048 3071\n",
      "array indexes of first and last pixel 3072 4095\n",
      "array indexes of first and last pixel 4096 5119\n",
      "array indexes of first and last pixel 5120 6143\n",
      "array indexes of first and last pixel 6144 7167\n",
      "array indexes of first and last pixel 7168 8191\n",
      "array indexes of first and last pixel 8192 9215\n",
      "array indexes of first and last pixel 9216 10239\n",
      "array indexes of first and last pixel 10240 11263\n",
      "array indexes of first and last pixel 11264 12287\n",
      "array indexes of first and last pixel 12288 13311\n",
      "array indexes of first and last pixel 13312 14335\n",
      "array indexes of first and last pixel 14336 15359\n",
      "array indexes of first and last pixel 15360 16383\n",
      "array indexes of first and last pixel 16384 17407\n",
      "array indexes of first and last pixel 17408 18431\n",
      "array indexes of first and last pixel 18432 19455\n",
      "array indexes of first and last pixel 19456 20479\n",
      "array indexes of first and last pixel 30720 31743\n",
      "array indexes of first and last pixel 31744 32767\n",
      "array indexes of first and last pixel 32768 33791\n",
      "array indexes of first and last pixel 33792 34815\n",
      "array indexes of first and last pixel 34816 35839\n",
      "array indexes of first and last pixel 35840 36863\n",
      "array indexes of first and last pixel 36864 37887\n",
      "* tstart 3000.0\n",
      "array indexes of first and last pixel 0 1023\n",
      "array indexes of first and last pixel 1024 2047\n",
      "array indexes of first and last pixel 2048 3071\n",
      "array indexes of first and last pixel 3072 4095\n",
      "array indexes of first and last pixel 4096 5119\n",
      "array indexes of first and last pixel 5120 6143\n",
      "array indexes of first and last pixel 6144 7167\n",
      "array indexes of first and last pixel 7168 8191\n",
      "array indexes of first and last pixel 8192 9215\n",
      "array indexes of first and last pixel 9216 10239\n",
      "array indexes of first and last pixel 10240 11263\n",
      "array indexes of first and last pixel 11264 12287\n",
      "array indexes of first and last pixel 12288 13311\n",
      "array indexes of first and last pixel 13312 14335\n",
      "array indexes of first and last pixel 14336 15359\n",
      "array indexes of first and last pixel 15360 16383\n",
      "array indexes of first and last pixel 16384 17407\n",
      "array indexes of first and last pixel 17408 18431\n",
      "array indexes of first and last pixel 18432 19455\n",
      "array indexes of first and last pixel 19456 20479\n",
      "array indexes of first and last pixel 30720 31743\n",
      "array indexes of first and last pixel 31744 32767\n",
      "array indexes of first and last pixel 32768 33791\n",
      "array indexes of first and last pixel 33792 34815\n",
      "array indexes of first and last pixel 34816 35839\n",
      "array indexes of first and last pixel 35840 36863\n",
      "array indexes of first and last pixel 36864 37887\n",
      "* tstart 4000.0\n",
      "array indexes of first and last pixel 0 1023\n",
      "array indexes of first and last pixel 1024 2047\n",
      "array indexes of first and last pixel 2048 3071\n",
      "array indexes of first and last pixel 3072 4095\n",
      "array indexes of first and last pixel 4096 5119\n",
      "array indexes of first and last pixel 5120 6143\n",
      "array indexes of first and last pixel 6144 7167\n",
      "array indexes of first and last pixel 7168 8191\n",
      "array indexes of first and last pixel 8192 9215\n",
      "array indexes of first and last pixel 9216 10239\n",
      "array indexes of first and last pixel 10240 11263\n",
      "array indexes of first and last pixel 11264 12287\n",
      "array indexes of first and last pixel 12288 13311\n",
      "array indexes of first and last pixel 13312 14335\n",
      "array indexes of first and last pixel 14336 15359\n",
      "array indexes of first and last pixel 15360 16383\n",
      "array indexes of first and last pixel 16384 17407\n",
      "array indexes of first and last pixel 17408 18431\n",
      "array indexes of first and last pixel 18432 19455\n",
      "array indexes of first and last pixel 19456 20479\n",
      "array indexes of first and last pixel 30720 31743\n",
      "array indexes of first and last pixel 31744 32767\n",
      "array indexes of first and last pixel 32768 33791\n",
      "array indexes of first and last pixel 33792 34815\n",
      "array indexes of first and last pixel 34816 35839\n",
      "array indexes of first and last pixel 35840 36863\n",
      "array indexes of first and last pixel 36864 37887\n",
      "* tstart 5000.0\n",
      "array indexes of first and last pixel 0 1023\n",
      "array indexes of first and last pixel 1024 2047\n",
      "array indexes of first and last pixel 2048 3071\n",
      "array indexes of first and last pixel 3072 4095\n",
      "array indexes of first and last pixel 4096 5119\n",
      "array indexes of first and last pixel 5120 6143\n",
      "array indexes of first and last pixel 6144 7167\n",
      "array indexes of first and last pixel 7168 8191\n",
      "array indexes of first and last pixel 8192 9215\n",
      "array indexes of first and last pixel 9216 10239\n",
      "array indexes of first and last pixel 10240 11263\n",
      "array indexes of first and last pixel 11264 12287\n",
      "array indexes of first and last pixel 12288 13311\n",
      "array indexes of first and last pixel 13312 14335\n",
      "array indexes of first and last pixel 14336 15359\n",
      "array indexes of first and last pixel 15360 16383\n",
      "array indexes of first and last pixel 16384 17407\n",
      "array indexes of first and last pixel 17408 18431\n",
      "array indexes of first and last pixel 18432 19455\n",
      "array indexes of first and last pixel 19456 20479\n",
      "array indexes of first and last pixel 30720 31743\n",
      "array indexes of first and last pixel 31744 32767\n",
      "array indexes of first and last pixel 32768 33791\n",
      "array indexes of first and last pixel 33792 34815\n",
      "array indexes of first and last pixel 34816 35839\n",
      "array indexes of first and last pixel 35840 36863\n",
      "array indexes of first and last pixel 36864 37887\n"
     ]
    },
    {
     "name": "stdout",
     "output_type": "stream",
     "text": [
      "CPU times: user 1h 51min 16s, sys: 31min 38s, total: 2h 22min 54s\n",
      "Wall time: 39min 12s\n"
     ]
    }
   ],
   "source": [
    "%%time\n",
    "nxs_files = ['/SNS/SEQ/IPTS-19573/nexus/SEQ_130273.nxs.h5']\n",
    "init_IDF = './SEQUOIA_Definition.xml'\n",
    "outdir = 'Si-I_tof'\n",
    "get_I_tof.get_I_tof(nxs_files, outdir, packs, dt = 1000., tofaxis=(500,1.e6/60/2.*1.05, -0.005))"
   ]
  },
  {
   "cell_type": "code",
   "execution_count": 13,
   "metadata": {
    "collapsed": true
   },
   "outputs": [],
   "source": [
    "# ls Si-I_tof/*-B*"
   ]
  },
  {
   "cell_type": "code",
   "execution_count": null,
   "metadata": {
    "collapsed": true
   },
   "outputs": [],
   "source": []
  }
 ],
 "metadata": {
  "kernelspec": {
   "display_name": "SSH ndav2 default-py2",
   "language": "python",
   "name": "rik_ssh_jptr_ndav2_mcvine"
  },
  "language_info": {
   "codemirror_mode": {
    "name": "ipython",
    "version": 2
   },
   "file_extension": ".py",
   "mimetype": "text/x-python",
   "name": "python",
   "nbconvert_exporter": "python",
   "pygments_lexer": "ipython2",
   "version": "2.7.12"
  }
 },
 "nbformat": 4,
 "nbformat_minor": 2
}
