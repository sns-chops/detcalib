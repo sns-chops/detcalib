{
 "cells": [
  {
   "cell_type": "markdown",
   "metadata": {},
   "source": [
    "# Summary\n",
    "Run # 19524, Vanadium shape?, Ei=1.5 meV"
   ]
  },
  {
   "cell_type": "code",
   "execution_count": 1,
   "metadata": {
    "collapsed": true
   },
   "outputs": [],
   "source": [
    "%matplotlib inline"
   ]
  },
  {
   "cell_type": "code",
   "execution_count": 2,
   "metadata": {
    "collapsed": true
   },
   "outputs": [],
   "source": [
    "from matplotlib import pyplot as plt\n",
    "import numpy as np, os\n",
    "from mantid import simpleapi as msa, mtd"
   ]
  },
  {
   "cell_type": "markdown",
   "metadata": {},
   "source": [
    "# Read data"
   ]
  },
  {
   "cell_type": "code",
   "execution_count": 3,
   "metadata": {
    "collapsed": true
   },
   "outputs": [],
   "source": [
    "w = msa.Load('/SNS/CNCS/IPTS-19524/nexus/CNCS_263851.nxs.h5')"
   ]
  },
  {
   "cell_type": "markdown",
   "metadata": {},
   "source": [
    "# Get Ei, T0, vi"
   ]
  },
  {
   "cell_type": "code",
   "execution_count": 4,
   "metadata": {},
   "outputs": [
    {
     "name": "stdout",
     "output_type": "stream",
     "text": [
      "1.55\n"
     ]
    }
   ],
   "source": [
    "print w.getRun()['EnergyRequest'].firstValue()"
   ]
  },
  {
   "cell_type": "code",
   "execution_count": 5,
   "metadata": {},
   "outputs": [
    {
     "name": "stdout",
     "output_type": "stream",
     "text": [
      "1.0\n"
     ]
    }
   ],
   "source": [
    "mode = w.run()['DoubleDiskMode'].timeAverageValue()\n",
    "print mode"
   ]
  },
  {
   "cell_type": "code",
   "execution_count": 6,
   "metadata": {},
   "outputs": [
    {
     "name": "stdout",
     "output_type": "stream",
     "text": [
      "98.884544573\n"
     ]
    }
   ],
   "source": [
    "Ei, _FMP, _FMI, T0 = msa.GetEi(w)\n",
    "print T0"
   ]
  },
  {
   "cell_type": "code",
   "execution_count": 7,
   "metadata": {},
   "outputs": [
    {
     "name": "stdout",
     "output_type": "stream",
     "text": [
      "98.884544573\n"
     ]
    }
   ],
   "source": [
    "if (mode!=1):T0-=5.91\n",
    "print T0"
   ]
  },
  {
   "cell_type": "code",
   "execution_count": 8,
   "metadata": {},
   "outputs": [
    {
     "data": {
      "text/plain": [
       "(1.55, 98.88454457299551)"
      ]
     },
     "execution_count": 8,
     "metadata": {},
     "output_type": "execute_result"
    }
   ],
   "source": [
    "Ei, T0"
   ]
  },
  {
   "cell_type": "code",
   "execution_count": 9,
   "metadata": {},
   "outputs": [
    {
     "data": {
      "text/plain": [
       "544.55860841602714"
      ]
     },
     "execution_count": 9,
     "metadata": {},
     "output_type": "execute_result"
    }
   ],
   "source": [
    "vi = 437.4*np.sqrt(Ei)\n",
    "vi"
   ]
  },
  {
   "cell_type": "markdown",
   "metadata": {},
   "source": [
    "# Get L1, t1"
   ]
  },
  {
   "cell_type": "code",
   "execution_count": 10,
   "metadata": {
    "collapsed": true
   },
   "outputs": [],
   "source": [
    "instr = w.getInstrument()"
   ]
  },
  {
   "cell_type": "code",
   "execution_count": 11,
   "metadata": {},
   "outputs": [
    {
     "name": "stdout",
     "output_type": "stream",
     "text": [
      "[0,0,-36.262]\n",
      "[0,0,0]\n"
     ]
    }
   ],
   "source": [
    "print instr.getSource().getPos()\n",
    "print instr.getSample().getPos()"
   ]
  },
  {
   "cell_type": "code",
   "execution_count": 14,
   "metadata": {},
   "outputs": [
    {
     "data": {
      "text/plain": [
       "36.262"
      ]
     },
     "execution_count": 14,
     "metadata": {},
     "output_type": "execute_result"
    }
   ],
   "source": [
    "L1 = (instr.getSample().getPos() - instr.getSource().getPos())[-1]\n",
    "L1"
   ]
  },
  {
   "cell_type": "code",
   "execution_count": 22,
   "metadata": {},
   "outputs": [
    {
     "data": {
      "text/plain": [
       "66589.710344449966"
      ]
     },
     "execution_count": 22,
     "metadata": {},
     "output_type": "execute_result"
    }
   ],
   "source": [
    "t1 = L1/vi*1e6\n",
    "t1"
   ]
  },
  {
   "cell_type": "markdown",
   "metadata": {},
   "source": [
    "# Calculate ROI taking one pixel as the example"
   ]
  },
  {
   "cell_type": "code",
   "execution_count": 15,
   "metadata": {},
   "outputs": [
    {
     "data": {
      "text/plain": [
       "3.4923309259727437"
      ]
     },
     "execution_count": 15,
     "metadata": {},
     "output_type": "execute_result"
    }
   ],
   "source": [
    "L2 = np.linalg.norm(instr.getDetector(40000).getPos())\n",
    "L2"
   ]
  },
  {
   "cell_type": "code",
   "execution_count": 16,
   "metadata": {},
   "outputs": [
    {
     "name": "stdout",
     "output_type": "stream",
     "text": [
      "73101.7354987\n"
     ]
    }
   ],
   "source": [
    "t_expected = (L1+L2)/vi * 1e6 + T0\n",
    "print t_expected"
   ]
  },
  {
   "cell_type": "markdown",
   "metadata": {},
   "source": [
    "Find ROI"
   ]
  },
  {
   "cell_type": "code",
   "execution_count": 17,
   "metadata": {},
   "outputs": [
    {
     "name": "stdout",
     "output_type": "stream",
     "text": [
      "69446 76756\n"
     ]
    }
   ],
   "source": [
    "tofbin_min = int(t_expected*.95) \n",
    "tofbin_max = int(t_expected*1.05) \n",
    "print tofbin_min, tofbin_max"
   ]
  },
  {
   "cell_type": "markdown",
   "metadata": {},
   "source": [
    "# Tof histogram"
   ]
  },
  {
   "cell_type": "code",
   "execution_count": 18,
   "metadata": {},
   "outputs": [
    {
     "data": {
      "text/plain": [
       "EventWorkspace\n",
       "Title: Detector Distances TiZr\n",
       "Histograms: 51200\n",
       "Bins: 7310\n",
       "Histogram\n",
       "X axis: Time-of-flight / microsecond\n",
       "Y axis: Counts\n",
       "Distribution: False\n",
       "Instrument: CNCS (2017-Aug-07 to 2100-Jan-31)Instrument from: /SNS/CNCS/IPTS-19524/nexus/CNCS_263851.nxs.h5\n",
       "\n",
       "Parameters from: /home/lj7/.mantid/instrument/CNCS_Parameters.xml\n",
       "Run start: 2017-Oct-30 06:42:27\n",
       "Run end:  2017-Oct-30 08:54:13\n",
       "\n",
       "Events: 14885123"
      ]
     },
     "execution_count": 18,
     "metadata": {},
     "output_type": "execute_result"
    }
   ],
   "source": [
    "msa.Rebin(InputWorkspace=w, OutputWorkspace=w, Params=\"%s,1.,%s\" % (tofbin_min, tofbin_max))"
   ]
  },
  {
   "cell_type": "markdown",
   "metadata": {},
   "source": [
    "# Calculate L2"
   ]
  },
  {
   "cell_type": "code",
   "execution_count": 19,
   "metadata": {
    "collapsed": true
   },
   "outputs": [],
   "source": [
    "N = w.getNumberHistograms()"
   ]
  },
  {
   "cell_type": "code",
   "execution_count": 23,
   "metadata": {
    "collapsed": true
   },
   "outputs": [],
   "source": [
    "def iterL2(pixel_start=0, pixel_end=N, min_counts=20):\n",
    "    for i in range(pixel_start, pixel_end):\n",
    "        if i%10000==0: print i\n",
    "        sp = w.getSpectrum(i)\n",
    "        pixelID = sp.getDetectorIDs()[0]\n",
    "        spectrum = w.readY(i)\n",
    "        nominal_L2 = np.linalg.norm(instr.getDetector(pixelID).getPos())\n",
    "        tot_counts = np.sum(spectrum)\n",
    "        if tot_counts == 0:\n",
    "            yield i, pixelID, nominal_L2, -1, tot_counts # dets not installed\n",
    "            continue\n",
    "        nominal_TOF = (L1+nominal_L2)/vi * 1e6 + T0\n",
    "        center_bin = int(nominal_TOF) - tofbin_min\n",
    "        subset = spectrum[center_bin-100: center_bin+100]\n",
    "        center = np.dot(subset, np.arange(center_bin-100+.5, center_bin+100+.5))/np.sum(subset)\n",
    "        t = center + tofbin_min\n",
    "        L2 = (t - t1 - T0)*vi/1e6\n",
    "        # assert abs(nominal_L2-L2)/nominal_L2<0.1\n",
    "        yield i, pixelID, nominal_L2, L2, tot_counts\n",
    "        continue"
   ]
  },
  {
   "cell_type": "markdown",
   "metadata": {},
   "source": [
    "## Try some pixels"
   ]
  },
  {
   "cell_type": "code",
   "execution_count": 24,
   "metadata": {
    "scrolled": true
   },
   "outputs": [
    {
     "name": "stdout",
     "output_type": "stream",
     "text": [
      "40000\n",
      "CPU times: user 8 ms, sys: 0 ns, total: 8 ms\n",
      "Wall time: 6.11 ms\n"
     ]
    }
   ],
   "source": [
    "%%time\n",
    "L2s = list(iterL2(min_counts=1, pixel_start=40000, pixel_end=40010))"
   ]
  },
  {
   "cell_type": "code",
   "execution_count": 25,
   "metadata": {},
   "outputs": [
    {
     "data": {
      "text/plain": [
       "[(40000, 40000, 3.4923309259727437, 3.4973095031107966, 207.0),\n",
       " (40001, 40001, 3.4924008329164686, 3.4970864777460759, 198.0),\n",
       " (40002, 40002, 3.4925406426061305, 3.4981852116259446, 189.0),\n",
       " (40003, 40003, 3.4927503466474157, 3.4949487195349991, 206.0),\n",
       " (40004, 40004, 3.4930299324520027, 3.4932694212336224, 190.0),\n",
       " (40005, 40005, 3.4933793832413396, 3.496168423511969, 216.0),\n",
       " (40006, 40006, 3.4937986780516765, 3.4976638280392272, 213.0),\n",
       " (40007, 40007, 3.4942877917403488, 3.4967285702387394, 229.0),\n",
       " (40008, 40008, 3.4948466949933072, 3.4947281193686601, 197.0),\n",
       " (40009, 40009, 3.4954753543338914, 3.4968333090975263, 195.0)]"
      ]
     },
     "execution_count": 25,
     "metadata": {},
     "output_type": "execute_result"
    }
   ],
   "source": [
    "L2s"
   ]
  },
  {
   "cell_type": "markdown",
   "metadata": {},
   "source": [
    "## Run all"
   ]
  },
  {
   "cell_type": "code",
   "execution_count": 26,
   "metadata": {},
   "outputs": [
    {
     "name": "stdout",
     "output_type": "stream",
     "text": [
      "0\n"
     ]
    },
    {
     "name": "stderr",
     "output_type": "stream",
     "text": [
      "/home/lj7/miniconda2/envs/mcvine/lib/python2.7/site-packages/ipykernel/__main__.py:15: RuntimeWarning: invalid value encountered in double_scalars\n"
     ]
    },
    {
     "name": "stdout",
     "output_type": "stream",
     "text": [
      "10000\n",
      "20000\n",
      "30000\n",
      "40000\n",
      "50000\n",
      "CPU times: user 11.2 s, sys: 2.03 s, total: 13.3 s\n",
      "Wall time: 8.36 s\n"
     ]
    }
   ],
   "source": [
    "%%time\n",
    "L2s = list(iterL2(min_counts=50))"
   ]
  },
  {
   "cell_type": "code",
   "execution_count": 27,
   "metadata": {},
   "outputs": [],
   "source": [
    "L2_arr = np.array(L2s)"
   ]
  },
  {
   "cell_type": "code",
   "execution_count": 28,
   "metadata": {
    "collapsed": true
   },
   "outputs": [],
   "source": [
    "#Debug code:\n",
    "#L2s[:10]"
   ]
  },
  {
   "cell_type": "code",
   "execution_count": 29,
   "metadata": {},
   "outputs": [
    {
     "data": {
      "text/plain": [
       "array([ 0.       ,  0.       ,  3.6357064,        nan,  5.       ])"
      ]
     },
     "execution_count": 29,
     "metadata": {},
     "output_type": "execute_result"
    }
   ],
   "source": [
    "L2_arr[0]"
   ]
  },
  {
   "cell_type": "markdown",
   "metadata": {},
   "source": [
    "# Inspect a pack"
   ]
  },
  {
   "cell_type": "code",
   "execution_count": 30,
   "metadata": {},
   "outputs": [
    {
     "data": {
      "text/plain": [
       "<matplotlib.colorbar.Colorbar at 0x7f90f0bb80d0>"
      ]
     },
     "execution_count": 30,
     "metadata": {},
     "output_type": "execute_result"
    },
    {
     "data": {
      "image/png": "[encoded data removed]",
      "text/plain": [
       "<matplotlib.figure.Figure at 0x7f91063271d0>"
      ]
     },
     "metadata": {},
     "output_type": "display_data"
    }
   ],
   "source": [
    "pack = 10\n",
    "\n",
    "plt.figure()\n",
    "sl = slice(pack*1024, (pack+1)*1024)\n",
    "view = L2_arr[:, 2][sl].view()\n",
    "view.shape = 8, 128\n",
    "plt.subplot(1,3,1)\n",
    "plt.title('original')\n",
    "plt.imshow(view.T)\n",
    "plt.clim(3.35, 3.65)\n",
    "plt.colorbar()\n",
    "\n",
    "view = L2_arr[:, 3][sl].view()\n",
    "view.shape = 8, 128\n",
    "plt.subplot(1,3,2)\n",
    "plt.title('new')\n",
    "plt.imshow(view.T)\n",
    "plt.clim(3.35, 3.65)\n",
    "plt.colorbar()\n",
    "\n",
    "\n",
    "view = L2_arr[:, 3][sl]-L2_arr[:, 2][sl]\n",
    "view.shape = 8, 128\n",
    "plt.subplot(1,3,3)\n",
    "plt.title('diff')\n",
    "plt.imshow(view.T)\n",
    "plt.clim(-.01, .01)\n",
    "plt.colorbar()\n"
   ]
  },
  {
   "cell_type": "markdown",
   "metadata": {},
   "source": [
    "# Save mantid ws"
   ]
  },
  {
   "cell_type": "code",
   "execution_count": 31,
   "metadata": {
    "collapsed": true
   },
   "outputs": [],
   "source": [
    "L2table = msa.CreateEmptyTableWorkspace()"
   ]
  },
  {
   "cell_type": "code",
   "execution_count": 32,
   "metadata": {},
   "outputs": [
    {
     "name": "stdout",
     "output_type": "stream",
     "text": [
      "CPU times: user 220 ms, sys: 44 ms, total: 264 ms\n",
      "Wall time: 216 ms\n"
     ]
    }
   ],
   "source": [
    "%%time\n",
    "L2table.addColumn(type='int', name='detid')\n",
    "L2table.addColumn(type='float', name=\"L2\")\n",
    "L2table.addColumn(type='int', name=\"nodata\")\n",
    "\n",
    "for spectrumNo, pixelID, L2_0, L2, tot_counts in L2s:\n",
    "    row = dict(detid=pixelID, L2=L2, nodata=int(L2<0))\n",
    "    L2table.addRow(row)"
   ]
  },
  {
   "cell_type": "code",
   "execution_count": 33,
   "metadata": {
    "collapsed": true
   },
   "outputs": [],
   "source": [
    "msa.SaveNexus(L2table, 'L2table.nxs')"
   ]
  }
 ],
 "metadata": {
  "kernelspec": {
   "display_name": "mcvine",
   "language": "python",
   "name": "mcvine"
  },
  "language_info": {
   "codemirror_mode": {
    "name": "ipython",
    "version": 2
   },
   "file_extension": ".py",
   "mimetype": "text/x-python",
   "name": "python",
   "nbconvert_exporter": "python",
   "pygments_lexer": "ipython2",
   "version": "2.7.12"
  }
 },
 "nbformat": 4,
 "nbformat_minor": 2
}
